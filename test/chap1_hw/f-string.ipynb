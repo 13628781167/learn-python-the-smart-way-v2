{
 "cells": [
  {
   "cell_type": "markdown",
   "metadata": {},
   "source": [
    "# f-String\n",
    "\n",
    "## 题目描述\n",
    "\n",
    "给定两个整数，按照要求的格式，输出它们之间的乘积。\n",
    "\n",
    "## 输入格式\n",
    "\n",
    "两个整数，用空格分隔。\n",
    "\n",
    "## 输出格式\n",
    "\n",
    "按照“the product of … and … is: …”的格式输出这两个整数的乘积。\n",
    "\n",
    "详细情况请参照输入/输出样例。\n",
    "\n",
    "## 输入样例\n",
    "\n",
    "3 3\n",
    "\n",
    "## 输出样例\n",
    "\n",
    "```bash\n",
    "the product of 3 and 3 is: 9\n",
    "```\n",
    "\n",
    "## 提示说明\n",
    "\n",
    "由于难度问题，我们这里给出程序模板，请在注释说明的部分补全你的代码\n",
    "\n",
    "模板：\n",
    "\n",
    "```python\n",
    "a, b = map(int, input().split())\n",
    "\n",
    "# 现在程序中有两个名叫 “a” 和 “b” 的整数\n",
    "# 在这行注释下面，编写代码，输出你的答案\n",
    "```"
   ]
  },
  {
   "cell_type": "code",
   "execution_count": 2,
   "metadata": {},
   "outputs": [
    {
     "name": "stdout",
     "output_type": "stream",
     "text": [
      "the product of 1 and 2 is: 2\n"
     ]
    }
   ],
   "source": [
    "# 题解\n",
    "a, b = map(int, input().split())\n",
    "\n",
    "print(f\"the product of {a} and {b} is: {a*b}\")"
   ]
  }
 ],
 "metadata": {
  "kernelspec": {
   "display_name": "Python 3.9.12 ('base')",
   "language": "python",
   "name": "python3"
  },
  "language_info": {
   "codemirror_mode": {
    "name": "ipython",
    "version": 3
   },
   "file_extension": ".py",
   "mimetype": "text/x-python",
   "name": "python",
   "nbconvert_exporter": "python",
   "pygments_lexer": "ipython3",
   "version": "3.9.12"
  },
  "orig_nbformat": 4,
  "vscode": {
   "interpreter": {
    "hash": "4caab8d2079a16ff6629dc636b2b875270bef30876e13b3067f2f52c1c879e32"
   }
  }
 },
 "nbformat": 4,
 "nbformat_minor": 2
}
