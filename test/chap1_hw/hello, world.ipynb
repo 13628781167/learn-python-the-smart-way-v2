{
 "cells": [
  {
   "cell_type": "markdown",
   "metadata": {},
   "source": [
    "# Hello World\n",
    "\n",
    "## 题目描述\n",
    "\n",
    "我们学到了第一个代码，Hello, World!\n",
    "\n",
    "请在这里提交你的第一个程序吧，它应该会输出 `hello, world`\n",
    "\n",
    "## 输入格式\n",
    "\n",
    "无\n",
    "\n",
    "## 输出格式\n",
    "\n",
    "无\n",
    "\n",
    "## 输入样例\n",
    "\n",
    "无输入\n",
    "\n",
    "## 输出样例\n",
    "\n",
    "```bash\n",
    "hello, world\n",
    "```\n",
    "\n",
    "## 提示说明\n",
    "\n",
    "- 请记住：**使用英文标点符号**，否则会有语法错误\n",
    "- 仔细一些，**小心拼写错误**\n",
    "- 如果你不知道该怎么做，请联系助教"
   ]
  },
  {
   "cell_type": "code",
   "execution_count": 1,
   "metadata": {},
   "outputs": [
    {
     "name": "stdout",
     "output_type": "stream",
     "text": [
      "hello, world\n"
     ]
    }
   ],
   "source": [
    "# 题解\n",
    "print(\"hello, world\")"
   ]
  }
 ],
 "metadata": {
  "kernelspec": {
   "display_name": "Python 3.9.12 ('base')",
   "language": "python",
   "name": "python3"
  },
  "language_info": {
   "codemirror_mode": {
    "name": "ipython",
    "version": 3
   },
   "file_extension": ".py",
   "mimetype": "text/x-python",
   "name": "python",
   "nbconvert_exporter": "python",
   "pygments_lexer": "ipython3",
   "version": "3.9.12"
  },
  "orig_nbformat": 4,
  "vscode": {
   "interpreter": {
    "hash": "4caab8d2079a16ff6629dc636b2b875270bef30876e13b3067f2f52c1c879e32"
   }
  }
 },
 "nbformat": 4,
 "nbformat_minor": 2
}
