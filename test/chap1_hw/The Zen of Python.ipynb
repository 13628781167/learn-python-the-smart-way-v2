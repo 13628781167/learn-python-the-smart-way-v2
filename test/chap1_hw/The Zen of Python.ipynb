{
 "cells": [
  {
   "cell_type": "markdown",
   "metadata": {},
   "source": [
    "# The Zen of Python\n",
    "\n",
    "## 题目描述\n",
    "\n",
    "还记得我们在 Chap 0 安装 Installation 提到的作业，“Python 之禅”吗？我们现在来试试来导入它吧。\n",
    "\n",
    "## 输入格式\n",
    "\n",
    "无\n",
    "\n",
    "## 输出格式\n",
    "\n",
    "输出 Python 之禅\n",
    "\n",
    "## 输入样例\n",
    "\n",
    "无\n",
    "\n",
    "## 输出样例\n",
    "\n",
    "无需样例，这道题不需要用到 `print()`，请查阅“提示说明”中 Python 之禅的调用方法。\n",
    "\n",
    "## 提示说明\n",
    "\n",
    "[PEP 20 – The Zen of Python](https://peps.python.org/pep-0020/#:~:text=%EE%80%80The%20Zen%20of%20Python%EE%80%81.%20Beautiful%20is%20better%20than,cases%20aren%27t%20special%20enough%20to%20break%20the%20rules.)"
   ]
  },
  {
   "cell_type": "code",
   "execution_count": 1,
   "metadata": {},
   "outputs": [
    {
     "name": "stdout",
     "output_type": "stream",
     "text": [
      "The Zen of Python, by Tim Peters\n",
      "\n",
      "Beautiful is better than ugly.\n",
      "Explicit is better than implicit.\n",
      "Simple is better than complex.\n",
      "Complex is better than complicated.\n",
      "Flat is better than nested.\n",
      "Sparse is better than dense.\n",
      "Readability counts.\n",
      "Special cases aren't special enough to break the rules.\n",
      "Although practicality beats purity.\n",
      "Errors should never pass silently.\n",
      "Unless explicitly silenced.\n",
      "In the face of ambiguity, refuse the temptation to guess.\n",
      "There should be one-- and preferably only one --obvious way to do it.\n",
      "Although that way may not be obvious at first unless you're Dutch.\n",
      "Now is better than never.\n",
      "Although never is often better than *right* now.\n",
      "If the implementation is hard to explain, it's a bad idea.\n",
      "If the implementation is easy to explain, it may be a good idea.\n",
      "Namespaces are one honking great idea -- let's do more of those!\n"
     ]
    }
   ],
   "source": [
    "# 题解\n",
    "import this"
   ]
  }
 ],
 "metadata": {
  "kernelspec": {
   "display_name": "Python 3.9.12 ('base')",
   "language": "python",
   "name": "python3"
  },
  "language_info": {
   "codemirror_mode": {
    "name": "ipython",
    "version": 3
   },
   "file_extension": ".py",
   "mimetype": "text/x-python",
   "name": "python",
   "nbconvert_exporter": "python",
   "pygments_lexer": "ipython3",
   "version": "3.9.12"
  },
  "orig_nbformat": 4,
  "vscode": {
   "interpreter": {
    "hash": "4caab8d2079a16ff6629dc636b2b875270bef30876e13b3067f2f52c1c879e32"
   }
  }
 },
 "nbformat": 4,
 "nbformat_minor": 2
}
