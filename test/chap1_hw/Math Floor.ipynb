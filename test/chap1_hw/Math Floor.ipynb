{
 "cells": [
  {
   "cell_type": "markdown",
   "metadata": {},
   "source": [
    "# Math Floor\n",
    "\n",
    "## 题目描述\n",
    "\n",
    "在数学中，有一种函数叫做“向下取整”函数，或者说“向下舍入”、“向零取舍”，即取不大于 x 的最大整数，与“四舍五入”不同，下取整是直接取按照数轴上最接近要求值的左边值，即不大于要求值的最大的那个整数值。\n",
    "\n",
    "[Floor Function](https://mathworld.wolfram.com/FloorFunction.html#:~:text=The%20floor%20function%20%2C%20also%20called%20the%20greatest,by%20K.%20E.%20Iverson%20%28Graham%20et%20al.%201994%29.)\n",
    "\n",
    "## 输入格式\n",
    "\n",
    "一个浮点数（小数）\n",
    "\n",
    "## 输出格式\n",
    "\n",
    "输出它的向下取整后的值\n",
    "\n",
    "## 输入样例\n",
    "\n",
    "2.5\n",
    "\n",
    "## 输出样例\n",
    "\n",
    "2\n",
    "\n",
    "## 提示说明\n",
    "[Python math.floor() 方法](https://www.runoob.com/python3/ref-math-floor.html)\n",
    "\n",
    "由于难度问题，我们这里给出程序模板，请在注释说明的部分补全你的代码\n",
    "\n",
    "模板：\n",
    "\n",
    "```python\n",
    "a = map(float, input())\n",
    "\n",
    "# 现在程序中有一个名叫 “a” 的浮点数\n",
    "# 在这行注释下面，编写代码，输出你的答案\n",
    "```"
   ]
  },
  {
   "cell_type": "code",
   "execution_count": 2,
   "metadata": {},
   "outputs": [
    {
     "name": "stdout",
     "output_type": "stream",
     "text": [
      "10\n"
     ]
    }
   ],
   "source": [
    "# 题解\n",
    "a = float(input())\n",
    "\n",
    "import math\n",
    "\n",
    "print(math.floor(a))"
   ]
  }
 ],
 "metadata": {
  "kernelspec": {
   "display_name": "Python 3.9.12 ('base')",
   "language": "python",
   "name": "python3"
  },
  "language_info": {
   "codemirror_mode": {
    "name": "ipython",
    "version": 3
   },
   "file_extension": ".py",
   "mimetype": "text/x-python",
   "name": "python",
   "nbconvert_exporter": "python",
   "pygments_lexer": "ipython3",
   "version": "3.9.12"
  },
  "orig_nbformat": 4,
  "vscode": {
   "interpreter": {
    "hash": "4caab8d2079a16ff6629dc636b2b875270bef30876e13b3067f2f52c1c879e32"
   }
  }
 },
 "nbformat": 4,
 "nbformat_minor": 2
}
