{
 "cells": [
  {
   "attachments": {},
   "cell_type": "markdown",
   "metadata": {},
   "source": [
    "# for loops and range [Pre-reading]"
   ]
  },
  {
   "cell_type": "code",
   "execution_count": null,
   "metadata": {},
   "outputs": [],
   "source": [
    "# A for loop repeats an action a specific number of times\n",
    "# based on the provided range\n",
    "def sumFromMToN(m, n):\n",
    "    total = 0\n",
    "    # note that range(x, y) includes x but excludes y\n",
    "    for x in range(m, n+1):\n",
    "        total += x\n",
    "    return total\n",
    "\n",
    "print(sumFromMToN(5, 10) == 5+6+7+8+9+10)"
   ]
  },
  {
   "attachments": {},
   "cell_type": "markdown",
   "metadata": {},
   "source": [
    "Actually, we don't need a loop here..."
   ]
  },
  {
   "cell_type": "code",
   "execution_count": null,
   "metadata": {},
   "outputs": [],
   "source": [
    "def sumFromMToN(m, n):\n",
    "    return sum(range(m, n+1))\n",
    "\n",
    "print(sumFromMToN(5, 10) == 5+6+7+8+9+10)\n",
    "\n",
    "# And we can even do this with a closed-form formula,\n",
    "# which is the fastest way, but which doesn't really\n",
    "# help us demonstrate loops.  :-)\n",
    "\n",
    "def sumToN(n):\n",
    "    # helper function\n",
    "    return n*(n+1)//2\n",
    "\n",
    "def sumFromMToN_byFormula(m, n):\n",
    "    return (sumToN(n) - sumToN(m-1))\n",
    "\n",
    "print(sumFromMToN_byFormula(5, 10) == 5+6+7+8+9+10)"
   ]
  },
  {
   "attachments": {},
   "cell_type": "markdown",
   "metadata": {},
   "source": [
    "What if we omit the first parameter?"
   ]
  },
  {
   "cell_type": "code",
   "execution_count": null,
   "metadata": {},
   "outputs": [],
   "source": [
    "def sumToN(n):\n",
    "    total = 0\n",
    "    # range defaults the starting number to 0\n",
    "    for x in range(n+1):\n",
    "        total += x\n",
    "    return total\n",
    "\n",
    "print(sumToN(5) == 0+1+2+3+4+5)"
   ]
  },
  {
   "attachments": {},
   "cell_type": "markdown",
   "metadata": {},
   "source": [
    "What if we add a third parameter?\n"
   ]
  },
  {
   "cell_type": "code",
   "execution_count": null,
   "metadata": {},
   "outputs": [],
   "source": [
    "def sumEveryKthFromMToN(m, n, k):\n",
    "    total = 0\n",
    "    # the third parameter becomes a step\n",
    "    for x in range(m, n+1, k):\n",
    "        total += x\n",
    "    return total\n",
    "\n",
    "print(sumEveryKthFromMToN(5, 20, 7) == (5 + 12 + 19))"
   ]
  },
  {
   "attachments": {},
   "cell_type": "markdown",
   "metadata": {},
   "source": [
    "Sum just odd numbers from m to n:\n"
   ]
  },
  {
   "cell_type": "code",
   "execution_count": null,
   "metadata": {},
   "outputs": [],
   "source": [
    "# We can also change the step by changing the inside of the loop\n",
    "def sumOfOddsFromMToN(m, n):\n",
    "    total = 0\n",
    "    for x in range(m, n+1):\n",
    "        if x % 2 == 1:\n",
    "            total += x\n",
    "    return total\n",
    "\n",
    "print(sumOfOddsFromMToN(4, 10) == sumOfOddsFromMToN(5,9) == (5+7+9))"
   ]
  },
  {
   "attachments": {},
   "cell_type": "markdown",
   "metadata": {},
   "source": [
    "Now do it backwards!\n"
   ]
  },
  {
   "cell_type": "code",
   "execution_count": null,
   "metadata": {},
   "outputs": [],
   "source": [
    "# Here we will range in reverse\n",
    "# (not wise in this case, but instructional)\n",
    "def sumOfOddsFromMToN(m, n):\n",
    "    total = 0\n",
    "    for x in range(n, m-1, -1):\n",
    "        if x % 2 == 1:\n",
    "            total += x\n",
    "    return total\n",
    "\n",
    "print(sumOfOddsFromMToN(4, 10) == sumOfOddsFromMToN(5,9) == (5+7+9))"
   ]
  },
  {
   "attachments": {},
   "cell_type": "markdown",
   "metadata": {},
   "source": [
    "Yet more ways to approach the problem:  "
   ]
  },
  {
   "cell_type": "markdown",
   "metadata": {},
   "source": [
    "# Nested for loops [Pre-reading]\n"
   ]
  },
  {
   "cell_type": "code",
   "execution_count": null,
   "metadata": {},
   "outputs": [],
   "source": [
    "# We can put loops inside of loops to repeat actions at multiple levels\n",
    "# This prints the coordinates\n",
    "def printCoordinates(xMax, yMax):\n",
    "    for x in range(xMax+1):\n",
    "        for y in range(yMax+1):\n",
    "            print(f\"( {x} , {y} )  \", end=\"\")\n",
    "        print()\n",
    "\n",
    "printCoordinates(4, 5)"
   ]
  },
  {
   "attachments": {},
   "cell_type": "markdown",
   "metadata": {},
   "source": [
    "How about some stars?\n"
   ]
  },
  {
   "cell_type": "code",
   "execution_count": null,
   "metadata": {},
   "outputs": [],
   "source": [
    "def printStarRectangle(n):\n",
    "    # print an nxn rectangle of asterisks\n",
    "    for row in range(n):\n",
    "        for col in range(n):\n",
    "            print(\"*\", end=\"\")\n",
    "        print()\n",
    "\n",
    "printStarRectangle(5)"
   ]
  },
  {
   "cell_type": "markdown",
   "metadata": {},
   "source": [
    "And again:\n"
   ]
  },
  {
   "cell_type": "code",
   "execution_count": null,
   "metadata": {},
   "outputs": [],
   "source": [
    "# What would this do? Be careful and be precise!\n",
    "\n",
    "def printMysteryStarShape(n):\n",
    "    for row in range(n):\n",
    "        print(row, end=\" \")\n",
    "        for col in range(row):\n",
    "            print(\"*\", end=\" \")\n",
    "        print()\n",
    "\n",
    "printMysteryStarShape(5)"
   ]
  },
  {
   "attachments": {},
   "cell_type": "markdown",
   "metadata": {},
   "source": [
    "# while loops [Pre-reading]\n"
   ]
  },
  {
   "cell_type": "code",
   "execution_count": null,
   "metadata": {},
   "outputs": [],
   "source": [
    "# use while loops when there is an indeterminate number of iterations\n",
    "\n",
    "def leftmostDigit(n):\n",
    "    n = abs(n)\n",
    "    while n >= 10:\n",
    "        n = n//10\n",
    "    return n\n",
    "\n",
    "print(leftmostDigit(72658489290098) == 7)"
   ]
  },
  {
   "cell_type": "markdown",
   "metadata": {},
   "source": [
    "Example: nth non-negative integer with some property\n"
   ]
  },
  {
   "cell_type": "code",
   "execution_count": null,
   "metadata": {},
   "outputs": [],
   "source": [
    "# eg: find the nth number that is a multiple of either 4 or 7\n",
    "def isMultipleOf4or7(x):\n",
    "    return ((x % 4) == 0) or ((x % 7) == 0)\n",
    "\n",
    "def nthMultipleOf4or7(n):\n",
    "    found = 0\n",
    "    guess = -1\n",
    "    while found <= n:\n",
    "        guess += 1\n",
    "        if isMultipleOf4or7(guess):\n",
    "            found += 1\n",
    "    return guess\n",
    "\n",
    "print(\"Multiples of 4 or 7: \", end=\"\")\n",
    "for n in range(15):\n",
    "    print(nthMultipleOf4or7(n), end=\" \")\n",
    "print()"
   ]
  },
  {
   "attachments": {},
   "cell_type": "markdown",
   "metadata": {},
   "source": [
    "Misuse: While loop over a fixed range\n"
   ]
  },
  {
   "cell_type": "code",
   "execution_count": null,
   "metadata": {},
   "outputs": [],
   "source": [
    "# sum numbers from 1 to 10\n",
    "# note:  this works, but you should not use \"while\" here.\n",
    "#        instead, do this with \"for\" (once you know how)\n",
    "def sumToN(n):\n",
    "    # note: even though this works, it is bad style.\n",
    "    # You should do this with a \"for\" loop, not a \"while\" loop.\n",
    "    total = 0\n",
    "    counter = 1\n",
    "    while counter <= n:\n",
    "        total += counter\n",
    "        counter += 1\n",
    "    return total\n",
    "\n",
    "print(sumToN(5) == 1+2+3+4+5)"
   ]
  },
  {
   "cell_type": "markdown",
   "metadata": {},
   "source": [
    "# break and continue\n"
   ]
  },
  {
   "cell_type": "code",
   "execution_count": null,
   "metadata": {},
   "outputs": [],
   "source": [
    "# continue, break, and pass are three keywords used in loops\n",
    "# in order to change the program flow\n",
    "for n in range(200):\n",
    "    if n % 3 == 0:\n",
    "        continue # skips rest of this pass\n",
    "    elif n == 8:\n",
    "        break # skips rest of entire loop\n",
    "    else:\n",
    "        pass # does nothing! pass is a placeholder, not needed here\n",
    "    print(n, end=\" \")\n",
    "print()"
   ]
  },
  {
   "cell_type": "markdown",
   "metadata": {},
   "source": [
    "Infinite \"while\" loop with break:\n"
   ]
  },
  {
   "cell_type": "code",
   "execution_count": null,
   "metadata": {},
   "outputs": [],
   "source": [
    "# Note- this is advanced content, as it uses strings. It's okay\n",
    "# to not fully understand the content below.\n",
    "def readUntilDone():\n",
    "    linesEntered = 0\n",
    "    while True:\n",
    "        response = input(\"Enter a string (or 'done' to quit): \")\n",
    "        if response == \"done\":\n",
    "            break\n",
    "        print(\"  You entered: \", response)\n",
    "        linesEntered += 1\n",
    "    print(\"Bye!\")\n",
    "    return linesEntered\n",
    "\n",
    "linesEntered = readUntilDone()\n",
    "print(\"You entered\", linesEntered, \"lines (not counting 'done').\")"
   ]
  },
  {
   "cell_type": "markdown",
   "metadata": {},
   "source": [
    "# isPrime\n"
   ]
  },
  {
   "cell_type": "code",
   "execution_count": null,
   "metadata": {},
   "outputs": [],
   "source": [
    "# Note: there are faster/better ways.  We're just going for clarity and simplicity here.\n",
    "def isPrime(n):\n",
    "    if n < 2:\n",
    "        return False\n",
    "    for factor in range(2,n):\n",
    "        if n % factor == 0:\n",
    "            return False\n",
    "    return True\n",
    "\n",
    "# And take it for a spin\n",
    "for n in range(100):\n",
    "    if isPrime(n):\n",
    "        print(n, end=\" \")\n",
    "print()"
   ]
  },
  {
   "attachments": {},
   "cell_type": "markdown",
   "metadata": {},
   "source": [
    "fasterIsPrime:\n"
   ]
  },
  {
   "cell_type": "code",
   "execution_count": null,
   "metadata": {},
   "outputs": [],
   "source": [
    "# Note: this is still not the fastest way, but it's a nice improvement.\n",
    "def fasterIsPrime(n):\n",
    "    if n < 2:\n",
    "        return False\n",
    "    if n == 2:\n",
    "        return True\n",
    "    if n % 2 == 0:\n",
    "        return False\n",
    "    maxFactor = round(n**0.5)\n",
    "    for factor in range(3,maxFactor+1,2):\n",
    "        if n % factor == 0:\n",
    "            return False\n",
    "    return True\n",
    "\n",
    "# And try out this version:\n",
    "for n in range(100):\n",
    "    if fasterIsPrime(n):\n",
    "        print(n, end=\" \")\n",
    "print()"
   ]
  },
  {
   "cell_type": "markdown",
   "metadata": {},
   "source": [
    "Verify fasterIsPrime is faster:\n"
   ]
  },
  {
   "cell_type": "code",
   "execution_count": null,
   "metadata": {},
   "outputs": [],
   "source": [
    "def isPrime(n):\n",
    "    if n < 2:\n",
    "        return False\n",
    "    for factor in range(2,n):\n",
    "        if n % factor == 0:\n",
    "            return False\n",
    "    return True\n",
    "\n",
    "def fasterIsPrime(n):\n",
    "    if n < 2:\n",
    "        return False\n",
    "    if n == 2:\n",
    "        return True\n",
    "    if n % 2 == 0:\n",
    "        return False\n",
    "    maxFactor = round(n**0.5)\n",
    "    for factor in range(3,maxFactor+1,2):\n",
    "        if n % factor == 0:\n",
    "            return False\n",
    "    return True\n",
    "\n",
    "# Verify these are the same\n",
    "for n in range(100):\n",
    "    assert(isPrime(n) == fasterIsPrime(n))\n",
    "print(\"They seem to work the same!\")\n",
    "\n",
    "# Now let's see if we really sped things up\n",
    "import time\n",
    "bigPrime = 499 # Try 1010809, or 10101023, or 102030407\n",
    "print(\"Timing isPrime(\",bigPrime,\")\", end=\" \")\n",
    "time0 = time.time()\n",
    "print(\", returns \", isPrime(bigPrime), end=\" \")\n",
    "time1 = time.time()\n",
    "print(\", time = \",(time1-time0)*1000,\"ms\")\n",
    "\n",
    "print(\"Timing fasterIsPrime(\",bigPrime,\")\", end=\" \")\n",
    "time0 = time.time()\n",
    "print(\", returns \", fasterIsPrime(bigPrime), end=\" \")\n",
    "time1 = time.time()\n",
    "print(\", time = \",(time1-time0)*1000,\"ms\")"
   ]
  },
  {
   "attachments": {},
   "cell_type": "markdown",
   "metadata": {},
   "source": [
    "nthPrime\n"
   ]
  },
  {
   "cell_type": "code",
   "execution_count": null,
   "metadata": {},
   "outputs": [],
   "source": [
    "def isPrime(n):\n",
    "    if n < 2:\n",
    "        return False\n",
    "    if n == 2:\n",
    "        return True\n",
    "    if n % 2 == 0:\n",
    "        return False\n",
    "    maxFactor = round(n**0.5)\n",
    "    for factor in range(3,maxFactor+1,2):\n",
    "        if n % factor == 0:\n",
    "            return False\n",
    "    return True\n",
    "\n",
    "# Adapt the \"nth\" pattern we used above in nthMultipleOf4or7()\n",
    "\n",
    "def nthPrime(n):\n",
    "    found = 0\n",
    "    guess = 0\n",
    "    while found <= n:\n",
    "        guess += 1\n",
    "        if isPrime(guess):\n",
    "            found += 1\n",
    "    return guess\n",
    "\n",
    "# and let's see a list of the primes\n",
    "for n in range(10):\n",
    "    print(n, nthPrime(n))\n",
    "print(\"Done!\")"
   ]
  }
 ],
 "metadata": {
  "kernelspec": {
   "display_name": "p2s",
   "language": "python",
   "name": "python3"
  },
  "language_info": {
   "name": "python",
   "version": "3.9.15"
  },
  "orig_nbformat": 4,
  "vscode": {
   "interpreter": {
    "hash": "2604979e475c72c3999e63049dbb75eb38f7d29b6d0ace0384f7e020f0ee1ffa"
   }
  }
 },
 "nbformat": 4,
 "nbformat_minor": 2
}
