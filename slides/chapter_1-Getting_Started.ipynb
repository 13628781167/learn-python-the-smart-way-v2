{
 "cells": [
  {
   "cell_type": "markdown",
   "id": "2a9bbd2c",
   "metadata": {
    "slideshow": {
     "slide_type": "slide"
    }
   },
   "source": [
    "# 聪明办法学 Python 2nd Edition (Beta)\n",
    "## Chapter 1 启航 Getting Started\n",
    "\n",
    "骆秀韬\n",
    "\n",
    "<p>epsilon_luoo@outlook.com</p>"
   ]
  },
  {
   "cell_type": "markdown",
   "id": "5c127a52",
   "metadata": {
    "slideshow": {
     "slide_type": "slide"
    }
   },
   "source": [
    "# 欢迎大家来到 P2S！\n",
    "\n",
    "迈出成为 AI 训练大师的第一步！\n",
    "\n",
    "![AI Master](../resources/slides/chap1/pic/chap1_1_AIMaster.jpg)"
   ]
  },
  {
   "cell_type": "markdown",
   "id": "202d5255",
   "metadata": {
    "slideshow": {
     "slide_type": "slide"
    }
   },
   "source": [
    "# 大纲\n",
    "- 第一行代码\n",
    "- 注释\n",
    "- 基础输出\n",
    "- 错误\n",
    "- 基础输入\n",
    "- 导入模块"
   ]
  },
  {
   "cell_type": "markdown",
   "id": "29684035",
   "metadata": {
    "slideshow": {
     "slide_type": "slide"
    }
   },
   "source": [
    "# 第一行代码"
   ]
  },
  {
   "cell_type": "code",
   "execution_count": 3,
   "id": "9b187328",
   "metadata": {
    "ExecuteTime": {
     "end_time": "2022-10-22T03:59:03.524499Z",
     "start_time": "2022-10-22T03:59:03.510936Z"
    }
   },
   "outputs": [
    {
     "name": "stdout",
     "output_type": "stream",
     "text": [
      "hello,world\n"
     ]
    }
   ],
   "source": [
    "print(\"hello,world\")"
   ]
  },
  {
   "cell_type": "markdown",
   "id": "dd326c5d",
   "metadata": {
    "cell_style": "split",
    "slideshow": {
     "slide_type": "subslide"
    }
   },
   "source": [
    "# Hello World 的由来\n",
    "\n",
    "<img src=\"../resources/slides/chap1/pic/chap1_1_464px-Brian-Kernighan-2017.png\" alt=\"Brian Kernighan\" width=\"300\" height=\"30\">\n",
    "\n",
    "```c\n",
    "main( ) {\n",
    "    printf(\"hello, world\");\n",
    "}\n",
    "```"
   ]
  },
  {
   "cell_type": "markdown",
   "id": "ed2f3d24",
   "metadata": {
    "cell_style": "split"
   },
   "source": [
    "Brian Wilson Kernighan, 1972\n",
    "\n",
    "*A Tutorial Introduction to the Language B*\n",
    "\n",
    "Language B Version:\n",
    "```B\n",
    "main( ) {\n",
    "    extern a, b, c;\n",
    "    putchar(a); putchar(b); putchar(c); putchar('!*n');\n",
    "}\n",
    " \n",
    "a 'hell';\n",
    "b 'o, w';\n",
    "c 'orld';\n",
    "```"
   ]
  },
  {
   "cell_type": "markdown",
   "id": "98ab00f4",
   "metadata": {
    "ExecuteTime": {
     "end_time": "2022-10-07T15:24:26.944438Z",
     "start_time": "2022-10-07T15:24:26.925296Z"
    },
    "slideshow": {
     "slide_type": "slide"
    }
   },
   "source": [
    "# 注释 Comment\n",
    "\n",
    "分类：\n",
    "- 单行注释，使用 `#` 开头\n",
    "- 多行注释，使用 `'''` 或 `\"\"\"` 包裹起来\n",
    "\n",
    "作用：\n",
    "- 注释主要是用于对代码进行**解释和说明**，可以提升代码的可读性\n",
    "- 注释并**不会被当做代码处理** # magic comment 除外\n",
    "\n",
    "> 程序员最讨厌的 10 件事：0. 别人的代码不写注释。 1. 给自己的代码写注释\n",
    "\n",
    "> 写这段代码的时候只有上帝和我知道它是干嘛的，现在只有上帝知道\n",
    "\n"
   ]
  },
  {
   "cell_type": "markdown",
   "id": "07edb7b0",
   "metadata": {
    "slideshow": {
     "slide_type": "subslide"
    }
   },
   "source": [
    "<big>单行注释</big>\n",
    "\n",
    "使用 `#` 开头，`#` 后面的内容不会被当做代码，只能写在一行中"
   ]
  },
  {
   "cell_type": "code",
   "execution_count": 1,
   "id": "b2e587f6",
   "metadata": {
    "ExecuteTime": {
     "end_time": "2022-10-09T09:30:03.148640Z",
     "start_time": "2022-10-09T09:30:03.141639Z"
    },
    "slideshow": {
     "slide_type": "fragment"
    }
   },
   "outputs": [
    {
     "name": "stdout",
     "output_type": "stream",
     "text": [
      "Datawhale\n"
     ]
    }
   ],
   "source": [
    "print(\"Datawhale\") # for the learner，和学习者一起成长"
   ]
  },
  {
   "cell_type": "code",
   "execution_count": 2,
   "id": "57fe02d3",
   "metadata": {
    "ExecuteTime": {
     "end_time": "2022-10-09T09:30:04.936755Z",
     "start_time": "2022-10-09T09:30:04.918843Z"
    },
    "slideshow": {
     "slide_type": "fragment"
    }
   },
   "outputs": [
    {
     "name": "stdout",
     "output_type": "stream",
     "text": [
      "p2s\n"
     ]
    }
   ],
   "source": [
    "# learn python the smart way v2\n",
    "print(\"p2s\")\n",
    "# print(\"prepare to be smart\")"
   ]
  },
  {
   "cell_type": "markdown",
   "id": "e32c85b4",
   "metadata": {
    "slideshow": {
     "slide_type": "subslide"
    }
   },
   "source": [
    "<big>多行注释</big>\n",
    "\n",
    "使用 `'''` 或 `\"\"\"` 包裹起来(头和尾都是 3 个)，**单引号（'）与双引号（\"）在 Python 中并无太大区别**"
   ]
  },
  {
   "cell_type": "code",
   "execution_count": 3,
   "id": "ea217736",
   "metadata": {
    "ExecuteTime": {
     "end_time": "2022-10-09T09:31:03.040796Z",
     "start_time": "2022-10-09T09:31:03.029796Z"
    }
   },
   "outputs": [
    {
     "name": "stdout",
     "output_type": "stream",
     "text": [
      "人生苦短，我用 Python\n"
     ]
    },
    {
     "data": {
      "text/plain": [
       "'\\nPython is powerful... and fast;\\nplays well with others;\\nruns everywhere;\\nis friendly & easy to learn;\\nis Open.\\n'"
      ]
     },
     "execution_count": 3,
     "metadata": {},
     "output_type": "execute_result"
    }
   ],
   "source": [
    "print(\"人生苦短，我用 Python\")\n",
    "'''\n",
    "Python is powerful... and fast;\n",
    "plays well with others;\n",
    "runs everywhere;\n",
    "is friendly & easy to learn;\n",
    "is Open.\n",
    "'''"
   ]
  },
  {
   "cell_type": "markdown",
   "id": "1f66b079",
   "metadata": {
    "slideshow": {
     "slide_type": "slide"
    }
   },
   "source": [
    "# 基础的控制台输出 Basic Console Output"
   ]
  },
  {
   "cell_type": "code",
   "execution_count": 5,
   "id": "3b45f07c",
   "metadata": {
    "ExecuteTime": {
     "end_time": "2022-10-09T09:33:30.734656Z",
     "start_time": "2022-10-09T09:33:30.729658Z"
    }
   },
   "outputs": [
    {
     "name": "stdout",
     "output_type": "stream",
     "text": [
      "Datawhale\n"
     ]
    }
   ],
   "source": [
    "print(\"Datawhale\") # for the learner，和学习者一起成长"
   ]
  },
  {
   "cell_type": "markdown",
   "id": "0efdfb86",
   "metadata": {
    "slideshow": {
     "slide_type": "subslide"
    }
   },
   "source": [
    "`print()` 的作用是将填入的内容显示在 Console 中，默认每次输入后会换行（等价于按了一次回车，或者 `\\n`）\n",
    "\n",
    "控制结尾的参数是 `end`"
   ]
  },
  {
   "cell_type": "code",
   "execution_count": 6,
   "id": "b3b799e6",
   "metadata": {
    "ExecuteTime": {
     "end_time": "2022-10-09T09:36:58.174608Z",
     "start_time": "2022-10-09T09:36:58.166543Z"
    },
    "slideshow": {
     "slide_type": ""
    }
   },
   "outputs": [
    {
     "name": "stdout",
     "output_type": "stream",
     "text": [
      "Data\n",
      "whale\n"
     ]
    }
   ],
   "source": [
    "print(\"Data\")\n",
    "print(\"whale\")"
   ]
  },
  {
   "cell_type": "code",
   "execution_count": 9,
   "id": "034f73ac",
   "metadata": {
    "ExecuteTime": {
     "end_time": "2022-10-09T09:42:34.919983Z",
     "start_time": "2022-10-09T09:42:34.914985Z"
    }
   },
   "outputs": [
    {
     "name": "stdout",
     "output_type": "stream",
     "text": [
      "Datawhale\n"
     ]
    }
   ],
   "source": [
    "print(\"Data\", end=\"\")\n",
    "print(\"whale\")"
   ]
  },
  {
   "cell_type": "markdown",
   "id": "2814590d",
   "metadata": {
    "slideshow": {
     "slide_type": "subslide"
    }
   },
   "source": [
    "`print()` 一次也可以输出多个内容，默认以空格分隔\n",
    "\n",
    "控制分隔的参数是 `sep`"
   ]
  },
  {
   "cell_type": "code",
   "execution_count": 29,
   "id": "4b9f9952",
   "metadata": {
    "ExecuteTime": {
     "end_time": "2022-10-09T10:37:57.249913Z",
     "start_time": "2022-10-09T10:37:57.244912Z"
    },
    "slideshow": {
     "slide_type": "-"
    }
   },
   "outputs": [
    {
     "name": "stdout",
     "output_type": "stream",
     "text": [
      "Data whale\n"
     ]
    }
   ],
   "source": [
    "print(\"Data\", \"whale\")"
   ]
  },
  {
   "cell_type": "code",
   "execution_count": 5,
   "id": "2081dc12",
   "metadata": {
    "ExecuteTime": {
     "end_time": "2022-10-22T04:04:38.625250Z",
     "start_time": "2022-10-22T04:04:38.617234Z"
    }
   },
   "outputs": [
    {
     "name": "stdout",
     "output_type": "stream",
     "text": [
      "Data/whale\n"
     ]
    }
   ],
   "source": [
    "print(\"Data\", \"whale\", sep=\"/\")"
   ]
  },
  {
   "cell_type": "markdown",
   "id": "227a467f",
   "metadata": {
    "slideshow": {
     "slide_type": "subslide"
    }
   },
   "source": [
    "你甚至可以做**加法**和**乘法**！"
   ]
  },
  {
   "cell_type": "code",
   "execution_count": 24,
   "id": "ebcf08a0",
   "metadata": {
    "ExecuteTime": {
     "end_time": "2022-10-09T09:46:08.620618Z",
     "start_time": "2022-10-09T09:46:08.600619Z"
    },
    "cell_style": "split",
    "slideshow": {
     "slide_type": "-"
    }
   },
   "outputs": [
    {
     "name": "stdout",
     "output_type": "stream",
     "text": [
      "p2sp2s////datadatadata\n"
     ]
    }
   ],
   "source": [
    "print(\"p2s\"*2,\"data\"*3, sep=\"/\"*4)"
   ]
  },
  {
   "cell_type": "code",
   "execution_count": 28,
   "id": "2d733e71",
   "metadata": {
    "ExecuteTime": {
     "end_time": "2022-10-09T10:37:12.545620Z",
     "start_time": "2022-10-09T10:37:12.538735Z"
    },
    "cell_style": "split",
    "scrolled": false,
    "slideshow": {
     "slide_type": "-"
    }
   },
   "outputs": [
    {
     "name": "stdout",
     "output_type": "stream",
     "text": [
      "Datawhale\n"
     ]
    }
   ],
   "source": [
    "print(\"Data\"+\"whale\")"
   ]
  },
  {
   "cell_type": "markdown",
   "id": "53f2133a",
   "metadata": {
    "slideshow": {
     "slide_type": "subslide"
    }
   },
   "source": [
    "## 一些更好玩的做法\n",
    "\n",
    "我们假设，"
   ]
  },
  {
   "cell_type": "code",
   "execution_count": 14,
   "id": "e8c41160",
   "metadata": {
    "ExecuteTime": {
     "end_time": "2022-10-09T12:22:31.078344Z",
     "start_time": "2022-10-09T12:22:31.059884Z"
    },
    "slideshow": {
     "slide_type": "-"
    }
   },
   "outputs": [],
   "source": [
    "x = 1\n",
    "y = 2"
   ]
  },
  {
   "cell_type": "code",
   "execution_count": 87,
   "id": "e778f892",
   "metadata": {
    "ExecuteTime": {
     "end_time": "2022-10-09T11:14:31.013485Z",
     "start_time": "2022-10-09T11:14:31.008488Z"
    },
    "run_control": {
     "marked": false
    },
    "slideshow": {
     "slide_type": "fragment"
    }
   },
   "outputs": [
    {
     "name": "stdout",
     "output_type": "stream",
     "text": [
      "A simple math question: \"1 + 2 = ?\", the answer is 3!\n"
     ]
    }
   ],
   "source": [
    "print(f\"A simple math question: \\\"{x} + {y} = ?\\\", the answer is {x+y}!\")"
   ]
  },
  {
   "cell_type": "markdown",
   "id": "080d4b9b",
   "metadata": {
    "slideshow": {
     "slide_type": "subslide"
    }
   },
   "source": [
    "为了课程演示，我们编写了下面这些代码，你并不需要弄清楚它具体内容是什么，享受游戏的过程就好了 ;-)"
   ]
  },
  {
   "cell_type": "code",
   "execution_count": 4,
   "id": "a158be07",
   "metadata": {
    "ExecuteTime": {
     "end_time": "2022-10-22T04:03:04.875318Z",
     "start_time": "2022-10-22T04:03:04.769086Z"
    },
    "slideshow": {
     "slide_type": "-"
    }
   },
   "outputs": [
    {
     "data": {
      "application/vnd.jupyter.widget-view+json": {
       "model_id": "933186c57c504f52a94eb62b2a9124a4",
       "version_major": 2,
       "version_minor": 0
      },
      "text/plain": [
       "interactive(children=(IntSlider(value=10, description='x', max=30, min=-10), IntSlider(value=20, description='…"
      ]
     },
     "metadata": {},
     "output_type": "display_data"
    },
    {
     "data": {
      "text/plain": [
       "<function __main__.f(x, y)>"
      ]
     },
     "execution_count": 4,
     "metadata": {},
     "output_type": "execute_result"
    }
   ],
   "source": [
    "from ipywidgets import interact\n",
    "import ipywidgets as widgets\n",
    "def f(x, y):\n",
    "    print(f\"A simple math question: \\\"{x} + {y} = ?\\\", the answer is {x + y}!\")\n",
    "interact(f,x=10, y=20)"
   ]
  },
  {
   "cell_type": "markdown",
   "id": "ad9a6841",
   "metadata": {
    "slideshow": {
     "slide_type": "subslide"
    }
   },
   "source": [
    "如果我想**一次性输出很多行**？"
   ]
  },
  {
   "cell_type": "code",
   "execution_count": 25,
   "id": "a9562933",
   "metadata": {
    "ExecuteTime": {
     "end_time": "2022-10-09T09:52:12.095593Z",
     "start_time": "2022-10-09T09:52:12.081705Z"
    },
    "run_control": {
     "marked": false
    }
   },
   "outputs": [
    {
     "name": "stdout",
     "output_type": "stream",
     "text": [
      "\n",
      "Python is powerful... and fast;\n",
      "plays well with others;\n",
      "runs everywhere;\n",
      "is friendly & easy to learn;\n",
      "is Open.\n",
      "\n"
     ]
    }
   ],
   "source": [
    "print(\"\"\"\n",
    "Python is powerful... and fast;\n",
    "plays well with others;\n",
    "runs everywhere;\n",
    "is friendly & easy to learn;\n",
    "is Open.\n",
    "\"\"\")"
   ]
  },
  {
   "cell_type": "markdown",
   "id": "100469fa",
   "metadata": {
    "ExecuteTime": {
     "end_time": "2022-10-09T09:56:42.481166Z",
     "start_time": "2022-10-09T09:56:42.468288Z"
    },
    "slideshow": {
     "slide_type": "subslide"
    }
   },
   "source": [
    "# 如何秒杀马里奥题\n",
    "\n",
    "[洛谷 P1000 超级玛丽游戏](https://www.luogu.com.cn/problem/P1000)\n",
    "\n"
   ]
  },
  {
   "cell_type": "code",
   "execution_count": 1,
   "id": "abdc08f7",
   "metadata": {
    "ExecuteTime": {
     "end_time": "2022-10-24T06:56:40.143316Z",
     "start_time": "2022-10-24T06:56:40.119283Z"
    },
    "scrolled": true
   },
   "outputs": [
    {
     "data": {
      "text/html": [
       "\n",
       "        <iframe\n",
       "            width=\"1300\"\n",
       "            height=\"600\"\n",
       "            src=\"https://www.luogu.com.cn/problem/P1000\"\n",
       "            frameborder=\"0\"\n",
       "            allowfullscreen\n",
       "            \n",
       "        ></iframe>\n",
       "        "
      ],
      "text/plain": [
       "<IPython.lib.display.IFrame at 0x221f38150d0>"
      ]
     },
     "execution_count": 1,
     "metadata": {},
     "output_type": "execute_result"
    }
   ],
   "source": [
    "from IPython.display import IFrame\n",
    "IFrame('https://www.luogu.com.cn/problem/P1000', width=1300, height=600)"
   ]
  },
  {
   "cell_type": "markdown",
   "id": "433baaef",
   "metadata": {
    "slideshow": {
     "slide_type": "slide"
    }
   },
   "source": [
    "# 错误 Error\n",
    "- 语法错误 Syntax Errors，不符合语法规范，代码根本**没有开始运行**\n",
    "- “运行时”错误 Runtime Errors，代码在**运行过程中出错**，也就是常说的“崩溃”（Crash）\n",
    "- 逻辑错误 Logical Errors，代码能够运行，且运行过程中没有出错，但是**不是想要的结果**"
   ]
  },
  {
   "cell_type": "code",
   "execution_count": 15,
   "id": "b245992c",
   "metadata": {
    "ExecuteTime": {
     "end_time": "2022-10-09T12:22:42.462201Z",
     "start_time": "2022-10-09T12:22:42.446203Z"
    }
   },
   "outputs": [
    {
     "ename": "SyntaxError",
     "evalue": "EOL while scanning string literal (3843124881.py, line 2)",
     "output_type": "error",
     "traceback": [
      "\u001b[1;36m  Input \u001b[1;32mIn [15]\u001b[1;36m\u001b[0m\n\u001b[1;33m    print(\"Uh oh!) # ERROR!  missing close-quote\u001b[0m\n\u001b[1;37m                                                ^\u001b[0m\n\u001b[1;31mSyntaxError\u001b[0m\u001b[1;31m:\u001b[0m EOL while scanning string literal\n"
     ]
    }
   ],
   "source": [
    "# Syntax Errors (Compile-Time Errors. Python never starts running.)\n",
    "print(\"Uh oh!) # ERROR!  missing close-quote"
   ]
  },
  {
   "cell_type": "code",
   "execution_count": 16,
   "id": "0f31e579",
   "metadata": {
    "ExecuteTime": {
     "end_time": "2022-10-09T12:22:44.772860Z",
     "start_time": "2022-10-09T12:22:44.460931Z"
    }
   },
   "outputs": [
    {
     "ename": "ZeroDivisionError",
     "evalue": "division by zero",
     "output_type": "error",
     "traceback": [
      "\u001b[1;31m---------------------------------------------------------------------------\u001b[0m",
      "\u001b[1;31mZeroDivisionError\u001b[0m                         Traceback (most recent call last)",
      "Input \u001b[1;32mIn [16]\u001b[0m, in \u001b[0;36m<cell line: 2>\u001b[1;34m()\u001b[0m\n\u001b[0;32m      1\u001b[0m \u001b[38;5;66;03m# Runtime Errors (\"Crash.\" Python starts running but encounters a problem.)\u001b[39;00m\n\u001b[1;32m----> 2\u001b[0m \u001b[38;5;28mprint\u001b[39m(\u001b[38;5;241;43m1\u001b[39;49m\u001b[38;5;241;43m/\u001b[39;49m\u001b[38;5;241;43m0\u001b[39;49m)\n",
      "\u001b[1;31mZeroDivisionError\u001b[0m: division by zero"
     ]
    }
   ],
   "source": [
    "# Runtime Errors (\"Crash.\" Python starts running but encounters a problem.)\n",
    "print(1/0) # ERROR!  Division by zero!"
   ]
  },
  {
   "cell_type": "code",
   "execution_count": 17,
   "id": "308ae46e",
   "metadata": {
    "ExecuteTime": {
     "end_time": "2022-10-09T12:22:46.551741Z",
     "start_time": "2022-10-09T12:22:46.543743Z"
    }
   },
   "outputs": [
    {
     "name": "stdout",
     "output_type": "stream",
     "text": [
      "2+2=5\n"
     ]
    }
   ],
   "source": [
    "# Logical Errors (Compiles and runs, but is wrong!)\n",
    "print(\"2+2=5\") # ERROR!  Untrue!!!\n",
    "# We wanna: 4!"
   ]
  },
  {
   "cell_type": "markdown",
   "id": "977bb358",
   "metadata": {
    "slideshow": {
     "slide_type": "slide"
    }
   },
   "source": [
    "# 基础的控制台输入 Basic Console Input\n",
    "\n",
    "`input()` 可以接收 Console 的输入，并**以字符串的形式返回**，你可以给定个字符串参数，它会先输出到 Console，再接收输入"
   ]
  },
  {
   "cell_type": "code",
   "execution_count": 91,
   "id": "c18d8f87",
   "metadata": {
    "ExecuteTime": {
     "end_time": "2022-10-09T11:28:42.016684Z",
     "start_time": "2022-10-09T11:28:37.066299Z"
    },
    "slideshow": {
     "slide_type": "-"
    }
   },
   "outputs": [
    {
     "name": "stdout",
     "output_type": "stream",
     "text": [
      "Enter your name: Epsilon Luoo\n",
      "Your name is: Epsilon Luoo\n"
     ]
    }
   ],
   "source": [
    "name = input(\"Enter your name: \")\n",
    "print(\"Your name is:\", name)"
   ]
  },
  {
   "cell_type": "markdown",
   "id": "56608fe8",
   "metadata": {
    "slideshow": {
     "slide_type": "subslide"
    }
   },
   "source": [
    "##  注意！返回的格式是字符串"
   ]
  },
  {
   "cell_type": "code",
   "execution_count": 18,
   "id": "37d10260",
   "metadata": {
    "ExecuteTime": {
     "end_time": "2022-10-09T12:22:53.723817Z",
     "start_time": "2022-10-09T12:22:52.083121Z"
    },
    "slideshow": {
     "slide_type": "-"
    }
   },
   "outputs": [
    {
     "name": "stdout",
     "output_type": "stream",
     "text": [
      "Enter a number: 10\n"
     ]
    },
    {
     "ename": "TypeError",
     "evalue": "unsupported operand type(s) for /: 'str' and 'int'",
     "output_type": "error",
     "traceback": [
      "\u001b[1;31m---------------------------------------------------------------------------\u001b[0m",
      "\u001b[1;31mTypeError\u001b[0m                                 Traceback (most recent call last)",
      "Input \u001b[1;32mIn [18]\u001b[0m, in \u001b[0;36m<cell line: 2>\u001b[1;34m()\u001b[0m\n\u001b[0;32m      1\u001b[0m x \u001b[38;5;241m=\u001b[39m \u001b[38;5;28minput\u001b[39m(\u001b[38;5;124m\"\u001b[39m\u001b[38;5;124mEnter a number: \u001b[39m\u001b[38;5;124m\"\u001b[39m)\n\u001b[1;32m----> 2\u001b[0m \u001b[38;5;28mprint\u001b[39m(\u001b[38;5;124m\"\u001b[39m\u001b[38;5;124mOne half of\u001b[39m\u001b[38;5;124m\"\u001b[39m, x, \u001b[38;5;124m\"\u001b[39m\u001b[38;5;124m=\u001b[39m\u001b[38;5;124m\"\u001b[39m, \u001b[43mx\u001b[49m\u001b[38;5;241;43m/\u001b[39;49m\u001b[38;5;241;43m2\u001b[39;49m)\n",
      "\u001b[1;31mTypeError\u001b[0m: unsupported operand type(s) for /: 'str' and 'int'"
     ]
    }
   ],
   "source": [
    "x = input(\"Enter a number: \")\n",
    "print(\"One half of\", x, \"=\", x/2) # Error!"
   ]
  },
  {
   "cell_type": "code",
   "execution_count": 94,
   "id": "06f9303d",
   "metadata": {
    "ExecuteTime": {
     "end_time": "2022-10-09T11:32:13.444803Z",
     "start_time": "2022-10-09T11:32:11.601348Z"
    },
    "scrolled": true,
    "slideshow": {
     "slide_type": "fragment"
    }
   },
   "outputs": [
    {
     "name": "stdout",
     "output_type": "stream",
     "text": [
      "Enter a number: 10\n",
      "One half of 10 = 5.0\n"
     ]
    }
   ],
   "source": [
    "x = input(\"Enter a number: \")\n",
    "x = int(x)\n",
    "#x = int(input(\"Enter a number: \"))\n",
    "print(\"One half of\", x, \"=\", x/2)"
   ]
  },
  {
   "cell_type": "markdown",
   "id": "99cb167e",
   "metadata": {
    "slideshow": {
     "slide_type": "subslide"
    }
   },
   "source": [
    "## 一行多个输入值\n",
    "\n",
    "1 -> a，2 -> b\n",
    "\n",
    "可以在结尾加上 `split()`，默认分隔参数是空格，可以更改，如：`split(\",\")`"
   ]
  },
  {
   "cell_type": "code",
   "execution_count": 1,
   "id": "418507a6",
   "metadata": {
    "ExecuteTime": {
     "end_time": "2022-10-09T11:58:01.360960Z",
     "start_time": "2022-10-09T11:57:58.937845Z"
    }
   },
   "outputs": [
    {
     "name": "stdout",
     "output_type": "stream",
     "text": [
      "1 2\n",
      "a = 1, b = 2\n"
     ]
    }
   ],
   "source": [
    "a, b = input().split()\n",
    "print(f\"a = {a}, b = {b}\")"
   ]
  },
  {
   "cell_type": "markdown",
   "id": "185616e3",
   "metadata": {
    "slideshow": {
     "slide_type": "slide"
    }
   },
   "source": [
    "# 导入模块\n",
    "Python 中有许多强大的工具箱，我们把它们叫做**“库”（Library）**，课程后期会介绍更多强大的工具\n",
    "\n",
    "库需要使用 `import` 来导入，并且使用 `xx.yy`的方式来调用，我们今天只作粗略介绍"
   ]
  },
  {
   "cell_type": "markdown",
   "id": "68f87dda",
   "metadata": {
    "slideshow": {
     "slide_type": "subslide"
    }
   },
   "source": [
    "以 Python 内置数学库 `math` 为例："
   ]
  },
  {
   "cell_type": "code",
   "execution_count": 2,
   "id": "c75a0539",
   "metadata": {
    "ExecuteTime": {
     "end_time": "2022-10-09T12:23:13.714534Z",
     "start_time": "2022-10-09T12:23:13.689535Z"
    },
    "run_control": {
     "marked": false
    },
    "slideshow": {
     "slide_type": "-"
    }
   },
   "outputs": [
    {
     "ename": "NameError",
     "evalue": "name 'math' is not defined",
     "output_type": "error",
     "traceback": [
      "\u001b[1;31m---------------------------------------------------------------------------\u001b[0m",
      "\u001b[1;31mNameError\u001b[0m                                 Traceback (most recent call last)",
      "Input \u001b[1;32mIn [2]\u001b[0m, in \u001b[0;36m<cell line: 2>\u001b[1;34m()\u001b[0m\n\u001b[0;32m      1\u001b[0m \u001b[38;5;66;03m# 阶乘 factorial\u001b[39;00m\n\u001b[1;32m----> 2\u001b[0m \u001b[38;5;28mprint\u001b[39m(\u001b[43mmath\u001b[49m\u001b[38;5;241m.\u001b[39mfactorial(\u001b[38;5;241m20\u001b[39m))\n",
      "\u001b[1;31mNameError\u001b[0m: name 'math' is not defined"
     ]
    }
   ],
   "source": [
    "# 阶乘 factorial\n",
    "print(math.factorial(20))"
   ]
  },
  {
   "cell_type": "code",
   "execution_count": 9,
   "id": "02ce973d",
   "metadata": {
    "ExecuteTime": {
     "end_time": "2022-10-22T04:10:43.964499Z",
     "start_time": "2022-10-22T04:10:43.951498Z"
    },
    "run_control": {
     "marked": false
    },
    "slideshow": {
     "slide_type": "fragment"
    }
   },
   "outputs": [
    {
     "name": "stdout",
     "output_type": "stream",
     "text": [
      "2432902008176640000\n"
     ]
    }
   ],
   "source": [
    "import math # 使用库前要先导入！\n",
    "print(math.factorial(20))"
   ]
  },
  {
   "cell_type": "code",
   "execution_count": 3,
   "id": "2794774d",
   "metadata": {
    "ExecuteTime": {
     "end_time": "2022-10-09T12:07:23.635762Z",
     "start_time": "2022-10-09T12:07:23.619754Z"
    },
    "slideshow": {
     "slide_type": "subslide"
    }
   },
   "outputs": [
    {
     "data": {
      "text/plain": [
       "2.718281828459045"
      ]
     },
     "execution_count": 3,
     "metadata": {},
     "output_type": "execute_result"
    }
   ],
   "source": [
    "# Euler 常数\n",
    "math.e"
   ]
  },
  {
   "cell_type": "code",
   "execution_count": 13,
   "id": "cf497dd5",
   "metadata": {
    "ExecuteTime": {
     "end_time": "2022-10-09T12:15:52.868668Z",
     "start_time": "2022-10-09T12:15:52.860530Z"
    },
    "slideshow": {
     "slide_type": "subslide"
    }
   },
   "outputs": [
    {
     "data": {
      "text/plain": [
       "12"
      ]
     },
     "execution_count": 13,
     "metadata": {},
     "output_type": "execute_result"
    }
   ],
   "source": [
    "# gcd 最大公约数\n",
    "math.gcd(12,36)"
   ]
  },
  {
   "cell_type": "code",
   "execution_count": 10,
   "id": "1d91622c",
   "metadata": {
    "ExecuteTime": {
     "end_time": "2022-10-22T04:10:49.276016Z",
     "start_time": "2022-10-22T04:10:49.250637Z"
    },
    "slideshow": {
     "slide_type": "subslide"
    }
   },
   "outputs": [
    {
     "data": {
      "application/vnd.jupyter.widget-view+json": {
       "model_id": "383c2265cedf4cd9b1230a64de79f68d",
       "version_major": 2,
       "version_minor": 0
      },
      "text/plain": [
       "interactive(children=(IntSlider(value=30, description='x', max=90, min=-30), Output()), _dom_classes=('widget-…"
      ]
     },
     "metadata": {},
     "output_type": "display_data"
    },
    {
     "data": {
      "text/plain": [
       "<function __main__.f(x)>"
      ]
     },
     "execution_count": 10,
     "metadata": {},
     "output_type": "execute_result"
    }
   ],
   "source": [
    "def f(x):\n",
    "    a = x*(math.pi/180)\n",
    "    print(math.sin(a))\n",
    "interact(f,x=30)"
   ]
  },
  {
   "cell_type": "markdown",
   "id": "48832482",
   "metadata": {
    "slideshow": {
     "slide_type": "fragment"
    }
   },
   "source": [
    "# 补充资料\n",
    "0.1+0.2≠0.3?? 无可避免的浮点误差：https://www.bilibili.com/video/BV1xq4y1D7Ep"
   ]
  },
  {
   "cell_type": "markdown",
   "id": "a0bea848",
   "metadata": {
    "slideshow": {
     "slide_type": "slide"
    }
   },
   "source": [
    "# Thank You ;-)\n",
    "Datawhale 聪明办法学 Python 教学团队出品\n",
    "\n",
    "## 关注我们\n",
    "Datawhale 是一个专注 AI 领域的开源组织，以“for the learner，和学习者一起成长”为愿景，构建对学习者最有价值的开源学习社区。关注我们，一起学习成长。\n",
    "<div align=center><img src=\"../resources/datawhale_wechat_qrcode.jpeg\" width = \"250\" height = \"270\"></div>"
   ]
  }
 ],
 "metadata": {
  "celltoolbar": "幻灯片",
  "gist": {
   "data": {
    "description": "slide/chapter_1-Getting_Started.ipynb",
    "public": false
   },
   "id": ""
  },
  "kernelspec": {
   "display_name": "Python 3 (ipykernel)",
   "language": "python",
   "name": "python3"
  },
  "language_info": {
   "codemirror_mode": {
    "name": "ipython",
    "version": 3
   },
   "file_extension": ".py",
   "mimetype": "text/x-python",
   "name": "python",
   "nbconvert_exporter": "python",
   "pygments_lexer": "ipython3",
   "version": "3.9.13"
  },
  "latex_envs": {
   "LaTeX_envs_menu_present": true,
   "autoclose": false,
   "autocomplete": true,
   "bibliofile": "biblio.bib",
   "cite_by": "apalike",
   "current_citInitial": 1,
   "eqLabelWithNumbers": true,
   "eqNumInitial": 1,
   "hotkeys": {
    "equation": "Ctrl-E",
    "itemize": "Ctrl-I"
   },
   "labels_anchors": false,
   "latex_user_defs": false,
   "report_style_numbering": false,
   "user_envs_cfg": false
  },
  "rise": {
   "overlay": "<div class='my-top-right'><img height=80px src='https://avatars.githubusercontent.com/u/46047812?s=200&v=4'/></div><div class='my-top-left'></div>"
  },
  "varInspector": {
   "cols": {
    "lenName": 16,
    "lenType": 16,
    "lenVar": 40
   },
   "kernels_config": {
    "python": {
     "delete_cmd_postfix": "",
     "delete_cmd_prefix": "del ",
     "library": "var_list.py",
     "varRefreshCmd": "print(var_dic_list())"
    },
    "r": {
     "delete_cmd_postfix": ") ",
     "delete_cmd_prefix": "rm(",
     "library": "var_list.r",
     "varRefreshCmd": "cat(var_dic_list()) "
    }
   },
   "types_to_exclude": [
    "module",
    "function",
    "builtin_function_or_method",
    "instance",
    "_Feature"
   ],
   "window_display": false
  }
 },
 "nbformat": 4,
 "nbformat_minor": 5
}
