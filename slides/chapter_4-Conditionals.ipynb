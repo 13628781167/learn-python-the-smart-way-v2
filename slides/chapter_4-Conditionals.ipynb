{
 "cells": [
  {
   "cell_type": "markdown",
   "id": "b01ef668",
   "metadata": {
    "slideshow": {
     "slide_type": "slide"
    }
   },
   "source": [
    "# 聪明办法学 Python 2nd Edition (Beta)\n",
    "## Chapter 4 条件 Conditionals\n",
    "\n",
    "骆秀韬\n",
    "\n",
    "<p>epsilon_luoo@outlook.com</p>"
   ]
  },
  {
   "cell_type": "markdown",
   "id": "0032e83a",
   "metadata": {
    "slideshow": {
     "slide_type": "slide"
    }
   },
   "source": [
    "# 条件语句 if statement"
   ]
  },
  {
   "cell_type": "code",
   "execution_count": 1,
   "id": "01dafc2e",
   "metadata": {
    "ExecuteTime": {
     "end_time": "2022-12-29T17:39:00.703840Z",
     "start_time": "2022-12-29T17:39:00.689842Z"
    },
    "slideshow": {
     "slide_type": "subslide"
    }
   },
   "outputs": [
    {
     "name": "stdout",
     "output_type": "stream",
     "text": [
      "ABCD\n",
      "AD\n"
     ]
    }
   ],
   "source": [
    "def f(x):\n",
    "    print(\"A\", end=\"\")\n",
    "    if x == 0:\n",
    "        print(\"B\", end=\"\")\n",
    "        print(\"C\", end=\"\")\n",
    "    print(\"D\")\n",
    "\n",
    "f(0)\n",
    "f(1)"
   ]
  },
  {
   "cell_type": "markdown",
   "id": "11e4a683",
   "metadata": {
    "slideshow": {
     "slide_type": "subslide"
    }
   },
   "source": [
    "A more interesting example:\n"
   ]
  },
  {
   "cell_type": "code",
   "execution_count": 2,
   "id": "12f5e6f2",
   "metadata": {
    "ExecuteTime": {
     "end_time": "2022-12-29T17:39:00.719841Z",
     "start_time": "2022-12-29T17:39:00.704992Z"
    },
    "slideshow": {
     "slide_type": "subslide"
    }
   },
   "outputs": [
    {
     "name": "stdout",
     "output_type": "stream",
     "text": [
      "abs1(5) = 5 and abs1(-5) = 5\n",
      "abs2(5) = 5 and abs2(-5) = 5\n",
      "abs3(5) = 5 and abs3(-5) = 5\n",
      "abs4(5) = 5 and abs4(-5) = 5\n"
     ]
    }
   ],
   "source": [
    "# These examples define abs(n), which is a nice example here, but it is\n",
    "# also a builtin function, so you do not need to define it to use it.\n",
    "\n",
    "def abs1(n):\n",
    "    if n < 0:\n",
    "        n = -n\n",
    "    return n\n",
    "\n",
    "# again, with same-line indenting\n",
    "\n",
    "def abs2(n):\n",
    "    if n < 0: n = -n # don't indent this way unless there is a specific reason\n",
    "    return n\n",
    "\n",
    "# again, with multiple return statements\n",
    "\n",
    "def abs3(n):\n",
    "    if n < 0:\n",
    "        return -n\n",
    "    return n\n",
    "\n",
    "# aside: you can do this with boolean arithmetic, but don't!\n",
    "\n",
    "def abs4(n):\n",
    "    return (n < 0)*(-n) + (n>=0)*(n) # this is awful!\n",
    "\n",
    "# now show that they all work properly:\n",
    "\n",
    "print(\"abs1(5) =\", abs1(5), \"and abs1(-5) =\", abs1(-5))\n",
    "print(\"abs2(5) =\", abs2(5), \"and abs2(-5) =\", abs2(-5))\n",
    "print(\"abs3(5) =\", abs3(5), \"and abs3(-5) =\", abs3(-5))\n",
    "print(\"abs4(5) =\", abs4(5), \"and abs4(-5) =\", abs4(-5))"
   ]
  },
  {
   "cell_type": "markdown",
   "id": "dc48dbf9",
   "metadata": {
    "slideshow": {
     "slide_type": "slide"
    }
   },
   "source": [
    "# if-else statement"
   ]
  },
  {
   "cell_type": "code",
   "execution_count": 3,
   "id": "ad3fe352",
   "metadata": {
    "ExecuteTime": {
     "end_time": "2022-12-29T17:39:00.735843Z",
     "start_time": "2022-12-29T17:39:00.722842Z"
    },
    "slideshow": {
     "slide_type": "subslide"
    }
   },
   "outputs": [
    {
     "name": "stdout",
     "output_type": "stream",
     "text": [
      "ABCG\n",
      "ADEG\n",
      "ADFG\n"
     ]
    }
   ],
   "source": [
    "def f(x):\n",
    "    print(\"A\", end=\"\")\n",
    "    if x == 0:\n",
    "        print(\"B\", end=\"\")\n",
    "        print(\"C\", end=\"\")\n",
    "    else:\n",
    "        print(\"D\", end=\"\")\n",
    "        if x == 1:\n",
    "            print(\"E\", end=\"\")\n",
    "        else:\n",
    "            print(\"F\", end=\"\")\n",
    "    print(\"G\")\n",
    "\n",
    "f(0)\n",
    "f(1)\n",
    "f(2) "
   ]
  },
  {
   "cell_type": "markdown",
   "id": "6118eb49",
   "metadata": {
    "slideshow": {
     "slide_type": "subslide"
    }
   },
   "source": [
    "Revisiting abs(n):\n"
   ]
  },
  {
   "cell_type": "code",
   "execution_count": 4,
   "id": "54f1e68d",
   "metadata": {
    "ExecuteTime": {
     "end_time": "2022-12-29T17:39:00.751841Z",
     "start_time": "2022-12-29T17:39:00.738844Z"
    },
    "slideshow": {
     "slide_type": "subslide"
    }
   },
   "outputs": [
    {
     "name": "stdout",
     "output_type": "stream",
     "text": [
      "abs5(5) = 5 and abs5(-5) = 5\n",
      "abs6(5) = 5 and abs6(-5) = 5\n"
     ]
    }
   ],
   "source": [
    "def abs5(n):\n",
    "    if n >= 0:\n",
    "        return n\n",
    "    else:\n",
    "        return -n\n",
    "\n",
    "# or, if you prefer...\n",
    "\n",
    "def abs6(n):\n",
    "    if n >= 0:\n",
    "        sign = +1\n",
    "    else:\n",
    "        sign = -1\n",
    "    return sign * n\n",
    "\n",
    "print(\"abs5(5) =\", abs5(5), \"and abs5(-5) =\", abs5(-5))\n",
    "print(\"abs6(5) =\", abs6(5), \"and abs6(-5) =\", abs6(-5))"
   ]
  },
  {
   "cell_type": "markdown",
   "id": "42a169d6",
   "metadata": {
    "slideshow": {
     "slide_type": "slide"
    }
   },
   "source": [
    "# if-elif-else statement\n"
   ]
  },
  {
   "cell_type": "code",
   "execution_count": 5,
   "id": "2998e87b",
   "metadata": {
    "ExecuteTime": {
     "end_time": "2022-12-29T17:39:00.766842Z",
     "start_time": "2022-12-29T17:39:00.752842Z"
    },
    "slideshow": {
     "slide_type": "subslide"
    }
   },
   "outputs": [
    {
     "name": "stdout",
     "output_type": "stream",
     "text": [
      "ABCH\n",
      "ADH\n",
      "AEFH\n",
      "AEGH\n"
     ]
    }
   ],
   "source": [
    "def f(x):\n",
    "    print(\"A\", end=\"\")\n",
    "    if x == 0:\n",
    "        print(\"B\", end=\"\")\n",
    "        print(\"C\", end=\"\")\n",
    "    elif x == 1:\n",
    "        print(\"D\", end=\"\")\n",
    "    else:\n",
    "        print(\"E\", end=\"\")\n",
    "        if x == 2:\n",
    "            print(\"F\", end=\"\")\n",
    "        else:\n",
    "            print(\"G\", end=\"\")\n",
    "    print(\"H\")\n",
    "\n",
    "f(0)\n",
    "f(1)\n",
    "f(2)\n",
    "f(3)"
   ]
  },
  {
   "cell_type": "markdown",
   "id": "97b472ea",
   "metadata": {
    "slideshow": {
     "slide_type": "subslide"
    }
   },
   "source": [
    "A more interesting example:"
   ]
  },
  {
   "cell_type": "code",
   "execution_count": 6,
   "id": "5881d7d2",
   "metadata": {
    "ExecuteTime": {
     "end_time": "2022-12-29T17:39:00.782841Z",
     "start_time": "2022-12-29T17:39:00.768843Z"
    },
    "slideshow": {
     "slide_type": "subslide"
    }
   },
   "outputs": [
    {
     "name": "stdout",
     "output_type": "stream",
     "text": [
      "y = 4*x**2 + 5*x + 1 has 2 root(s).\n",
      "y = 4*x**2 + 4*x + 1 has 1 root(s).\n",
      "y = 4*x**2 + 3*x + 1 has 0 root(s).\n"
     ]
    }
   ],
   "source": [
    "def numberOfRoots(a, b, c):\n",
    "    # Returns number of roots (zeros) of y = a*x**2 + b*x + c\n",
    "    d = b**2 - 4*a*c\n",
    "    if d > 0:\n",
    "        return 2\n",
    "    elif d == 0:\n",
    "        return 1\n",
    "    else:\n",
    "        return 0\n",
    "\n",
    "print(\"y = 4*x**2 + 5*x + 1 has\", numberOfRoots(4,5,1), \"root(s).\")\n",
    "print(\"y = 4*x**2 + 4*x + 1 has\", numberOfRoots(4,4,1), \"root(s).\")\n",
    "print(\"y = 4*x**2 + 3*x + 1 has\", numberOfRoots(4,3,1), \"root(s).\")"
   ]
  },
  {
   "cell_type": "markdown",
   "id": "f33da16e",
   "metadata": {
    "slideshow": {
     "slide_type": "subslide"
    }
   },
   "source": [
    "Another example:\n"
   ]
  },
  {
   "cell_type": "code",
   "execution_count": 7,
   "id": "5d14a0ac",
   "metadata": {
    "ExecuteTime": {
     "end_time": "2022-12-29T17:39:00.798843Z",
     "start_time": "2022-12-29T17:39:00.785841Z"
    },
    "slideshow": {
     "slide_type": "subslide"
    }
   },
   "outputs": [
    {
     "name": "stdout",
     "output_type": "stream",
     "text": [
      "103 --> A\n",
      " 88 --> B\n",
      " 70 --> C\n",
      " 61 --> D\n",
      " 22 --> F\n"
     ]
    }
   ],
   "source": [
    "def getGrade(score):\n",
    "    if score >= 90:\n",
    "        grade = \"A\"\n",
    "    elif score >= 80:\n",
    "        grade = \"B\"\n",
    "    elif score >= 70:\n",
    "        grade = \"C\"\n",
    "    elif score >= 60:\n",
    "        grade = \"D\"\n",
    "    else:\n",
    "        grade = \"F\"\n",
    "    return grade\n",
    "\n",
    "print(\"103 -->\", getGrade(103))\n",
    "print(\" 88 -->\", getGrade(88))\n",
    "print(\" 70 -->\", getGrade(70))\n",
    "print(\" 61 -->\", getGrade(61))\n",
    "print(\" 22 -->\", getGrade(22))"
   ]
  },
  {
   "cell_type": "markdown",
   "id": "41686997",
   "metadata": {
    "ExecuteTime": {
     "end_time": "2022-12-29T17:21:03.594287Z",
     "start_time": "2022-12-29T17:21:03.577575Z"
    },
    "slideshow": {
     "slide_type": "slide"
    }
   },
   "source": [
    "# if-else expression\n"
   ]
  },
  {
   "cell_type": "code",
   "execution_count": 8,
   "id": "e6584f50",
   "metadata": {
    "ExecuteTime": {
     "end_time": "2022-12-29T17:39:00.814842Z",
     "start_time": "2022-12-29T17:39:00.800843Z"
    },
    "slideshow": {
     "slide_type": "subslide"
    }
   },
   "outputs": [
    {
     "name": "stdout",
     "output_type": "stream",
     "text": [
      "abs7(5) = 5 and abs7(-5) = 5\n"
     ]
    }
   ],
   "source": [
    "# if-else expression (not an if-else statement!)\n",
    "\n",
    "def abs7(n):\n",
    "    return n if (n >= 0) else -n\n",
    "\n",
    "print(\"abs7(5) =\", abs7(5), \"and abs7(-5) =\", abs7(-5))"
   ]
  },
  {
   "cell_type": "markdown",
   "id": "8b6b14b1",
   "metadata": {
    "ExecuteTime": {
     "end_time": "2022-12-29T17:21:27.299272Z",
     "start_time": "2022-12-29T17:21:27.288661Z"
    },
    "slideshow": {
     "slide_type": "slide"
    }
   },
   "source": [
    "# Clarity and style\n"
   ]
  },
  {
   "cell_type": "markdown",
   "id": "4575317b",
   "metadata": {
    "slideshow": {
     "slide_type": "subslide"
    }
   },
   "source": [
    "Note: this section concerns style and not correctness. All the examples here 'work', but some work more artfully than others. With that...\n"
   ]
  },
  {
   "cell_type": "markdown",
   "id": "f1c8a42d",
   "metadata": {
    "slideshow": {
     "slide_type": "subslide"
    }
   },
   "source": [
    "Negated Condition (with \"else\" clause)"
   ]
  },
  {
   "cell_type": "code",
   "execution_count": 9,
   "id": "19eca0d7",
   "metadata": {
    "ExecuteTime": {
     "end_time": "2022-12-29T17:39:00.830840Z",
     "start_time": "2022-12-29T17:39:00.818843Z"
    },
    "cell_style": "split"
   },
   "outputs": [
    {
     "name": "stdout",
     "output_type": "stream",
     "text": [
      "yes\n"
     ]
    }
   ],
   "source": [
    "# (Possibly) Unclear:\n",
    "b = True\n",
    "if not b:\n",
    "    print('no')\n",
    "else:\n",
    "    print('yes')"
   ]
  },
  {
   "cell_type": "code",
   "execution_count": 10,
   "id": "7b949c41",
   "metadata": {
    "ExecuteTime": {
     "end_time": "2022-12-29T17:39:00.846843Z",
     "start_time": "2022-12-29T17:39:00.831842Z"
    },
    "cell_style": "split"
   },
   "outputs": [
    {
     "name": "stdout",
     "output_type": "stream",
     "text": [
      "yes\n"
     ]
    }
   ],
   "source": [
    "# Better:\n",
    "b = True\n",
    "if b:\n",
    "    print('yes')\n",
    "else:\n",
    "    print('no')"
   ]
  },
  {
   "cell_type": "markdown",
   "id": "8134c681",
   "metadata": {
    "slideshow": {
     "slide_type": "subslide"
    }
   },
   "source": [
    "Empty \"if\" Clause"
   ]
  },
  {
   "cell_type": "code",
   "execution_count": 11,
   "id": "82495396",
   "metadata": {
    "ExecuteTime": {
     "end_time": "2022-12-29T17:39:00.862842Z",
     "start_time": "2022-12-29T17:39:00.848842Z"
    },
    "cell_style": "split"
   },
   "outputs": [
    {
     "name": "stdout",
     "output_type": "stream",
     "text": [
      "no\n"
     ]
    }
   ],
   "source": [
    "\n",
    "# Unclear:\n",
    "b = False\n",
    "if b:\n",
    "    pass\n",
    "else:\n",
    "    print('no')"
   ]
  },
  {
   "cell_type": "code",
   "execution_count": 12,
   "id": "5704094b",
   "metadata": {
    "ExecuteTime": {
     "end_time": "2022-12-29T17:39:00.878841Z",
     "start_time": "2022-12-29T17:39:00.864842Z"
    },
    "cell_style": "split"
   },
   "outputs": [
    {
     "name": "stdout",
     "output_type": "stream",
     "text": [
      "no\n"
     ]
    }
   ],
   "source": [
    "# Better:\n",
    "b = False\n",
    "if not b:\n",
    "    print('no')\n"
   ]
  },
  {
   "cell_type": "markdown",
   "id": "2db0414f",
   "metadata": {
    "slideshow": {
     "slide_type": "subslide"
    }
   },
   "source": [
    "Using \"if\" instead of \"and\""
   ]
  },
  {
   "cell_type": "code",
   "execution_count": 13,
   "id": "db798f43",
   "metadata": {
    "ExecuteTime": {
     "end_time": "2022-12-29T17:39:00.894842Z",
     "start_time": "2022-12-29T17:39:00.880844Z"
    },
    "cell_style": "split"
   },
   "outputs": [
    {
     "name": "stdout",
     "output_type": "stream",
     "text": [
      "both!\n"
     ]
    }
   ],
   "source": [
    "# Messy:\n",
    "b1 = True\n",
    "b2 = True\n",
    "if b1:\n",
    "    if b2:\n",
    "        print('both!')"
   ]
  },
  {
   "cell_type": "code",
   "execution_count": 14,
   "id": "0e19fe6e",
   "metadata": {
    "ExecuteTime": {
     "end_time": "2022-12-29T17:39:00.910843Z",
     "start_time": "2022-12-29T17:39:00.896844Z"
    },
    "cell_style": "split",
    "run_control": {
     "marked": false
    }
   },
   "outputs": [
    {
     "name": "stdout",
     "output_type": "stream",
     "text": [
      "both!\n"
     ]
    }
   ],
   "source": [
    "# Better:\n",
    "b1 = True\n",
    "b2 = True\n",
    "if b1 and b2:\n",
    "    print('both!')"
   ]
  },
  {
   "cell_type": "markdown",
   "id": "033655b5",
   "metadata": {
    "slideshow": {
     "slide_type": "subslide"
    }
   },
   "source": [
    "Using another \"if\" instead of \"else\""
   ]
  },
  {
   "cell_type": "code",
   "execution_count": 15,
   "id": "d58e59e1",
   "metadata": {
    "ExecuteTime": {
     "end_time": "2022-12-29T17:39:00.926841Z",
     "start_time": "2022-12-29T17:39:00.912842Z"
    },
    "cell_style": "split"
   },
   "outputs": [
    {
     "name": "stdout",
     "output_type": "stream",
     "text": [
      "yes\n"
     ]
    }
   ],
   "source": [
    "# Can lead to bugs:\n",
    "b = True\n",
    "if b:\n",
    "    print('yes')\n",
    "if not b:\n",
    "    print('no')"
   ]
  },
  {
   "cell_type": "code",
   "execution_count": 16,
   "id": "7414bacc",
   "metadata": {
    "ExecuteTime": {
     "end_time": "2022-12-29T17:39:00.941840Z",
     "start_time": "2022-12-29T17:39:00.928841Z"
    },
    "cell_style": "split"
   },
   "outputs": [
    {
     "name": "stdout",
     "output_type": "stream",
     "text": [
      "yes\n"
     ]
    }
   ],
   "source": [
    "# Better:\n",
    "b = True\n",
    "if b:\n",
    "    print('yes')\n",
    "else:\n",
    "    print('no')"
   ]
  },
  {
   "cell_type": "markdown",
   "id": "3ca5c318",
   "metadata": {
    "slideshow": {
     "slide_type": "subslide"
    }
   },
   "source": [
    "Another example:"
   ]
  },
  {
   "cell_type": "code",
   "execution_count": 17,
   "id": "d1d64880",
   "metadata": {
    "ExecuteTime": {
     "end_time": "2022-12-29T17:39:00.956841Z",
     "start_time": "2022-12-29T17:39:00.943843Z"
    },
    "cell_style": "split"
   },
   "outputs": [
    {
     "name": "stdout",
     "output_type": "stream",
     "text": [
      "large\n"
     ]
    }
   ],
   "source": [
    "# Messy and can lead to bugs:\n",
    "x = 10\n",
    "if x < 5:\n",
    "    print('small')\n",
    "if (x >= 5) and (x < 10):\n",
    "    print('medium')\n",
    "if (x >= 10) and (x < 15):\n",
    "    print('large')\n",
    "if x >= 15:\n",
    "    print('extra large')"
   ]
  },
  {
   "cell_type": "code",
   "execution_count": 18,
   "id": "f02e863c",
   "metadata": {
    "ExecuteTime": {
     "end_time": "2022-12-29T17:39:00.972840Z",
     "start_time": "2022-12-29T17:39:00.958842Z"
    },
    "cell_style": "split"
   },
   "outputs": [
    {
     "name": "stdout",
     "output_type": "stream",
     "text": [
      "large\n"
     ]
    }
   ],
   "source": [
    "# Better:\n",
    "x = 10\n",
    "if x < 5:\n",
    "    print('small')\n",
    "elif x < 10:\n",
    "    print('medium')\n",
    "elif x < 15:\n",
    "    print('large')\n",
    "else:\n",
    "    print('extra large')"
   ]
  },
  {
   "cell_type": "markdown",
   "id": "711b194c",
   "metadata": {
    "slideshow": {
     "slide_type": "subslide"
    }
   },
   "source": [
    "Yet Another Example"
   ]
  },
  {
   "cell_type": "code",
   "execution_count": 19,
   "id": "d95f8fc4",
   "metadata": {
    "ExecuteTime": {
     "end_time": "2022-12-29T17:39:00.988840Z",
     "start_time": "2022-12-29T17:39:00.973841Z"
    },
    "cell_style": "split"
   },
   "outputs": [
    {
     "ename": "SyntaxError",
     "evalue": "invalid syntax (3411462167.py, line 7)",
     "output_type": "error",
     "traceback": [
      "\u001b[1;36m  Cell \u001b[1;32mIn [19], line 7\u001b[1;36m\u001b[0m\n\u001b[1;33m    if (c < 'A') or\u001b[0m\n\u001b[1;37m                   ^\u001b[0m\n\u001b[1;31mSyntaxError\u001b[0m\u001b[1;31m:\u001b[0m invalid syntax\n"
     ]
    }
   ],
   "source": [
    "# Messy and can lead to bugs:\n",
    "c = 'a'\n",
    "if (c >= 'A') and (c <= 'Z'):\n",
    "    print('Uppercase!')\n",
    "if (c >= 'a') and (c <= 'z'):\n",
    "    print('lowercase!')\n",
    "if (c < 'A') or\n",
    "    ((c > 'Z') and (c < 'a')) or\n",
    "    (c > 'z'):\n",
    "    print ('not a letter!')"
   ]
  },
  {
   "cell_type": "code",
   "execution_count": null,
   "id": "d1085b80",
   "metadata": {
    "ExecuteTime": {
     "end_time": "2022-12-29T17:39:00.992844Z",
     "start_time": "2022-12-29T17:39:00.992844Z"
    },
    "cell_style": "split"
   },
   "outputs": [],
   "source": [
    "# Better:\n",
    "c = 'a'\n",
    "if (c >= 'A') and (c <= 'Z'):\n",
    "    print('Uppercase!')\n",
    "elif (c >= 'a') and (c <= 'z'):\n",
    "    print('lowercase!')\n",
    "else:\n",
    "    print('not a letter!')"
   ]
  },
  {
   "cell_type": "markdown",
   "id": "48991bac",
   "metadata": {
    "slideshow": {
     "slide_type": "subslide"
    }
   },
   "source": [
    "Using \"arithmetic logic\" instead of \"boolean logic\""
   ]
  },
  {
   "cell_type": "code",
   "execution_count": null,
   "id": "91aeab66",
   "metadata": {
    "ExecuteTime": {
     "end_time": "2022-12-29T17:39:00.993844Z",
     "start_time": "2022-12-29T17:39:00.993844Z"
    },
    "cell_style": "split"
   },
   "outputs": [],
   "source": [
    "# Unclear:\n",
    "x = 42\n",
    "y = ((x > 0) and 99)"
   ]
  },
  {
   "cell_type": "code",
   "execution_count": null,
   "id": "c009f14b",
   "metadata": {
    "ExecuteTime": {
     "end_time": "2022-12-29T17:39:00.994886Z",
     "start_time": "2022-12-29T17:39:00.994886Z"
    },
    "cell_style": "split"
   },
   "outputs": [],
   "source": [
    "# Better:\n",
    "x = 42\n",
    "if x > 0:\n",
    "    y = 99"
   ]
  },
  {
   "cell_type": "markdown",
   "id": "bcac0558",
   "metadata": {
    "slideshow": {
     "slide_type": "slide"
    }
   },
   "source": [
    "# Thank You ;-)\n",
    "Datawhale 聪明办法学 Python 教学团队出品\n",
    "\n",
    "## 关注我们\n",
    "Datawhale 是一个专注 AI 领域的开源组织，以“for the learner，和学习者一起成长”为愿景，构建对学习者最有价值的开源学习社区。关注我们，一起学习成长。\n",
    "<div align=center><img src=\"../resources/datawhale_wechat_qrcode.jpeg\" width = \"250\" height = \"270\"></div>"
   ]
  }
 ],
 "metadata": {
  "celltoolbar": "Slideshow",
  "kernelspec": {
   "display_name": "Python 3 (ipykernel)",
   "language": "python",
   "name": "python3"
  },
  "language_info": {
   "codemirror_mode": {
    "name": "ipython",
    "version": 3
   },
   "file_extension": ".py",
   "mimetype": "text/x-python",
   "name": "python",
   "nbconvert_exporter": "python",
   "pygments_lexer": "ipython3",
   "version": "3.9.15"
  },
  "rise": {
   "overlay": "<div class='my-top-right'><img height=80px src='https://avatars.githubusercontent.com/u/46047812?s=200&v=4'/></div><div class='my-top-left'></div>"
  },
  "toc": {
   "base_numbering": 1,
   "nav_menu": {},
   "number_sections": false,
   "sideBar": true,
   "skip_h1_title": false,
   "title_cell": "Table of Contents",
   "title_sidebar": "Contents",
   "toc_cell": false,
   "toc_position": {},
   "toc_section_display": true,
   "toc_window_display": false
  },
  "varInspector": {
   "cols": {
    "lenName": 16,
    "lenType": 16,
    "lenVar": 40
   },
   "kernels_config": {
    "python": {
     "delete_cmd_postfix": "",
     "delete_cmd_prefix": "del ",
     "library": "var_list.py",
     "varRefreshCmd": "print(var_dic_list())"
    },
    "r": {
     "delete_cmd_postfix": ") ",
     "delete_cmd_prefix": "rm(",
     "library": "var_list.r",
     "varRefreshCmd": "cat(var_dic_list()) "
    }
   },
   "types_to_exclude": [
    "module",
    "function",
    "builtin_function_or_method",
    "instance",
    "_Feature"
   ],
   "window_display": false
  },
  "vscode": {
   "interpreter": {
    "hash": "2604979e475c72c3999e63049dbb75eb38f7d29b6d0ace0384f7e020f0ee1ffa"
   }
  }
 },
 "nbformat": 4,
 "nbformat_minor": 5
}
