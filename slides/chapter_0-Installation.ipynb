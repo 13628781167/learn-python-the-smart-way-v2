{
 "cells": [
  {
   "cell_type": "markdown",
   "id": "68e6c596",
   "metadata": {
    "slideshow": {
     "slide_type": "slide"
    }
   },
   "source": [
    "  # 聪明办法学 Python 2nd Edition (Beta)\n",
    "## Chapter 0 安装 Installation\n",
    "---\n",
    "骆秀韬\n",
    "\n",
    "<p>epsilon_luoo@outlook.com</p>\n",
    "\n",
    "张凯旋\n",
    "\n",
    "<p>zhangkx12022@shanghaitech.edu.cn</p>"
   ]
  },
  {
   "cell_type": "markdown",
   "id": "4f786bb7",
   "metadata": {
    "slideshow": {
     "slide_type": "slide"
    }
   },
   "source": [
    "# 大纲\n",
    "1. 安装相关软件\n",
    "  1. Miniconda3\n",
    "  2. Visual Studio Code\n",
    "2. 更换国内镜像源\n",
    "  1. Pip 换源\n",
    "  2. Conda 换源\n",
    "3. VSCode 插件安装\n",
    "4. 本地运行 Python 文件方法\n",
    "5. 云端运行环境介绍（仅供临时使用）"
   ]
  },
  {
   "cell_type": "markdown",
   "id": "e3b9b6a8",
   "metadata": {
    "slideshow": {
     "slide_type": "slide"
    }
   },
   "source": [
    "# 安装清单\n",
    "- Miniconda: https://docs.conda.io/en/latest/miniconda.html\n",
    "- Visual Studio Code: https://code.visualstudio.com/"
   ]
  },
  {
   "attachments": {},
   "cell_type": "markdown",
   "id": "0312d547",
   "metadata": {
    "slideshow": {
     "slide_type": "subslide"
    }
   },
   "source": [
    "# 修改 Powershell 执行策略\n",
    "\n",
    "在`开始`图标**右键单击**，选择 `Windows PowerShell（管理员）`\n",
    "\n",
    "先输入：\n",
    "```powershell\n",
    "Set-ExecutionPolicy -Scope CurrentUser RemoteSigned\n",
    "```\n",
    "\n",
    "然后输入：`A`，回车\n",
    "\n",
    "最后输入：\n",
    "```bash\n",
    "conda init\n",
    "```"
   ]
  },
  {
   "cell_type": "markdown",
   "id": "50b897f3",
   "metadata": {
    "slideshow": {
     "slide_type": "slide"
    }
   },
   "source": [
    "# 更换镜像源\n",
    "\n",
    "- Pip 换源\n",
    "- Conda 换源\n",
    "\n",
    "> 加快国内资源下载速度"
   ]
  },
  {
   "cell_type": "markdown",
   "id": "5ec52c36",
   "metadata": {
    "slideshow": {
     "slide_type": "subslide"
    }
   },
   "source": [
    "## 清华大学开源镜像站\n",
    "https://mirrors.tuna.tsinghua.edu.cn/\n",
    "\n",
    "## 阿里巴巴开源镜像站\n",
    "https://developer.aliyun.com/mirror/\n",
    "\n",
    "请避免使用代理，不合理的代理设置会导致下载失败"
   ]
  },
  {
   "cell_type": "markdown",
   "id": "8b3da479",
   "metadata": {
    "slideshow": {
     "slide_type": "slide"
    }
   },
   "source": [
    "# VSCode 插件推荐\n",
    "\n",
    "- Chinese (Simplified) (简体中文) Language Pack for Visual Studio Code\n",
    "- Jupyter\n",
    "- Jupyter Keymap\n",
    "- Jupyter Notebook Renderers\n",
    "- Office Viewer(Markdown Editor)\n",
    "- Pylance\n",
    "- Python"
   ]
  },
  {
   "cell_type": "markdown",
   "id": "0d011cdf",
   "metadata": {
    "slideshow": {
     "slide_type": "slide"
    }
   },
   "source": [
    "# 云端环境的使用\n",
    "- 百度飞桨 AI Studio https://aistudio.baidu.com/aistudio/index\n",
    "- 阿里天池 PAI DSW https://tianchi.aliyun.com/notebook-ai\n",
    "- Kaggle https://www.kaggle.com/code\n",
    "- Google Colab https://colab.research.google.com/\n",
    "- Sagemaker Studio Lab https://studiolab.sagemaker.aws/"
   ]
  },
  {
   "cell_type": "markdown",
   "id": "ab2f6468",
   "metadata": {
    "slideshow": {
     "slide_type": "slide"
    }
   },
   "source": [
    "# 作业\n",
    "> 推荐任务，不是强制要求\n",
    "\n",
    "请尝试编写文件 `hw0.py`，其内容为：\n",
    "```python\n",
    "import this\n",
    "```\n",
    "运行 `hw0.py` 并查看运行结果，查阅相关资料，翻译运行结果，可提交在论坛相关帖子中"
   ]
  },
  {
   "cell_type": "markdown",
   "id": "66e539c6",
   "metadata": {
    "slideshow": {
     "slide_type": "slide"
    }
   },
   "source": [
    "# Thank You ;-)\n",
    "Datawhale 聪明办法学 Python 教学团队出品\n",
    "\n",
    "## 关注我们\n",
    "Datawhale 是一个专注 AI 领域的开源组织，以“for the learner，和学习者一起成长”为愿景，构建对学习者最有价值的开源学习社区。关注我们，一起学习成长。\n",
    "<div align=center><img src=\"../resources/datawhale_wechat_qrcode.jpeg\" width = \"250\" height = \"270\"></div>"
   ]
  }
 ],
 "metadata": {
  "celltoolbar": "幻灯片",
  "kernelspec": {
   "display_name": "Python 3 (ipykernel)",
   "language": "python",
   "name": "python3"
  },
  "language_info": {
   "codemirror_mode": {
    "name": "ipython",
    "version": 3
   },
   "file_extension": ".py",
   "mimetype": "text/x-python",
   "name": "python",
   "nbconvert_exporter": "python",
   "pygments_lexer": "ipython3",
   "version": "3.9.15"
  },
  "rise": {
   "overlay": "<div class='my-top-right'><img height=80px src='https://avatars.githubusercontent.com/u/46047812?s=200&v=4'/></div><div class='my-top-left'></div>"
  },
  "toc": {
   "base_numbering": 1,
   "nav_menu": {},
   "number_sections": true,
   "sideBar": true,
   "skip_h1_title": false,
   "title_cell": "Table of Contents",
   "title_sidebar": "Contents",
   "toc_cell": false,
   "toc_position": {},
   "toc_section_display": true,
   "toc_window_display": false
  },
  "varInspector": {
   "cols": {
    "lenName": 16,
    "lenType": 16,
    "lenVar": 40
   },
   "kernels_config": {
    "python": {
     "delete_cmd_postfix": "",
     "delete_cmd_prefix": "del ",
     "library": "var_list.py",
     "varRefreshCmd": "print(var_dic_list())"
    },
    "r": {
     "delete_cmd_postfix": ") ",
     "delete_cmd_prefix": "rm(",
     "library": "var_list.r",
     "varRefreshCmd": "cat(var_dic_list()) "
    }
   },
   "types_to_exclude": [
    "module",
    "function",
    "builtin_function_or_method",
    "instance",
    "_Feature"
   ],
   "window_display": false
  }
 },
 "nbformat": 4,
 "nbformat_minor": 5
}
