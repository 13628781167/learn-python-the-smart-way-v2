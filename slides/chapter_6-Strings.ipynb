{
 "cells": [
  {
   "attachments": {},
   "cell_type": "markdown",
   "metadata": {},
   "source": [
    "# 字符串文字"
   ]
  },
  {
   "attachments": {},
   "cell_type": "markdown",
   "metadata": {},
   "source": [
    "## 四种引号\n",
    "\n",
    "引号的作用就是将文字包裹起来，告诉 Python \"这是个字符串！\"\n",
    "\n",
    "单引号 `'` 和双引号 `\"` 是最常见的两种字符字符串引号"
   ]
  },
  {
   "cell_type": "code",
   "execution_count": 17,
   "metadata": {},
   "outputs": [
    {
     "name": "stdout",
     "output_type": "stream",
     "text": [
      "single-quotes\n",
      "double-quotes\n"
     ]
    }
   ],
   "source": [
    "print('single-quotes')\n",
    "print(\"double-quotes\")"
   ]
  },
  {
   "attachments": {},
   "cell_type": "markdown",
   "metadata": {},
   "source": [
    "三个引号的情况不太常见，但是它在一些场合有特定的作用（如函数文档 doc-strings）"
   ]
  },
  {
   "cell_type": "code",
   "execution_count": 18,
   "metadata": {},
   "outputs": [
    {
     "name": "stdout",
     "output_type": "stream",
     "text": [
      "triple single-quotes\n",
      "triple double-quotes\n"
     ]
    }
   ],
   "source": [
    "print('''triple single-quotes''')\n",
    "print(\"\"\"triple double-quotes\"\"\")"
   ]
  },
  {
   "attachments": {},
   "cell_type": "markdown",
   "metadata": {},
   "source": [
    "**我们为什么需要两种不同的引号？**"
   ]
  },
  {
   "cell_type": "code",
   "execution_count": 19,
   "metadata": {},
   "outputs": [
    {
     "name": "stdout",
     "output_type": "stream",
     "text": [
      "The professor said \"No laptops in class!\" I miss my laptop.\n"
     ]
    }
   ],
   "source": [
    "# 为了写出这样的句子\n",
    "print('The professor said \"No laptops in class!\" I miss my laptop.')"
   ]
  },
  {
   "attachments": {},
   "cell_type": "markdown",
   "metadata": {},
   "source": [
    "如果我们偏要只用一种引号呢？"
   ]
  },
  {
   "cell_type": "code",
   "execution_count": 20,
   "metadata": {},
   "outputs": [
    {
     "ename": "SyntaxError",
     "evalue": "invalid syntax (3410012630.py, line 2)",
     "output_type": "error",
     "traceback": [
      "\u001b[1;36m  Cell \u001b[1;32mIn [20], line 2\u001b[1;36m\u001b[0m\n\u001b[1;33m    print(\"The professor said \"No laptops in class!\" I miss my laptop.\")\u001b[0m\n\u001b[1;37m                               ^\u001b[0m\n\u001b[1;31mSyntaxError\u001b[0m\u001b[1;31m:\u001b[0m invalid syntax\n"
     ]
    }
   ],
   "source": [
    "# 这会导致语法错误，Python 无法正确判断一个字符串的终止位置\n",
    "print(\"The professor said \"No laptops in class!\" I miss my laptop.\")"
   ]
  },
  {
   "attachments": {},
   "cell_type": "markdown",
   "metadata": {},
   "source": [
    "## 字符串中的换行符号\n",
    "\n",
    "前面有反斜杠 `\\` 的字符，叫做**转义序列**\n",
    "\n",
    "比如 `\\n` 代表**换行**，尽管它看起来像两个字符，但是 Python 依然把它视为一个特殊的字符"
   ]
  },
  {
   "cell_type": "code",
   "execution_count": null,
   "metadata": {},
   "outputs": [
    {
     "name": "stdout",
     "output_type": "stream",
     "text": [
      "abc\n",
      "def\n"
     ]
    }
   ],
   "source": [
    "# 这两个 print() 在做同样的事情\n",
    "print(\"abc\\ndef\")  # \\n 是一个单独的换行符号"
   ]
  },
  {
   "cell_type": "code",
   "execution_count": null,
   "metadata": {},
   "outputs": [
    {
     "name": "stdout",
     "output_type": "stream",
     "text": [
      "abc\n",
      "def\n"
     ]
    }
   ],
   "source": [
    "print(\"\"\"abc\n",
    "def\"\"\")"
   ]
  },
  {
   "cell_type": "code",
   "execution_count": null,
   "metadata": {},
   "outputs": [
    {
     "name": "stdout",
     "output_type": "stream",
     "text": [
      "你可以在字符串后面使用 反斜杠 `\\`  来排除后面的换行。比如这里是第二行文字，但是你会看到它会紧跟在上一行句号后面。这种做法在 CIL 里面经常使用（多个 Flag 并排保持美观），但是在编程中的应用比较少。\n"
     ]
    }
   ],
   "source": [
    "print(\"\"\"你可以在字符串后面使用 反斜杠 `\\`  来排除后面的换行。\\\n",
    "比如这里是第二行文字，但是你会看到它会紧跟在上一行句号后面。\\\n",
    "这种做法在 CIL 里面经常使用（多个 Flag 并排保持美观），\\\n",
    "但是在编程中的应用比较少。\\\n",
    "\"\"\")"
   ]
  },
  {
   "cell_type": "code",
   "execution_count": null,
   "metadata": {},
   "outputs": [
    {
     "name": "stdout",
     "output_type": "stream",
     "text": [
      "你可以在字符串后面使用 反斜杠 `\\`  来排除后面的换行。\n",
      "比如这里是第二行文字，但是你会看到它会紧跟在上一行句号后面。\n",
      "这种做法在 CIL 里面经常使用（多个 Flag 并排保持美观），\n",
      "但是在编程中的应用比较少。\n",
      "\n"
     ]
    }
   ],
   "source": [
    "print(\"\"\"你可以在字符串后面使用 反斜杠 `\\`  来排除后面的换行。\n",
    "比如这里是第二行文字，但是你会看到它会紧跟在上一行句号后面。\n",
    "这种做法在 CIL 里面经常使用（多个 Flag 并排保持美观），\n",
    "但是在编程中的应用比较少。\n",
    "\"\"\")"
   ]
  },
  {
   "attachments": {},
   "cell_type": "markdown",
   "metadata": {},
   "source": [
    "## 其他的转义序列"
   ]
  },
  {
   "cell_type": "code",
   "execution_count": null,
   "metadata": {},
   "outputs": [
    {
     "name": "stdout",
     "output_type": "stream",
     "text": [
      "双引号：\"\n"
     ]
    }
   ],
   "source": [
    "print(\"双引号：\\\"\")"
   ]
  },
  {
   "cell_type": "code",
   "execution_count": null,
   "metadata": {},
   "outputs": [
    {
     "name": "stdout",
     "output_type": "stream",
     "text": [
      "反斜线：\\\n"
     ]
    }
   ],
   "source": [
    "print(\"反斜线：\\\\\")"
   ]
  },
  {
   "cell_type": "code",
   "execution_count": null,
   "metadata": {},
   "outputs": [
    {
     "name": "stdout",
     "output_type": "stream",
     "text": [
      "换\n",
      "行\n"
     ]
    }
   ],
   "source": [
    "print(\"换\\n行\")"
   ]
  },
  {
   "cell_type": "code",
   "execution_count": null,
   "metadata": {},
   "outputs": [
    {
     "name": "stdout",
     "output_type": "stream",
     "text": [
      "这个是\t制\t表\t符\n",
      "也叫\t跳\t格\t键\n"
     ]
    }
   ],
   "source": [
    "print(\"这个是\\t制\\t表\\t符\\n也叫\\t跳\\t格\\t键\")"
   ]
  },
  {
   "attachments": {},
   "cell_type": "markdown",
   "metadata": {},
   "source": [
    "转义序列只作为一个字符存在"
   ]
  },
  {
   "cell_type": "code",
   "execution_count": null,
   "metadata": {},
   "outputs": [
    {
     "name": "stdout",
     "output_type": "stream",
     "text": [
      "s = a\\b\"c\td\n",
      "\n",
      "s 的长度为： 7\n"
     ]
    }
   ],
   "source": [
    "s = \"a\\\\b\\\"c\\td\"\n",
    "print(\"s =\", s)\n",
    "print(\"\\ns 的长度为：\", len(s))"
   ]
  },
  {
   "attachments": {},
   "cell_type": "markdown",
   "metadata": {},
   "source": [
    "## repr() vs. print()"
   ]
  },
  {
   "cell_type": "markdown",
   "metadata": {},
   "source": [
    "我们现在有两个字符串"
   ]
  },
  {
   "cell_type": "code",
   "execution_count": null,
   "metadata": {},
   "outputs": [],
   "source": [
    "s1 = \"Data\\tWhale\"\n",
    "s2 = \"Data        Whale\""
   ]
  },
  {
   "attachments": {},
   "cell_type": "markdown",
   "metadata": {},
   "source": [
    "它俩看起来似乎是一样的"
   ]
  },
  {
   "cell_type": "code",
   "execution_count": null,
   "metadata": {},
   "outputs": [
    {
     "name": "stdout",
     "output_type": "stream",
     "text": [
      "s1: Data\tWhale\n",
      "s2: Data        Whale\n"
     ]
    }
   ],
   "source": [
    "print(\"s1:\", s1)\n",
    "print(\"s2:\", s2)"
   ]
  },
  {
   "attachments": {},
   "cell_type": "markdown",
   "metadata": {},
   "source": [
    " > ### 如来佛合掌道：“观音尊者，你看那两个行者，谁是真假？” "
   ]
  },
  {
   "attachments": {},
   "cell_type": "markdown",
   "metadata": {},
   "source": [
    "但是它们真的一样吗？"
   ]
  },
  {
   "cell_type": "code",
   "execution_count": null,
   "metadata": {},
   "outputs": [
    {
     "data": {
      "text/plain": [
       "False"
      ]
     },
     "execution_count": 43,
     "metadata": {},
     "output_type": "execute_result"
    }
   ],
   "source": [
    "s1 == s2"
   ]
  },
  {
   "attachments": {},
   "cell_type": "markdown",
   "metadata": {},
   "source": [
    "> ### “谛听，汝之神通，能分辨出谁是真身，可为我说之。”"
   ]
  },
  {
   "cell_type": "code",
   "execution_count": null,
   "metadata": {},
   "outputs": [
    {
     "name": "stdout",
     "output_type": "stream",
     "text": [
      "'Data\\tWhale'\n",
      "'Data        Whale'\n"
     ]
    }
   ],
   "source": [
    "print(repr(s1))\n",
    "print(repr(s2))"
   ]
  },
  {
   "cell_type": "code",
   "execution_count": null,
   "metadata": {},
   "outputs": [],
   "source": [
    "hack_text = \"密码应当大于 8 个字符，小于 16 个字符，包含大写字母、小写字母、数字和特殊符号\\t\\t\\t\\t\\t\\t\\t\\t\\t\\t\\t\\t\\t\""
   ]
  },
  {
   "cell_type": "code",
   "execution_count": null,
   "metadata": {},
   "outputs": [
    {
     "name": "stdout",
     "output_type": "stream",
     "text": [
      "密码应当大于 8 个字符，小于 16 个字符，包含大写字母、小写字母、数字和特殊符号\t\t\t\t\t\t\t\t\t\t\t\t\t\n"
     ]
    }
   ],
   "source": [
    "print(hack_text)"
   ]
  },
  {
   "cell_type": "code",
   "execution_count": null,
   "metadata": {},
   "outputs": [
    {
     "name": "stdout",
     "output_type": "stream",
     "text": [
      "'密码应当大于 8 个字符，小于 16 个字符，包含大写字母、小写字母、数字和特殊符号\\t\\t\\t\\t\\t\\t\\t\\t\\t\\t\\t\\t\\t'\n"
     ]
    }
   ],
   "source": [
    "print(repr(hack_text))"
   ]
  },
  {
   "cell_type": "markdown",
   "metadata": {},
   "source": [
    "String Literals as Multi-line Comments\n"
   ]
  },
  {
   "cell_type": "code",
   "execution_count": null,
   "metadata": {},
   "outputs": [
    {
     "name": "stdout",
     "output_type": "stream",
     "text": [
      "Amazing!\n"
     ]
    }
   ],
   "source": [
    "\"\"\"\n",
    "Python 本身是没有多行注释的，\n",
    "但是你可以用多行字符串实现同样的操作，\n",
    "还记得我们之前学过的“表达式“吗？\n",
    "它的原理就是 Python 会运行它，\n",
    "但是马上扔掉！（垃圾回收机制）\n",
    "\"\"\"\n",
    "print(\"Amazing!\")"
   ]
  },
  {
   "attachments": {},
   "cell_type": "markdown",
   "metadata": {},
   "source": [
    "# 一些字符串常量"
   ]
  },
  {
   "cell_type": "code",
   "execution_count": null,
   "metadata": {},
   "outputs": [
    {
     "name": "stdout",
     "output_type": "stream",
     "text": [
      "abcdefghijklmnopqrstuvwxyzABCDEFGHIJKLMNOPQRSTUVWXYZ\n"
     ]
    }
   ],
   "source": [
    "import string\n",
    "print(string.ascii_letters)"
   ]
  },
  {
   "cell_type": "code",
   "execution_count": null,
   "metadata": {},
   "outputs": [
    {
     "name": "stdout",
     "output_type": "stream",
     "text": [
      "abcdefghijklmnopqrstuvwxyz\n"
     ]
    }
   ],
   "source": [
    "print(string.ascii_lowercase)"
   ]
  },
  {
   "cell_type": "code",
   "execution_count": null,
   "metadata": {},
   "outputs": [
    {
     "name": "stdout",
     "output_type": "stream",
     "text": [
      "ABCDEFGHIJKLMNOPQRSTUVWXYZ\n"
     ]
    }
   ],
   "source": [
    "print(string.ascii_uppercase) "
   ]
  },
  {
   "cell_type": "code",
   "execution_count": null,
   "metadata": {},
   "outputs": [
    {
     "name": "stdout",
     "output_type": "stream",
     "text": [
      "0123456789\n"
     ]
    }
   ],
   "source": [
    "print(string.digits)"
   ]
  },
  {
   "cell_type": "code",
   "execution_count": null,
   "metadata": {},
   "outputs": [
    {
     "name": "stdout",
     "output_type": "stream",
     "text": [
      "!\"#$%&'()*+,-./:;<=>?@[\\]^_`{|}~\n"
     ]
    }
   ],
   "source": [
    "print(string.punctuation) # < = >"
   ]
  },
  {
   "cell_type": "code",
   "execution_count": null,
   "metadata": {},
   "outputs": [
    {
     "name": "stdout",
     "output_type": "stream",
     "text": [
      "0123456789abcdefghijklmnopqrstuvwxyzABCDEFGHIJKLMNOPQRSTUVWXYZ!\"#$%&'()*+,-./:;<=>?@[\\]^_`{|}~ \t\n",
      "\u000b\f\n"
     ]
    }
   ],
   "source": [
    "print(string.printable)"
   ]
  },
  {
   "cell_type": "code",
   "execution_count": null,
   "metadata": {},
   "outputs": [
    {
     "name": "stdout",
     "output_type": "stream",
     "text": [
      " \t\n",
      "\u000b\f\n"
     ]
    }
   ],
   "source": [
    "print(string.whitespace)"
   ]
  },
  {
   "cell_type": "code",
   "execution_count": null,
   "metadata": {},
   "outputs": [
    {
     "name": "stdout",
     "output_type": "stream",
     "text": [
      "' \\t\\n\\r\\x0b\\x0c'\n"
     ]
    }
   ],
   "source": [
    "print(repr(string.whitespace))"
   ]
  },
  {
   "attachments": {},
   "cell_type": "markdown",
   "metadata": {},
   "source": [
    "# 一些字符串的运算\n"
   ]
  },
  {
   "attachments": {},
   "cell_type": "markdown",
   "metadata": {},
   "source": [
    "字符串的加减"
   ]
  },
  {
   "cell_type": "code",
   "execution_count": null,
   "metadata": {},
   "outputs": [
    {
     "name": "stdout",
     "output_type": "stream",
     "text": [
      "abcdef\n",
      "abcabcabc\n"
     ]
    }
   ],
   "source": [
    "print(\"abc\" + \"def\")\n",
    "print(\"abc\" * 3)"
   ]
  },
  {
   "cell_type": "code",
   "execution_count": null,
   "metadata": {},
   "outputs": [
    {
     "ename": "TypeError",
     "evalue": "can only concatenate str (not \"int\") to str",
     "output_type": "error",
     "traceback": [
      "\u001b[1;31m---------------------------------------------------------------------------\u001b[0m",
      "\u001b[1;31mTypeError\u001b[0m                                 Traceback (most recent call last)",
      "\u001b[1;32mc:\\Coding\\Datawhale\\Python_Tutorial\\learn-python-the-smart-way-v2\\slides\\chapter_6-Strings.ipynb Cell 49\u001b[0m in \u001b[0;36m1\n\u001b[1;32m----> <a href='vscode-notebook-cell:/c%3A/Coding/Datawhale/Python_Tutorial/learn-python-the-smart-way-v2/slides/chapter_6-Strings.ipynb#Y223sZmlsZQ%3D%3D?line=0'>1</a>\u001b[0m \u001b[39mprint\u001b[39m(\u001b[39m\"\u001b[39;49m\u001b[39mabc\u001b[39;49m\u001b[39m\"\u001b[39;49m \u001b[39m+\u001b[39;49m \u001b[39m3\u001b[39;49m)\n",
      "\u001b[1;31mTypeError\u001b[0m: can only concatenate str (not \"int\") to str"
     ]
    }
   ],
   "source": [
    "print(\"abc\" + 3)"
   ]
  },
  {
   "attachments": {},
   "cell_type": "markdown",
   "metadata": {},
   "source": [
    "`in` 运算（超级好用！）"
   ]
  },
  {
   "cell_type": "code",
   "execution_count": null,
   "metadata": {},
   "outputs": [
    {
     "name": "stdout",
     "output_type": "stream",
     "text": [
      "True\n",
      "False\n",
      "False\n",
      "True\n"
     ]
    }
   ],
   "source": [
    "print(\"ring\" in \"strings\")\n",
    "print(\"wow\" in \"amazing!\")\n",
    "print(\"Yes\" in \"yes!\")\n",
    "print(\"\" in \"No way!\")"
   ]
  },
  {
   "attachments": {},
   "cell_type": "markdown",
   "metadata": {},
   "source": [
    "### 字符串索引和切片"
   ]
  },
  {
   "attachments": {},
   "cell_type": "markdown",
   "metadata": {},
   "source": [
    "单个字符索引\n",
    "\n",
    "索引可以让我们在特定位置找到一个字符"
   ]
  },
  {
   "cell_type": "code",
   "execution_count": 21,
   "metadata": {},
   "outputs": [
    {
     "name": "stdout",
     "output_type": "stream",
     "text": [
      "Datawhale\n",
      "D\n",
      "a\n",
      "t\n",
      "a\n"
     ]
    }
   ],
   "source": [
    "s = \"Datawhale\"\n",
    "print(s)\n",
    "print(s[0])\n",
    "print(s[1])\n",
    "print(s[2])\n",
    "print(s[3])"
   ]
  },
  {
   "cell_type": "code",
   "execution_count": null,
   "metadata": {},
   "outputs": [
    {
     "data": {
      "text/plain": [
       "9"
      ]
     },
     "execution_count": 4,
     "metadata": {},
     "output_type": "execute_result"
    }
   ],
   "source": [
    "len(s)"
   ]
  },
  {
   "cell_type": "code",
   "execution_count": null,
   "metadata": {},
   "outputs": [
    {
     "name": "stdout",
     "output_type": "stream",
     "text": [
      "e\n"
     ]
    }
   ],
   "source": [
    "print(s[len(s)-1])"
   ]
  },
  {
   "cell_type": "code",
   "execution_count": 22,
   "metadata": {},
   "outputs": [
    {
     "ename": "IndexError",
     "evalue": "string index out of range",
     "output_type": "error",
     "traceback": [
      "\u001b[1;31m---------------------------------------------------------------------------\u001b[0m",
      "\u001b[1;31mIndexError\u001b[0m                                Traceback (most recent call last)",
      "\u001b[1;32mc:\\Coding\\Datawhale\\Python_Tutorial\\learn-python-the-smart-way-v2\\slides\\chapter_6-Strings.ipynb Cell 57\u001b[0m in \u001b[0;36m1\n\u001b[1;32m----> <a href='vscode-notebook-cell:/c%3A/Coding/Datawhale/Python_Tutorial/learn-python-the-smart-way-v2/slides/chapter_6-Strings.ipynb#Y110sZmlsZQ%3D%3D?line=0'>1</a>\u001b[0m \u001b[39mprint\u001b[39m(s[\u001b[39mlen\u001b[39;49m(s)])\n",
      "\u001b[1;31mIndexError\u001b[0m: string index out of range"
     ]
    }
   ],
   "source": [
    "print(s[len(s)])"
   ]
  },
  {
   "attachments": {},
   "cell_type": "markdown",
   "metadata": {},
   "source": [
    "负数索引"
   ]
  },
  {
   "cell_type": "code",
   "execution_count": null,
   "metadata": {},
   "outputs": [
    {
     "name": "stdout",
     "output_type": "stream",
     "text": [
      "Datawhale\n",
      "w\n",
      "h\n",
      "a\n",
      "l\n",
      "e\n"
     ]
    }
   ],
   "source": [
    "print(s)\n",
    "print(s[-5])\n",
    "print(s[-4])\n",
    "print(s[-3])\n",
    "print(s[-2])\n",
    "print(s[-1])"
   ]
  },
  {
   "attachments": {},
   "cell_type": "markdown",
   "metadata": {},
   "source": [
    "用切片来获取字符串的一部分"
   ]
  },
  {
   "cell_type": "code",
   "execution_count": null,
   "metadata": {},
   "outputs": [
    {
     "name": "stdout",
     "output_type": "stream",
     "text": [
      "Data\n",
      "whale\n"
     ]
    }
   ],
   "source": [
    "print(s[0:4])\n",
    "print(s[4:9])"
   ]
  },
  {
   "cell_type": "code",
   "execution_count": null,
   "metadata": {},
   "outputs": [
    {
     "name": "stdout",
     "output_type": "stream",
     "text": [
      "Da\n",
      "ta\n",
      "ha\n",
      "le\n"
     ]
    }
   ],
   "source": [
    "print(s[0:2])\n",
    "print(s[2:4])\n",
    "print(s[5:7])\n",
    "print(s[7:9])"
   ]
  },
  {
   "attachments": {},
   "cell_type": "markdown",
   "metadata": {},
   "source": [
    "切片的默认参数"
   ]
  },
  {
   "cell_type": "code",
   "execution_count": null,
   "metadata": {},
   "outputs": [
    {
     "name": "stdout",
     "output_type": "stream",
     "text": [
      "Data\n",
      "whale\n",
      "Datawhale\n"
     ]
    }
   ],
   "source": [
    "print(s[:4])\n",
    "print(s[4:])\n",
    "print(s[:])"
   ]
  },
  {
   "attachments": {},
   "cell_type": "markdown",
   "metadata": {},
   "source": [
    "切片的第三个参数 `step`"
   ]
  },
  {
   "cell_type": "code",
   "execution_count": null,
   "metadata": {},
   "outputs": [
    {
     "name": "stdout",
     "output_type": "stream",
     "text": [
      "Daa\n",
      "aa\n"
     ]
    }
   ],
   "source": [
    "print(s[:9:3])\n",
    "print(s[1:4:2])"
   ]
  },
  {
   "attachments": {},
   "cell_type": "markdown",
   "metadata": {},
   "source": [
    "翻转字符串"
   ]
  },
  {
   "cell_type": "code",
   "execution_count": null,
   "metadata": {},
   "outputs": [
    {
     "name": "stdout",
     "output_type": "stream",
     "text": [
      "elahwataD\n"
     ]
    }
   ],
   "source": [
    "# 可以，但是不优雅\n",
    "print(s[::-1])"
   ]
  },
  {
   "cell_type": "code",
   "execution_count": null,
   "metadata": {},
   "outputs": [
    {
     "name": "stdout",
     "output_type": "stream",
     "text": [
      "elahwataD\n"
     ]
    }
   ],
   "source": [
    "# 也可以，但是还是不够优雅\n",
    "print(\"\".join(reversed(s)))"
   ]
  },
  {
   "cell_type": "code",
   "execution_count": 24,
   "metadata": {},
   "outputs": [
    {
     "name": "stdout",
     "output_type": "stream",
     "text": [
      "elahwataD\n"
     ]
    }
   ],
   "source": [
    "# 实在是太优雅辣\n",
    "def reverseString(s):\n",
    "    return s[::-1]\n",
    "\n",
    "print(reverseString(s))\n"
   ]
  },
  {
   "attachments": {},
   "cell_type": "markdown",
   "metadata": {},
   "source": [
    "# 字符串的循环"
   ]
  },
  {
   "attachments": {},
   "cell_type": "markdown",
   "metadata": {},
   "source": [
    "用索引的 for 循环"
   ]
  },
  {
   "cell_type": "code",
   "execution_count": null,
   "metadata": {},
   "outputs": [
    {
     "name": "stdout",
     "output_type": "stream",
     "text": [
      "0 D\n",
      "1 a\n",
      "2 t\n",
      "3 a\n",
      "4 w\n",
      "5 h\n",
      "6 a\n",
      "7 l\n",
      "8 e\n"
     ]
    }
   ],
   "source": [
    "for i in range(len(s)):\n",
    "    print(i, s[i])"
   ]
  },
  {
   "attachments": {},
   "cell_type": "markdown",
   "metadata": {},
   "source": [
    "其实也可以不用索引（超级好用的 `in`）"
   ]
  },
  {
   "cell_type": "code",
   "execution_count": null,
   "metadata": {},
   "outputs": [
    {
     "name": "stdout",
     "output_type": "stream",
     "text": [
      "D\n",
      "a\n",
      "t\n",
      "a\n",
      "w\n",
      "h\n",
      "a\n",
      "l\n",
      "e\n"
     ]
    }
   ],
   "source": [
    "for c in s:\n",
    "    print(c)"
   ]
  },
  {
   "attachments": {},
   "cell_type": "markdown",
   "metadata": {},
   "source": [
    "用 `split()` 来循环"
   ]
  },
  {
   "cell_type": "code",
   "execution_count": null,
   "metadata": {},
   "outputs": [
    {
     "name": "stdout",
     "output_type": "stream",
     "text": [
      "learn\n",
      "python\n",
      "the\n",
      "smart\n",
      "way\n",
      "2nd\n",
      "edition\n"
     ]
    }
   ],
   "source": [
    "# class_name.split() 本身会产生一个新的叫做“列表”的东西，但是它不存储任何内容\n",
    "\n",
    "class_name = \"learn python the smart way 2nd edition\"\n",
    "for word in class_name.split():\n",
    "    print(word)"
   ]
  },
  {
   "attachments": {},
   "cell_type": "markdown",
   "metadata": {},
   "source": [
    "用 `splitlines()` 来循环"
   ]
  },
  {
   "cell_type": "code",
   "execution_count": null,
   "metadata": {},
   "outputs": [
    {
     "name": "stdout",
     "output_type": "stream",
     "text": [
      "Prepare To Be Smart， 我们希望同学们学习这个教程后能学习到聪明的办法，从容的迈入人工智能的后续学习。\n"
     ]
    }
   ],
   "source": [
    "# 跟上面一样，class_info.splitlines() 也会产生一个列表，但不存储任何内容\n",
    "\n",
    "class_info = \"\"\"\\\n",
    "聪明办法学 Python 第二版是 Datawhale 基于第一版教程的一次大幅更新。我们尝试在教程中融入更多计算机科学与人工智能相关的内容，制作“面向人工智能的 Python 专项教程”。\n",
    "\n",
    "我们的课程简称为 P2S，有两个含义：\n",
    "\n",
    "Learn Python The Smart Way V2，“聪明办法学 Python 第二版”的缩写。\n",
    "Prepare To Be Smart， 我们希望同学们学习这个教程后能学习到聪明的办法，从容的迈入人工智能的后续学习。\n",
    "\"\"\"\n",
    "for line in class_info.splitlines():\n",
    "    if (line.startswith(\"Prepare To Be Smart\")):\n",
    "        print(line)"
   ]
  },
  {
   "attachments": {},
   "cell_type": "markdown",
   "metadata": {},
   "source": [
    "# 例子：回文判断"
   ]
  },
  {
   "attachments": {},
   "cell_type": "markdown",
   "metadata": {},
   "source": [
    "如果一个句子正着读、反着读都是一样的，那它就叫做“回文”"
   ]
  },
  {
   "cell_type": "code",
   "execution_count": 25,
   "metadata": {},
   "outputs": [],
   "source": [
    "def isPalindrome1(s):\n",
    "    return (s == reverseString(s))"
   ]
  },
  {
   "cell_type": "code",
   "execution_count": 27,
   "metadata": {},
   "outputs": [],
   "source": [
    "def isPalindrome2(s):\n",
    "    for i in range(len(s)):\n",
    "        if (s[i] != s[len(s)-1-i]):\n",
    "            return False\n",
    "    return True"
   ]
  },
  {
   "cell_type": "code",
   "execution_count": 28,
   "metadata": {},
   "outputs": [],
   "source": [
    "def isPalindrome3(s):\n",
    "    for i in range(len(s)):\n",
    "        if (s[i] != s[-1-i]):\n",
    "            return False\n",
    "    return True"
   ]
  },
  {
   "cell_type": "code",
   "execution_count": 29,
   "metadata": {},
   "outputs": [],
   "source": [
    "def isPalindrome4(s):\n",
    "    while (len(s) > 1):\n",
    "        if (s[0] != s[-1]):\n",
    "            return False\n",
    "        s = s[1:-1]\n",
    "    return True"
   ]
  },
  {
   "cell_type": "code",
   "execution_count": 30,
   "metadata": {},
   "outputs": [
    {
     "name": "stdout",
     "output_type": "stream",
     "text": [
      "True False\n",
      "True False\n",
      "True False\n",
      "True False\n"
     ]
    }
   ],
   "source": [
    "print(isPalindrome1(\"abcba\"), isPalindrome1(\"abca\"))\n",
    "print(isPalindrome2(\"abcba\"), isPalindrome2(\"abca\"))\n",
    "print(isPalindrome3(\"abcba\"), isPalindrome3(\"abca\"))\n",
    "print(isPalindrome4(\"abcba\"), isPalindrome4(\"abca\"))"
   ]
  },
  {
   "attachments": {},
   "cell_type": "markdown",
   "metadata": {},
   "source": [
    "# 一些跟字符串相关的内置函数"
   ]
  },
  {
   "attachments": {},
   "cell_type": "markdown",
   "metadata": {},
   "source": [
    "`str()` 和 `len()`\n"
   ]
  },
  {
   "cell_type": "code",
   "execution_count": 32,
   "metadata": {},
   "outputs": [
    {
     "name": "stdout",
     "output_type": "stream",
     "text": [
      "Hi, epsilon. Your name has 7 letters!\n"
     ]
    }
   ],
   "source": [
    "name = input(\"Enter your name: \")\n",
    "print(\"Hi, \" + name + \". Your name has \" + str(len(name)) + \" letters!\")"
   ]
  },
  {
   "attachments": {},
   "cell_type": "markdown",
   "metadata": {},
   "source": [
    "`chr()` 和 `ord()`\n"
   ]
  },
  {
   "cell_type": "code",
   "execution_count": 35,
   "metadata": {},
   "outputs": [
    {
     "name": "stdout",
     "output_type": "stream",
     "text": [
      "65\n"
     ]
    }
   ],
   "source": [
    "print(ord(\"A\"))"
   ]
  },
  {
   "cell_type": "code",
   "execution_count": 37,
   "metadata": {},
   "outputs": [
    {
     "name": "stdout",
     "output_type": "stream",
     "text": [
      "A\n"
     ]
    }
   ],
   "source": [
    "print(chr(65))"
   ]
  },
  {
   "cell_type": "code",
   "execution_count": 40,
   "metadata": {},
   "outputs": [
    {
     "name": "stdout",
     "output_type": "stream",
     "text": [
      "B\n"
     ]
    }
   ],
   "source": [
    "print(\n",
    "    chr(\n",
    "        ord(\"A\") + 1\n",
    "    )\n",
    ")"
   ]
  },
  {
   "cell_type": "code",
   "execution_count": 41,
   "metadata": {},
   "outputs": [
    {
     "name": "stdout",
     "output_type": "stream",
     "text": [
      "a\n"
     ]
    }
   ],
   "source": [
    "print(chr(ord(\"A\") + ord(\" \")))"
   ]
  },
  {
   "attachments": {},
   "cell_type": "markdown",
   "metadata": {},
   "source": [
    "`eval()`\n"
   ]
  },
  {
   "cell_type": "code",
   "execution_count": null,
   "metadata": {},
   "outputs": [],
   "source": [
    "# 它可以正常运行，但是我们不推荐你使用这个方法\n",
    "s = \"(3**2 + 4**2)**0.5\"\n",
    "print(eval(s))"
   ]
  },
  {
   "cell_type": "code",
   "execution_count": 42,
   "metadata": {},
   "outputs": [
    {
     "ename": "NameError",
     "evalue": "name 'Encrypt_My_HardDrive' is not defined",
     "output_type": "error",
     "traceback": [
      "\u001b[1;31m---------------------------------------------------------------------------\u001b[0m",
      "\u001b[1;31mNameError\u001b[0m                                 Traceback (most recent call last)",
      "\u001b[1;32mc:\\Coding\\Datawhale\\Python_Tutorial\\learn-python-the-smart-way-v2\\slides\\chapter_6-Strings.ipynb Cell 97\u001b[0m in \u001b[0;36m2\n\u001b[0;32m      <a href='vscode-notebook-cell:/c%3A/Coding/Datawhale/Python_Tutorial/learn-python-the-smart-way-v2/slides/chapter_6-Strings.ipynb#Y232sZmlsZQ%3D%3D?line=0'>1</a>\u001b[0m s \u001b[39m=\u001b[39m \u001b[39m\"\u001b[39m\u001b[39mEncrypt_My_HardDrive()\u001b[39m\u001b[39m\"\u001b[39m\n\u001b[1;32m----> <a href='vscode-notebook-cell:/c%3A/Coding/Datawhale/Python_Tutorial/learn-python-the-smart-way-v2/slides/chapter_6-Strings.ipynb#Y232sZmlsZQ%3D%3D?line=1'>2</a>\u001b[0m \u001b[39mprint\u001b[39m(\u001b[39meval\u001b[39;49m(s))\n",
      "File \u001b[1;32m<string>:1\u001b[0m\n",
      "\u001b[1;31mNameError\u001b[0m: name 'Encrypt_My_HardDrive' is not defined"
     ]
    }
   ],
   "source": [
    "s = \"Encrypt_My_HardDrive()\"\n",
    "print(eval(s)) # 如果这是一串恶意代码，那会发生什么"
   ]
  },
  {
   "attachments": {},
   "cell_type": "markdown",
   "metadata": {},
   "source": [
    "# 一些字符串方法"
   ]
  },
  {
   "cell_type": "code",
   "execution_count": 43,
   "metadata": {},
   "outputs": [
    {
     "name": "stdout",
     "output_type": "stream",
     "text": [
      "  s   isalnum  isalpha  isdigit  islower  isspace  isupper\n",
      " ABCD  True     True     False    False    False    True     \n",
      " ABcd  True     True     False    False    False    False    \n",
      " abcd  True     True     False    True     False    False    \n",
      " ab12  True     False    False    True     False    False    \n",
      " 1234  True     False    True     False    False    False    \n",
      "       False    False    False    False    True     False    \n",
      " AB?!  False    False    False    False    False    True     \n"
     ]
    }
   ],
   "source": [
    "def p(test):\n",
    "    print(\"True     \" if test else \"False    \", end=\"\")\n",
    "def printRow(s):\n",
    "    print(\" \" + s + \"  \", end=\"\")\n",
    "    p(s.isalnum())\n",
    "    p(s.isalpha())\n",
    "    p(s.isdigit())\n",
    "    p(s.islower())\n",
    "    p(s.isspace())\n",
    "    p(s.isupper())\n",
    "    print()\n",
    "def printTable():\n",
    "    print(\"  s   isalnum  isalpha  isdigit  islower  isspace  isupper\")\n",
    "    for s in \"ABCD,ABcd,abcd,ab12,1234,    ,AB?!\".split(\",\"):\n",
    "        printRow(s)\n",
    "printTable()"
   ]
  },
  {
   "cell_type": "code",
   "execution_count": 46,
   "metadata": {},
   "outputs": [
    {
     "name": "stdout",
     "output_type": "stream",
     "text": [
      "this is nice. yes!\n",
      "SO IS THIS? SURE!!\n"
     ]
    }
   ],
   "source": [
    "print(\"This is nice. Yes!\".lower())\n",
    "print(\"So is this? Sure!!\".upper())"
   ]
  },
  {
   "cell_type": "code",
   "execution_count": null,
   "metadata": {},
   "outputs": [],
   "source": [
    "print(\"   Strip removes leading and trailing whitespace only    \".strip())"
   ]
  },
  {
   "cell_type": "code",
   "execution_count": null,
   "metadata": {},
   "outputs": [],
   "source": [
    "print(\"This is nice.  Really nice.\".replace(\"nice\", \"sweet\"))\n",
    "print(\"This is nice.  Really nice.\".replace(\"nice\", \"sweet\", 1)) # count = 1"
   ]
  },
  {
   "cell_type": "code",
   "execution_count": 50,
   "metadata": {},
   "outputs": [
    {
     "name": "stdout",
     "output_type": "stream",
     "text": [
      "This is fun!\n"
     ]
    }
   ],
   "source": [
    "s = \"This is so so fun!\"\n",
    "t = s.replace(\"so \", \"\")\n",
    "print(t)"
   ]
  },
  {
   "cell_type": "code",
   "execution_count": null,
   "metadata": {},
   "outputs": [],
   "source": [
    "print(\"This is a history test\".count(\"is\"))\n",
    "print(\"This IS a history test\".count(\"is\"))"
   ]
  },
  {
   "cell_type": "code",
   "execution_count": null,
   "metadata": {},
   "outputs": [],
   "source": [
    "print(\"Dogs and cats!\".startswith(\"Do\"))\n",
    "print(\"Dogs and cats!\".startswith(\"Don't\"))"
   ]
  },
  {
   "cell_type": "code",
   "execution_count": null,
   "metadata": {},
   "outputs": [],
   "source": [
    "print(\"Dogs and cats!\".endswith(\"!\"))\n",
    "print(\"Dogs and cats!\".endswith(\"rats!\"))"
   ]
  },
  {
   "cell_type": "code",
   "execution_count": null,
   "metadata": {},
   "outputs": [],
   "source": [
    "print(\"Dogs and cats!\".find(\"and\"))\n",
    "print(\"Dogs and cats!\".find(\"or\"))"
   ]
  },
  {
   "cell_type": "code",
   "execution_count": null,
   "metadata": {},
   "outputs": [],
   "source": [
    "print(\"Dogs and cats!\".index(\"and\"))\n",
    "print(\"Dogs and cats!\".index(\"or\"))"
   ]
  },
  {
   "attachments": {},
   "cell_type": "markdown",
   "metadata": {},
   "source": [
    "# 用 `f-string` 格式化字符串"
   ]
  },
  {
   "cell_type": "code",
   "execution_count": 51,
   "metadata": {},
   "outputs": [
    {
     "name": "stdout",
     "output_type": "stream",
     "text": [
      "Did you know that 42 + 99 is 141?\n"
     ]
    }
   ],
   "source": [
    "x = 42\n",
    "y = 99\n",
    "\n",
    "print(f'Did you know that {x} + {y} is {x+y}?')"
   ]
  },
  {
   "attachments": {},
   "cell_type": "markdown",
   "metadata": {},
   "source": [
    "# 其他格式化字符串的方法"
   ]
  },
  {
   "cell_type": "markdown",
   "metadata": {},
   "source": [
    "f-strings are a great way to format strings. You may also see python code written with other string formating techniques that were common before Python 3.6. See these optional notes on formatting strings using the % operator and using the format() method.\n"
   ]
  },
  {
   "attachments": {},
   "cell_type": "markdown",
   "metadata": {},
   "source": [
    "# 字符串是不可变的"
   ]
  },
  {
   "cell_type": "code",
   "execution_count": 57,
   "metadata": {},
   "outputs": [
    {
     "ename": "TypeError",
     "evalue": "'str' object does not support item assignment",
     "output_type": "error",
     "traceback": [
      "\u001b[1;31m---------------------------------------------------------------------------\u001b[0m",
      "\u001b[1;31mTypeError\u001b[0m                                 Traceback (most recent call last)",
      "\u001b[1;32mc:\\Coding\\Datawhale\\Python_Tutorial\\learn-python-the-smart-way-v2\\slides\\chapter_6-Strings.ipynb Cell 114\u001b[0m in \u001b[0;36m2\n\u001b[0;32m      <a href='vscode-notebook-cell:/c%3A/Coding/Datawhale/Python_Tutorial/learn-python-the-smart-way-v2/slides/chapter_6-Strings.ipynb#Y205sZmlsZQ%3D%3D?line=0'>1</a>\u001b[0m s \u001b[39m=\u001b[39m \u001b[39m\"\u001b[39m\u001b[39mDatawhale\u001b[39m\u001b[39m\"\u001b[39m\n\u001b[1;32m----> <a href='vscode-notebook-cell:/c%3A/Coding/Datawhale/Python_Tutorial/learn-python-the-smart-way-v2/slides/chapter_6-Strings.ipynb#Y205sZmlsZQ%3D%3D?line=1'>2</a>\u001b[0m s[\u001b[39m3\u001b[39m] \u001b[39m=\u001b[39m \u001b[39m\"\u001b[39m\u001b[39me\u001b[39m\u001b[39m\"\u001b[39m\n",
      "\u001b[1;31mTypeError\u001b[0m: 'str' object does not support item assignment"
     ]
    }
   ],
   "source": [
    "s = \"Datawhale\"\n",
    "s[3] = \"e\"  # Datewhale"
   ]
  },
  {
   "attachments": {},
   "cell_type": "markdown",
   "metadata": {},
   "source": [
    "你必须创建一个新的字符串"
   ]
  },
  {
   "cell_type": "code",
   "execution_count": 58,
   "metadata": {},
   "outputs": [
    {
     "name": "stdout",
     "output_type": "stream",
     "text": [
      "Datewhale\n"
     ]
    }
   ],
   "source": [
    "s = s[:3] + \"e\" + s[4:]\n",
    "print(s)"
   ]
  },
  {
   "attachments": {},
   "cell_type": "markdown",
   "metadata": {},
   "source": [
    "# 字符串和别名"
   ]
  },
  {
   "attachments": {},
   "cell_type": "markdown",
   "metadata": {},
   "source": [
    "字符串是不可变的，所以它的别名也是不可变的"
   ]
  },
  {
   "cell_type": "code",
   "execution_count": 62,
   "metadata": {},
   "outputs": [
    {
     "name": "stdout",
     "output_type": "stream",
     "text": [
      "Datawhale\n",
      "Data\n"
     ]
    }
   ],
   "source": [
    "s = 'Data'  # s 引用了字符串 “Data”\n",
    "t = s      # t 只是 “Data” 的一个只读别名\n",
    "s += 'whale'\n",
    "print(s)\n",
    "print(t)"
   ]
  },
  {
   "cell_type": "code",
   "execution_count": 64,
   "metadata": {},
   "outputs": [
    {
     "ename": "TypeError",
     "evalue": "'str' object does not support item assignment",
     "output_type": "error",
     "traceback": [
      "\u001b[1;31m---------------------------------------------------------------------------\u001b[0m",
      "\u001b[1;31mTypeError\u001b[0m                                 Traceback (most recent call last)",
      "\u001b[1;32mc:\\Coding\\Datawhale\\Python_Tutorial\\learn-python-the-smart-way-v2\\slides\\chapter_6-Strings.ipynb Cell 120\u001b[0m in \u001b[0;36m1\n\u001b[1;32m----> <a href='vscode-notebook-cell:/c%3A/Coding/Datawhale/Python_Tutorial/learn-python-the-smart-way-v2/slides/chapter_6-Strings.ipynb#Y244sZmlsZQ%3D%3D?line=0'>1</a>\u001b[0m t[\u001b[39m3\u001b[39m] \u001b[39m=\u001b[39m \u001b[39m\"\u001b[39m\u001b[39me\u001b[39m\u001b[39m\"\u001b[39m\n",
      "\u001b[1;31mTypeError\u001b[0m: 'str' object does not support item assignment"
     ]
    }
   ],
   "source": [
    "t[3] = \"e\""
   ]
  },
  {
   "attachments": {},
   "cell_type": "markdown",
   "metadata": {},
   "source": [
    "# 基础文件操作"
   ]
  },
  {
   "cell_type": "code",
   "execution_count": 67,
   "metadata": {},
   "outputs": [
    {
     "name": "stdout",
     "output_type": "stream",
     "text": [
      "Open the file foo.txt and verify its contents.\n"
     ]
    }
   ],
   "source": [
    "def readFile(path):\n",
    "    with open(path, \"rt\") as f:\n",
    "        return f.read()\n",
    "\n",
    "def writeFile(path, contents):\n",
    "    with open(path, \"wt\") as f:\n",
    "        f.write(contents)\n",
    "\n",
    "contentsToWrite = \"This is a test!\\nIt is only a test!\"\n",
    "writeFile(\"foo.txt\", contentsToWrite)\n",
    "\n",
    "contentsRead = readFile(\"foo.txt\")\n",
    "assert(contentsRead == contentsToWrite)\n",
    "\n",
    "print(\"Open the file foo.txt and verify its contents.\")"
   ]
  },
  {
   "attachments": {},
   "cell_type": "markdown",
   "metadata": {},
   "source": [
    "这有个更复杂的例子"
   ]
  },
  {
   "cell_type": "code",
   "execution_count": 68,
   "metadata": {},
   "outputs": [
    {
     "name": "stdout",
     "output_type": "stream",
     "text": [
      "True\n"
     ]
    }
   ],
   "source": [
    "import ast\n",
    "\n",
    "def readFile(path):\n",
    "    with open(path, \"rt\") as f:\n",
    "        return f.read()\n",
    "\n",
    "def writeFile(path, contents):\n",
    "    with open(path, \"wt\") as f:\n",
    "        f.write(contents)\n",
    "\n",
    "# Place all your data in a dictionary, like so:\n",
    "myData = {\n",
    "    'names': ['fred', 'wilma', 'betty'],\n",
    "    'highScores': [32, 41, 18, 17, 64],\n",
    "    'stateCapitals': { 'pa':'harrisburg', 'oh':'columbus' },\n",
    "    'setOfPrimes': { 2, 3, 5, 7, 11 },\n",
    "}\n",
    "\n",
    "# Then, you can save your data to a file like so:\n",
    "writeFile('myData.txt', repr(myData))\n",
    "\n",
    "# Later on, you can restore your data from the file like so:\n",
    "myData1 = ast.literal_eval(readFile('myData.txt'))\n",
    "\n",
    "# Finally, let's confirm that these two dictionaries are equal:\n",
    "print(myData1 == myData) # True!"
   ]
  }
 ],
 "metadata": {
  "kernelspec": {
   "display_name": "p2s",
   "language": "python",
   "name": "python3"
  },
  "language_info": {
   "codemirror_mode": {
    "name": "ipython",
    "version": 3
   },
   "file_extension": ".py",
   "mimetype": "text/x-python",
   "name": "python",
   "nbconvert_exporter": "python",
   "pygments_lexer": "ipython3",
   "version": "3.9.15"
  },
  "orig_nbformat": 4
 },
 "nbformat": 4,
 "nbformat_minor": 2
}
