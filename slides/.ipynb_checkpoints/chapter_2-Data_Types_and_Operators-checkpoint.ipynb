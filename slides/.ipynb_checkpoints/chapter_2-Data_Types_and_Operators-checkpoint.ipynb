{
 "cells": [
  {
   "cell_type": "markdown",
   "id": "c036d5f2",
   "metadata": {
    "slideshow": {
     "slide_type": "slide"
    }
   },
   "source": [
    "# 聪明办法学 Python 2nd Edition (Beta)\n",
    "## Chapter 2 数据类型和操作 Data Types and Operators\n",
    "\n",
    "骆秀韬\n",
    "\n",
    "<p>epsilon_luoo@outlook.com</p>"
   ]
  },
  {
   "cell_type": "code",
   "execution_count": 8,
   "id": "61cdefc8",
   "metadata": {
    "ExecuteTime": {
     "end_time": "2022-11-18T04:52:57.654169Z",
     "start_time": "2022-11-18T04:52:57.643172Z"
    },
    "init_cell": true,
    "slideshow": {
     "slide_type": "skip"
    }
   },
   "outputs": [],
   "source": [
    "import math\n",
    "def f():\n",
    "    return 42"
   ]
  },
  {
   "cell_type": "markdown",
   "id": "b2ecc3af",
   "metadata": {
    "cell_style": "center",
    "slideshow": {
     "slide_type": "slide"
    }
   },
   "source": [
    "# 常用内置类型 Builtin Types\n",
    "\n",
    ">我们提前导入了 `math` 库，并创建了一个函数 `f()` （内容并不重要）\n",
    "\n",
    "在本节中，我们将要见到这些基本类型：\n",
    "- 整数 Integer（int）\n",
    "- 浮点数 Float\n",
    "- 布尔值 Boolean（bool）\n",
    "- 类型 Type（是的，“类型”也是种类型！）\n",
    "\n",
    "严格的来说，Type 是一种 `类` 的 `对象`，Python 是一门“面向对象友好”的语言"
   ]
  },
  {
   "cell_type": "code",
   "execution_count": null,
   "id": "2f810c66",
   "metadata": {
    "ExecuteTime": {
     "end_time": "2022-11-06T08:05:02.620312Z",
     "start_time": "2022-11-06T08:05:02.604314Z"
    },
    "slideshow": {
     "slide_type": "subslide"
    }
   },
   "outputs": [],
   "source": [
    "print(type(2))"
   ]
  },
  {
   "cell_type": "code",
   "execution_count": null,
   "id": "89d47468",
   "metadata": {
    "ExecuteTime": {
     "end_time": "2022-11-12T13:36:18.545232Z",
     "start_time": "2022-11-12T13:36:18.524144Z"
    },
    "slideshow": {
     "slide_type": "subslide"
    }
   },
   "outputs": [],
   "source": [
    "print(type(2.2))"
   ]
  },
  {
   "cell_type": "code",
   "execution_count": null,
   "id": "4e41979c",
   "metadata": {
    "ExecuteTime": {
     "end_time": "2022-11-12T13:36:23.378085Z",
     "start_time": "2022-11-12T13:36:23.363782Z"
    },
    "slideshow": {
     "slide_type": "subslide"
    }
   },
   "outputs": [],
   "source": [
    "print(type(2 < 2.2))"
   ]
  },
  {
   "cell_type": "code",
   "execution_count": null,
   "id": "ee6832c8",
   "metadata": {
    "ExecuteTime": {
     "end_time": "2022-11-12T13:36:27.572220Z",
     "start_time": "2022-11-12T13:36:27.568227Z"
    },
    "slideshow": {
     "slide_type": "subslide"
    }
   },
   "outputs": [],
   "source": [
    "print(type(type(42)))"
   ]
  },
  {
   "cell_type": "markdown",
   "id": "a2bf7020",
   "metadata": {
    "slideshow": {
     "slide_type": "subslide"
    }
   },
   "source": [
    "Python 中的一些基本类型"
   ]
  },
  {
   "cell_type": "code",
   "execution_count": null,
   "id": "1474a64f",
   "metadata": {
    "ExecuteTime": {
     "end_time": "2022-11-12T13:36:41.076493Z",
     "start_time": "2022-11-12T13:36:41.059369Z"
    },
    "run_control": {
     "marked": false
    },
    "slideshow": {
     "slide_type": "-"
    }
   },
   "outputs": [],
   "source": [
    "print(type(2))           # int\n",
    "print(type(2.2))         # float\n",
    "print(type(2 < 2.2))     # bool (boolean)\n",
    "print(type(type(42)))    # type"
   ]
  },
  {
   "cell_type": "markdown",
   "id": "17b1abe9",
   "metadata": {
    "cell_style": "center",
    "slideshow": {
     "slide_type": "subslide"
    }
   },
   "source": [
    "在今后的内容中，我们将会见到更多类型：\n",
    "- 字符串 String（str）\n",
    "- 列表 List\n",
    "- 元组 Tuple\n",
    "- 集合 Set\n",
    "- 字典 Dictionary（dict，或者你可以叫它 `映射 map`）\n",
    "- 复数 Complex Number（complex）\n",
    "- 函数 Function\n",
    "- 模块 Module\n",
    "\n",
    "`str`、`list`、`tuple`、`set`、`dict` 将尝试用 **`数组 Array`** 的方式讲授"
   ]
  },
  {
   "cell_type": "markdown",
   "id": "70464d81",
   "metadata": {
    "slideshow": {
     "slide_type": "subslide"
    }
   },
   "source": [
    "后续课程中会见到的类型"
   ]
  },
  {
   "cell_type": "code",
   "execution_count": null,
   "id": "967d8133",
   "metadata": {
    "ExecuteTime": {
     "end_time": "2022-11-12T13:37:57.805793Z",
     "start_time": "2022-11-12T13:37:57.799790Z"
    },
    "cell_style": "center",
    "slideshow": {
     "slide_type": ""
    }
   },
   "outputs": [],
   "source": [
    "print(type(\"2.2\"))       # str (string or text)\n",
    "print(type([1,2,3]))     # list\n",
    "print(type((1,2,3)))     # tuple\n",
    "print(type({1,2}))       # set\n",
    "print(type({1:42}))      # dict (dictionary or map)\n",
    "print(type(2+3j))        # complex  (complex number)\n",
    "print(type(f))           # function\n",
    "print(type(math))        # module"
   ]
  },
  {
   "cell_type": "markdown",
   "id": "1bb6ed1c",
   "metadata": {
    "cell_style": "center",
    "slideshow": {
     "slide_type": "slide"
    }
   },
   "source": [
    "# 常用内置常数 Builtin Constants\n",
    "\n",
    "`常数`区别于`变量`（将在下节课讲授），`常数`的值是固定的、不可改变的\n",
    "\n",
    "Python 内置了一些常量\n",
    "- True，用于表示 布尔 **`真`**\n",
    "- False，用于表示 布尔 **`假`**\n",
    "- None，代表 **`空`** ，用于空值\n",
    "\n",
    "`math` 库中的一些数学常量\n",
    "- pi，数学常数 $\\pi$ = 3.141592...，精确到可用精度\n",
    "- e，数学常数 $\\mathrm{e}$ = 2.718281...，精确到可用精度\n",
    "- tau，数学常数 $\\tau$ = 6.283185...，精确到可用精度（其实它不常用）\n",
    "- inf，浮点正无穷大，等价于 `float('inf')`，负无穷大使用 `-math.inf` "
   ]
  },
  {
   "cell_type": "code",
   "execution_count": null,
   "id": "e178e8e9",
   "metadata": {
    "ExecuteTime": {
     "end_time": "2022-11-12T13:38:47.937214Z",
     "start_time": "2022-11-12T13:38:47.927211Z"
    },
    "slideshow": {
     "slide_type": "subslide"
    }
   },
   "outputs": [],
   "source": [
    "print(True)\n",
    "print(False)\n",
    "print(None)"
   ]
  },
  {
   "cell_type": "code",
   "execution_count": null,
   "id": "08eb2ca5",
   "metadata": {
    "ExecuteTime": {
     "end_time": "2022-11-12T13:38:53.386887Z",
     "start_time": "2022-11-12T13:38:53.381888Z"
    },
    "cell_style": "center",
    "slideshow": {
     "slide_type": "subslide"
    }
   },
   "outputs": [],
   "source": [
    "print(math.pi)\n",
    "print(math.e)\n",
    "print(math.tau)\n",
    "print(math.inf)\n",
    "print(-math.inf)"
   ]
  },
  {
   "cell_type": "markdown",
   "id": "f058b597",
   "metadata": {
    "slideshow": {
     "slide_type": "slide"
    }
   },
   "source": [
    "# 常用内置运算符 Builtin Operators\n",
    "\n",
    "- 算术：`+`, `-`, `*`, `@`, `/`, `//`, `**`, `%`, `-` (一元算符), `+` (一元算符)\n",
    "- 关系：`<`, `< =`, `> =`, `>`, `= =`, `! =` （没有中间的空格）\n",
    "- 赋值： `+=`, `-=`, `*=`, `/ =`, `// =`, `**=`, `%=` （没有中间的空格）\n",
    "- 逻辑：`and`, `or`, `not`\n",
    "\n",
    "> 我们暂时跳过`按位运算符`"
   ]
  },
  {
   "cell_type": "markdown",
   "id": "31fe070e",
   "metadata": {
    "slideshow": {
     "slide_type": "slide"
    }
   },
   "source": [
    "# 整除 Integer Division (//)\n",
    "\n",
    "> 这个知识点可能会在作业中发挥很大的作用，所以请多花些时间来理解它的运作方式\n",
    "\n",
    "`/` 指的是**浮点数**除法，它的结果是一个浮点数，例如 `2/1` 的结果是 `2.0`\n",
    "\n",
    "`//` 指的是**整除**除法，它的计算结果是整数，舍弃余数"
   ]
  },
  {
   "cell_type": "markdown",
   "id": "aee8581d",
   "metadata": {
    "slideshow": {
     "slide_type": "subslide"
    }
   },
   "source": [
    "`/` 是 **浮点数** 除法操作符"
   ]
  },
  {
   "cell_type": "code",
   "execution_count": null,
   "id": "076761a7",
   "metadata": {
    "ExecuteTime": {
     "end_time": "2022-11-06T08:20:26.777396Z",
     "start_time": "2022-11-06T08:20:26.758399Z"
    },
    "slideshow": {
     "slide_type": ""
    }
   },
   "outputs": [],
   "source": [
    "print(\" 5/3  =\", ( 5/3))"
   ]
  },
  {
   "cell_type": "markdown",
   "id": "29102a25",
   "metadata": {
    "slideshow": {
     "slide_type": "subslide"
    }
   },
   "source": [
    "`//` 代表 **整除**"
   ]
  },
  {
   "cell_type": "code",
   "execution_count": null,
   "id": "69cb4b9d",
   "metadata": {
    "ExecuteTime": {
     "end_time": "2022-11-06T08:20:26.793397Z",
     "start_time": "2022-11-06T08:20:26.779399Z"
    },
    "slideshow": {
     "slide_type": ""
    }
   },
   "outputs": [],
   "source": [
    "print(\" 5//3 =\", ( 5//3))\n",
    "print(\" 2//3 =\", ( 2//3))\n",
    "print(\"-1//3 =\", (-1//3))\n",
    "print(\"-4//3 =\", (-4//3))"
   ]
  },
  {
   "cell_type": "markdown",
   "id": "523c1606",
   "metadata": {
    "slideshow": {
     "slide_type": "slide"
    }
   },
   "source": [
    "# 模运算或余数运算符 The Modulus or Remainder Operator (%)\n",
    "\n",
    "> 这个知识点可能会在作业中发挥很大的作用，所以请多花些时间来理解它的运作方式\n",
    "\n",
    "`%` 代表模运算（取余），结果为商的余数\n",
    "\n",
    "例如：`5` 整除 `2` 的结果是 `2`，**余数**为 `1`，则 `5 % 2` 的结果为 `1`"
   ]
  },
  {
   "cell_type": "code",
   "execution_count": null,
   "id": "d991607a",
   "metadata": {
    "ExecuteTime": {
     "end_time": "2022-11-06T08:20:26.809395Z",
     "start_time": "2022-11-06T08:20:26.795398Z"
    },
    "slideshow": {
     "slide_type": "subslide"
    }
   },
   "outputs": [],
   "source": [
    "print(\" 6%3 =\", ( 6%3))\n",
    "print(\" 5%3 =\", ( 5%3))\n",
    "print(\" 2%3 =\", ( 2%3))\n",
    "print(\" 0%3 =\", ( 0%3))\n",
    "print(\"-4%3 =\", (-4%3))\n",
    "print(\" 3%0 =\", ( 3%0))"
   ]
  },
  {
   "cell_type": "markdown",
   "id": "5e48ce77",
   "metadata": {
    "slideshow": {
     "slide_type": "subslide"
    }
   },
   "source": [
    "$ a \\mod b \\iff a - (a \\mid b) \\times b $"
   ]
  },
  {
   "cell_type": "code",
   "execution_count": 9,
   "id": "adc3fb84",
   "metadata": {
    "ExecuteTime": {
     "end_time": "2022-11-18T04:52:57.670171Z",
     "start_time": "2022-11-18T04:52:57.656171Z"
    },
    "init_cell": true
   },
   "outputs": [],
   "source": [
    "def mod(a, b):\n",
    "  return a - (a//b)*b"
   ]
  },
  {
   "cell_type": "code",
   "execution_count": null,
   "id": "6bf27f7c",
   "metadata": {
    "ExecuteTime": {
     "end_time": "2022-11-06T08:54:34.363504Z",
     "start_time": "2022-11-06T08:54:34.351506Z"
    },
    "scrolled": false,
    "slideshow": {
     "slide_type": "subslide"
    }
   },
   "outputs": [],
   "source": [
    "print(\"Is equal? \", 41%14 == mod(41,14))\n",
    "print(\"Is equal? \", 14%41 == mod(14,41))\n",
    "print(\"Is equal? \", -32%9 == mod(-32,9))\n",
    "print(\"Is equal? \", 32%-9 == mod(32,-9))"
   ]
  },
  {
   "cell_type": "markdown",
   "id": "55da0c0a",
   "metadata": {},
   "source": [
    "补充资料：注意 `%` 与 `math.fmod()` 的区别，详见：[Modulo operation](https://en.wikipedia.org/wiki/Modulo_operation)"
   ]
  },
  {
   "cell_type": "markdown",
   "id": "71702db7",
   "metadata": {
    "slideshow": {
     "slide_type": "slide"
    }
   },
   "source": [
    "# 类型影响语义 Types Affect Semantics\n",
    "\n",
    "运算符的运作方式会受到**运算数据的类型**的影响"
   ]
  },
  {
   "cell_type": "code",
   "execution_count": null,
   "id": "a2ec28b2",
   "metadata": {
    "ExecuteTime": {
     "end_time": "2022-11-12T13:43:21.363049Z",
     "start_time": "2022-11-12T13:43:21.335365Z"
    },
    "slideshow": {
     "slide_type": ""
    }
   },
   "outputs": [],
   "source": [
    "print(3 * 2)\n",
    "print(3 * \"abc\")\n",
    "print(3 + 2)\n",
    "print(\"abc\" + \"def\")\n",
    "print(3 + \"def\")"
   ]
  },
  {
   "cell_type": "markdown",
   "id": "7e14a29d",
   "metadata": {
    "slideshow": {
     "slide_type": "slide"
    }
   },
   "source": [
    "# 运算符优先级 Operator Order\n",
    "### 优先顺序与结合律 Precedence and Associativity"
   ]
  },
  {
   "cell_type": "code",
   "execution_count": 10,
   "id": "cfdc8808",
   "metadata": {
    "ExecuteTime": {
     "end_time": "2022-11-18T04:52:57.686172Z",
     "start_time": "2022-11-18T04:52:57.672173Z"
    },
    "init_cell": true,
    "slideshow": {
     "slide_type": "subslide"
    }
   },
   "outputs": [
    {
     "data": {
      "text/html": [
       "\n",
       "        <iframe\n",
       "            width=\"1300\"\n",
       "            height=\"600\"\n",
       "            src=\"https://docs.python.org/zh-cn/3.8/reference/expressions.html#operator-precedence\"\n",
       "            frameborder=\"0\"\n",
       "            allowfullscreen\n",
       "            \n",
       "        ></iframe>\n",
       "        "
      ],
      "text/plain": [
       "<IPython.lib.display.IFrame at 0x2815d6bfe20>"
      ]
     },
     "execution_count": 10,
     "metadata": {},
     "output_type": "execute_result"
    }
   ],
   "source": [
    "from IPython.display import IFrame\n",
    "IFrame('https://docs.python.org/zh-cn/3.8/reference/expressions.html#operator-precedence', width=1300, height=600)"
   ]
  },
  {
   "cell_type": "markdown",
   "id": "68caa046",
   "metadata": {
    "slideshow": {
     "slide_type": "subslide"
    }
   },
   "source": [
    "优先顺序 Precedence"
   ]
  },
  {
   "cell_type": "code",
   "execution_count": null,
   "id": "d3d5896f",
   "metadata": {
    "ExecuteTime": {
     "end_time": "2022-11-06T09:03:25.063496Z",
     "start_time": "2022-11-06T09:03:25.050498Z"
    },
    "scrolled": true,
    "slideshow": {
     "slide_type": ""
    }
   },
   "outputs": [],
   "source": [
    "print(2+3*4)  # prints 14, not 20\n",
    "print(5+4%3)  # prints  6, not 0 (% has same precedence as *, /, and //)\n",
    "print(2**3*4) # prints 32, not 4096 (** has higher precedence than *, /, //, and %)"
   ]
  },
  {
   "cell_type": "markdown",
   "id": "46d15034",
   "metadata": {
    "slideshow": {
     "slide_type": "subslide"
    }
   },
   "source": [
    "结合律 Associativity"
   ]
  },
  {
   "cell_type": "code",
   "execution_count": null,
   "id": "d8c886b3",
   "metadata": {
    "ExecuteTime": {
     "end_time": "2022-11-06T09:03:54.606708Z",
     "start_time": "2022-11-06T09:03:54.588710Z"
    }
   },
   "outputs": [],
   "source": [
    "print(5-4-3)   # prints -2, not 4 (- associates left-to-right)\n",
    "print(4**3**2) # prints 262144, not 4096 (** associates right-to-left)"
   ]
  },
  {
   "cell_type": "markdown",
   "id": "5dd0be24",
   "metadata": {
    "ExecuteTime": {
     "end_time": "2022-10-11T11:31:13.029948Z",
     "start_time": "2022-10-11T11:31:13.023949Z"
    },
    "slideshow": {
     "slide_type": "subslide"
    }
   },
   "source": [
    "浮点数误差"
   ]
  },
  {
   "cell_type": "code",
   "execution_count": null,
   "id": "e4d16936",
   "metadata": {
    "ExecuteTime": {
     "end_time": "2022-11-06T09:05:59.310148Z",
     "start_time": "2022-11-06T09:05:59.296147Z"
    },
    "slideshow": {
     "slide_type": ""
    }
   },
   "outputs": [],
   "source": [
    "print(0.1 + 0.1 == 0.2)        # True, but...\n",
    "print(0.1 + 0.1 + 0.1 == 0.3)  # False!\n",
    "print(0.1 + 0.1 + 0.1)         # prints 0.30000000000000004 (uh oh)\n",
    "print((0.1 + 0.1 + 0.1) - 0.3) # prints 5.55111512313e-17 (tiny, but non-zero!)"
   ]
  },
  {
   "cell_type": "markdown",
   "id": "ac3f81f0",
   "metadata": {
    "ExecuteTime": {
     "end_time": "2022-10-11T11:31:45.597776Z",
     "start_time": "2022-10-11T11:31:45.592776Z"
    },
    "slideshow": {
     "slide_type": "slide"
    }
   },
   "source": [
    "# 短路求值 Short-Circuit Evaluation\n",
    "\n",
    "逻辑运算参照表\n",
    "\n",
    "| X     | Y     | X and Y | X or Y | not X | not Y |\n",
    "| ----- | ----- | ------- | ------ | ----- | ----- |\n",
    "| True  | True  | True    | True   | False | False |\n",
    "| True  | False | False   | True   | False | True  |\n",
    "| False | False | False   | False  | True  | True  |\n",
    "| False | True  | False   | True   | True  | False |"
   ]
  },
  {
   "cell_type": "markdown",
   "id": "da068c77",
   "metadata": {
    "slideshow": {
     "slide_type": "subslide"
    }
   },
   "source": [
    "我们先来定义一些函数"
   ]
  },
  {
   "cell_type": "code",
   "execution_count": 11,
   "id": "aeb3657f",
   "metadata": {
    "ExecuteTime": {
     "end_time": "2022-11-18T04:52:57.702172Z",
     "start_time": "2022-11-18T04:52:57.689173Z"
    },
    "init_cell": true
   },
   "outputs": [],
   "source": [
    "def yes():\n",
    "    return True\n",
    "\n",
    "def no():\n",
    "    return False\n",
    "\n",
    "def crash():\n",
    "    return 1/0 # crashes!"
   ]
  },
  {
   "cell_type": "code",
   "execution_count": null,
   "id": "4c58c158",
   "metadata": {
    "ExecuteTime": {
     "end_time": "2022-11-06T09:15:32.727028Z",
     "start_time": "2022-11-06T09:15:32.705030Z"
    },
    "slideshow": {
     "slide_type": "subslide"
    }
   },
   "outputs": [],
   "source": [
    "print(no() and crash()) # Works!\n",
    "print(crash() and no()) # Crashes!\n",
    "print (yes() and crash()) # Never runs (due to crash), but would also crash (without short-circuiting)"
   ]
  },
  {
   "cell_type": "markdown",
   "id": "e1f47344",
   "metadata": {
    "slideshow": {
     "slide_type": "subslide"
    }
   },
   "source": [
    "我们换成 `or`，再来试试"
   ]
  },
  {
   "cell_type": "code",
   "execution_count": null,
   "id": "5a18c4bc",
   "metadata": {
    "ExecuteTime": {
     "end_time": "2022-11-06T09:15:36.319299Z",
     "start_time": "2022-11-06T09:15:36.288299Z"
    },
    "scrolled": true,
    "slideshow": {
     "slide_type": ""
    }
   },
   "outputs": [],
   "source": [
    "print(yes() or crash()) # Works!\n",
    "print(crash() or yes()) # Crashes!\n",
    "print(no() or crash())  # Never runs (due to crash), but would also crash (without short-circuiting)"
   ]
  },
  {
   "cell_type": "markdown",
   "id": "baed9c84",
   "metadata": {
    "slideshow": {
     "slide_type": "subslide"
    }
   },
   "source": [
    "再来个例子，我们也先定义些函数"
   ]
  },
  {
   "cell_type": "code",
   "execution_count": 12,
   "id": "daaf159f",
   "metadata": {
    "ExecuteTime": {
     "end_time": "2022-11-18T04:52:57.718172Z",
     "start_time": "2022-11-18T04:52:57.705172Z"
    },
    "init_cell": true,
    "scrolled": true,
    "slideshow": {
     "slide_type": ""
    }
   },
   "outputs": [],
   "source": [
    "def isPositive(n):\n",
    "    result = (n > 0)\n",
    "    print(\"isPositive(\",n,\") =\", result)\n",
    "    return result\n",
    "\n",
    "def isEven(n):\n",
    "    result = (n % 2 == 0)\n",
    "    print(\"isEven(\",n,\") =\", result)\n",
    "    return result"
   ]
  },
  {
   "cell_type": "code",
   "execution_count": null,
   "id": "a2df554e",
   "metadata": {
    "ExecuteTime": {
     "end_time": "2022-11-06T09:17:21.431283Z",
     "start_time": "2022-11-06T09:17:21.423283Z"
    },
    "slideshow": {
     "slide_type": "subslide"
    }
   },
   "outputs": [],
   "source": [
    "print(isEven(-4) and isPositive(-4)) # Calls both functions"
   ]
  },
  {
   "cell_type": "code",
   "execution_count": null,
   "id": "07ed7e7e",
   "metadata": {
    "ExecuteTime": {
     "end_time": "2022-11-06T09:17:17.129041Z",
     "start_time": "2022-11-06T09:17:17.111041Z"
    },
    "slideshow": {
     "slide_type": "subslide"
    }
   },
   "outputs": [],
   "source": [
    "print(isEven(-3) and isPositive(-3)) # Calls only one function!"
   ]
  },
  {
   "cell_type": "markdown",
   "id": "d20265e6",
   "metadata": {
    "slideshow": {
     "slide_type": "slide"
    }
   },
   "source": [
    "# `type()` vs `isinstance()`"
   ]
  },
  {
   "cell_type": "code",
   "execution_count": null,
   "id": "3ceee581",
   "metadata": {
    "slideshow": {
     "slide_type": "subslide"
    }
   },
   "outputs": [],
   "source": [
    "print(type(\"abc\") == str)\n",
    "print(isinstance(\"abc\", str))"
   ]
  },
  {
   "cell_type": "markdown",
   "id": "ea4deefa",
   "metadata": {
    "slideshow": {
     "slide_type": "subslide"
    }
   },
   "source": [
    "任务：编写代码，判断 `x` 是不是数字"
   ]
  },
  {
   "cell_type": "code",
   "execution_count": 13,
   "id": "366d2b0c",
   "metadata": {
    "ExecuteTime": {
     "end_time": "2022-11-18T04:52:57.734171Z",
     "start_time": "2022-11-18T04:52:57.721173Z"
    },
    "init_cell": true
   },
   "outputs": [],
   "source": [
    "def isNumber(x):\n",
    "    return ((type(x) == int) or\n",
    "            (type(x) == float)) "
   ]
  },
  {
   "cell_type": "markdown",
   "id": "330f5924",
   "metadata": {
    "slideshow": {
     "slide_type": "subslide"
    }
   },
   "source": [
    "你能确保它能够判断**所有数字**吗？"
   ]
  },
  {
   "cell_type": "code",
   "execution_count": null,
   "id": "89bc1993",
   "metadata": {
    "ExecuteTime": {
     "end_time": "2022-11-06T09:27:55.289522Z",
     "start_time": "2022-11-06T09:27:55.274521Z"
    },
    "scrolled": true,
    "slideshow": {
     "slide_type": "fragment"
    }
   },
   "outputs": [],
   "source": [
    "print(isNumber(1), isNumber(1.1), isNumber(1+2j), isNumber(\"wow\"))"
   ]
  },
  {
   "cell_type": "markdown",
   "id": "b5cd8468",
   "metadata": {
    "slideshow": {
     "slide_type": "subslide"
    }
   },
   "source": [
    "- `isinstance()` 比 `type()` 更具有 `稳健性（Robustness）` \n",
    "- 这种做法更加符合 `面向对象编程 OPP` 与 `继承（inheritance）` 的思想"
   ]
  },
  {
   "cell_type": "code",
   "execution_count": 14,
   "id": "15a5a05d",
   "metadata": {
    "ExecuteTime": {
     "end_time": "2022-11-18T04:52:57.750172Z",
     "start_time": "2022-11-18T04:52:57.736172Z"
    },
    "init_cell": true,
    "slideshow": {
     "slide_type": "subslide"
    }
   },
   "outputs": [],
   "source": [
    "import numbers\n",
    "def isNumber(x):\n",
    "    return isinstance(x, numbers.Number) # works for any kind of number"
   ]
  },
  {
   "cell_type": "code",
   "execution_count": null,
   "id": "42df3783",
   "metadata": {
    "ExecuteTime": {
     "end_time": "2022-11-12T13:48:56.331804Z",
     "start_time": "2022-11-12T13:48:56.320674Z"
    }
   },
   "outputs": [],
   "source": [
    "print(isNumber(1), isNumber(1.1), isNumber(1+2j), isNumber(\"wow\"))"
   ]
  },
  {
   "cell_type": "markdown",
   "id": "da42457b",
   "metadata": {
    "slideshow": {
     "slide_type": "slide"
    }
   },
   "source": [
    "# Thank You ;-)\n",
    "Datawhale 聪明办法学 Python 教学团队出品\n",
    "\n",
    "## 关注我们\n",
    "Datawhale 是一个专注 AI 领域的开源组织，以“for the learner，和学习者一起成长”为愿景，构建对学习者最有价值的开源学习社区。关注我们，一起学习成长。\n",
    "<div align=center><img src=\"../resources/datawhale_wechat_qrcode.jpeg\" width = \"250\" height = \"270\"></div>"
   ]
  }
 ],
 "metadata": {
  "celltoolbar": "幻灯片",
  "kernelspec": {
   "display_name": "Python 3 (ipykernel)",
   "language": "python",
   "name": "python3"
  },
  "language_info": {
   "codemirror_mode": {
    "name": "ipython",
    "version": 3
   },
   "file_extension": ".py",
   "mimetype": "text/x-python",
   "name": "python",
   "nbconvert_exporter": "python",
   "pygments_lexer": "ipython3",
   "version": "3.9.15"
  },
  "latex_envs": {
   "LaTeX_envs_menu_present": true,
   "autoclose": false,
   "autocomplete": true,
   "bibliofile": "biblio.bib",
   "cite_by": "apalike",
   "current_citInitial": 1,
   "eqLabelWithNumbers": true,
   "eqNumInitial": 1,
   "hotkeys": {
    "equation": "Ctrl-E",
    "itemize": "Ctrl-I"
   },
   "labels_anchors": false,
   "latex_user_defs": false,
   "report_style_numbering": false,
   "user_envs_cfg": false
  },
  "rise": {
   "overlay": "<div class='my-top-right'><img height=80px src='https://avatars.githubusercontent.com/u/46047812?s=200&v=4'/></div><div class='my-top-left'></div>"
  },
  "toc": {
   "base_numbering": 1,
   "nav_menu": {},
   "number_sections": false,
   "sideBar": true,
   "skip_h1_title": false,
   "title_cell": "大纲 Outline",
   "title_sidebar": "Contents",
   "toc_cell": false,
   "toc_position": {},
   "toc_section_display": true,
   "toc_window_display": false
  },
  "varInspector": {
   "cols": {
    "lenName": 16,
    "lenType": 16,
    "lenVar": 40
   },
   "kernels_config": {
    "python": {
     "delete_cmd_postfix": "",
     "delete_cmd_prefix": "del ",
     "library": "var_list.py",
     "varRefreshCmd": "print(var_dic_list())"
    },
    "r": {
     "delete_cmd_postfix": ") ",
     "delete_cmd_prefix": "rm(",
     "library": "var_list.r",
     "varRefreshCmd": "cat(var_dic_list()) "
    }
   },
   "types_to_exclude": [
    "module",
    "function",
    "builtin_function_or_method",
    "instance",
    "_Feature"
   ],
   "window_display": false
  }
 },
 "nbformat": 4,
 "nbformat_minor": 5
}
