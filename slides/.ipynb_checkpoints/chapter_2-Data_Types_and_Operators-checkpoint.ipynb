{
 "cells": [
  {
   "cell_type": "markdown",
   "id": "5bb02583",
   "metadata": {
    "slideshow": {
     "slide_type": "slide"
    }
   },
   "source": [
    "# 聪明办法学 Python 2nd Edition (Beta)\n",
    "## Chapter 2 数据类型和操作 Data Types and Operators\n",
    "\n",
    "骆秀韬\n",
    "\n",
    "<p>epsilon_luoo@outlook.com</p>"
   ]
  },
  {
   "cell_type": "code",
   "execution_count": 1,
   "id": "61cdefc8",
   "metadata": {
    "ExecuteTime": {
     "end_time": "2022-10-25T08:09:29.232347Z",
     "start_time": "2022-10-25T08:09:29.222347Z"
    },
    "init_cell": true,
    "slideshow": {
     "slide_type": "skip"
    }
   },
   "outputs": [],
   "source": [
    "import math\n",
    "def f():\n",
    "    return 42"
   ]
  },
  {
   "cell_type": "markdown",
   "id": "b2ecc3af",
   "metadata": {
    "cell_style": "center",
    "slideshow": {
     "slide_type": "slide"
    }
   },
   "source": [
    "# 常用内置类型 Builtin Types\n",
    "\n",
    ">我们提前导入了 `math` 库，并创建了一个函数 `f()` （内容并不重要）\n",
    "\n",
    "在本节中，我们将要见到这些基本类型：\n",
    "- 整数 Integer（int）\n",
    "- 浮点数 Float\n",
    "- 布尔值 Boolean（bool）\n",
    "- 类型 Type（是的，“类型”也是种类型！）\n",
    "\n",
    "严格的来说，Type 是一种 `对象`，Python 是一门“面向对象友好”的语言"
   ]
  },
  {
   "cell_type": "code",
   "execution_count": 2,
   "id": "1474a64f",
   "metadata": {
    "ExecuteTime": {
     "end_time": "2022-10-25T08:09:37.519634Z",
     "start_time": "2022-10-25T08:09:37.509633Z"
    },
    "run_control": {
     "marked": false
    },
    "slideshow": {
     "slide_type": "slide"
    }
   },
   "outputs": [
    {
     "name": "stdout",
     "output_type": "stream",
     "text": [
      "Some basic types in Python:\n",
      "<class 'int'>\n",
      "<class 'float'>\n",
      "<class 'bool'>\n",
      "<class 'type'>\n"
     ]
    }
   ],
   "source": [
    "print(\"Some basic types in Python:\")\n",
    "print(type(2))           # int\n",
    "print(type(2.2))         # float\n",
    "print(type(2 < 2.2))     # bool (boolean)\n",
    "print(type(type(42)))    # type"
   ]
  },
  {
   "cell_type": "markdown",
   "id": "17b1abe9",
   "metadata": {
    "cell_style": "center",
    "slideshow": {
     "slide_type": "subslide"
    }
   },
   "source": [
    "在今后的内容中，我们将会见到更多类型：\n",
    "- 字符串 String（str）\n",
    "- 列表 List\n",
    "- 元组 Tuple\n",
    "- 集合 Set\n",
    "- 字典 Dictionary（dict，或者你可以叫它 `映射 map`）\n",
    "- 复数 Complex Number（complex）\n",
    "- 函数 Function\n",
    "- 模块 Module\n",
    "\n",
    "`str`、`list`、`tuple`、`set`、`dict` 将尝试用 **`数组 Array`** 的方式讲授"
   ]
  },
  {
   "cell_type": "code",
   "execution_count": 2,
   "id": "967d8133",
   "metadata": {
    "ExecuteTime": {
     "end_time": "2022-10-25T07:25:03.501155Z",
     "start_time": "2022-10-25T07:25:03.488157Z"
    },
    "slideshow": {
     "slide_type": "subslide"
    }
   },
   "outputs": [
    {
     "name": "stdout",
     "output_type": "stream",
     "text": [
      "And some other types we may see later in the course...\n",
      "<class 'str'>\n",
      "<class 'list'>\n",
      "<class 'tuple'>\n",
      "<class 'set'>\n",
      "<class 'dict'>\n",
      "<class 'complex'>\n",
      "<class 'function'>\n",
      "<class 'module'>\n"
     ]
    }
   ],
   "source": [
    "print(\"And some other types we may see later in the course...\")\n",
    "print(type(\"2.2\"))       # str (string or text)\n",
    "print(type([1,2,3]))     # list\n",
    "print(type((1,2,3)))     # tuple\n",
    "print(type({1,2}))       # set\n",
    "print(type({1:42}))      # dict (dictionary or map)\n",
    "print(type(2+3j))        # complex  (complex number)\n",
    "print(type(f))           # function\n",
    "print(type(math))        # module"
   ]
  },
  {
   "cell_type": "markdown",
   "id": "1bb6ed1c",
   "metadata": {
    "cell_style": "center",
    "slideshow": {
     "slide_type": "slide"
    }
   },
   "source": [
    "# 常用内置常数 Builtin Constants\n",
    "\n",
    "`常数`区别于`变量`（将在下节课讲授），`常数`的值是固定的、不可改变的\n",
    "\n",
    "Python 内置了一些常量\n",
    "- True，用于表示 布尔**`真`**\n",
    "- False，用于表示 布尔**`假`**\n",
    "- None，代表**`空`**，用于空值\n",
    "\n",
    "`math` 库中的一些数学常量\n",
    "- pi，数学常数 $\\pi$ = 3.141592...，精确到可用精度\n",
    "- e，数学常数 $\\mathrm{e}$ = 2.718281...，精确到可用精度\n",
    "- tau，数学常数 $\\tau$ = 6.283185...，精确到可用精度（其实它不常用）\n",
    "- inf，浮点正无穷大，等价于 `float('inf')`，负无穷大使用 `-math.inf` "
   ]
  },
  {
   "cell_type": "code",
   "execution_count": 7,
   "id": "08eb2ca5",
   "metadata": {
    "ExecuteTime": {
     "end_time": "2022-10-25T07:27:18.899012Z",
     "start_time": "2022-10-25T07:27:18.892012Z"
    },
    "cell_style": "center",
    "slideshow": {
     "slide_type": "subslide"
    }
   },
   "outputs": [
    {
     "name": "stdout",
     "output_type": "stream",
     "text": [
      "True\n",
      "False\n",
      "None\n",
      "\n",
      "3.141592653589793\n",
      "2.718281828459045\n",
      "6.283185307179586\n",
      "inf\n",
      "-inf\n"
     ]
    }
   ],
   "source": [
    "print(True)\n",
    "print(False)\n",
    "print(None)\n",
    "\n",
    "print(\"\")\n",
    "\n",
    "print(math.pi)\n",
    "print(math.e)\n",
    "print(math.tau)\n",
    "print(math.inf)\n",
    "print(-math.inf)"
   ]
  },
  {
   "cell_type": "markdown",
   "id": "f058b597",
   "metadata": {
    "slideshow": {
     "slide_type": "slide"
    }
   },
   "source": [
    "# 常用内置算子 Builtin Operators\n",
    "\n",
    "- "
   ]
  },
  {
   "cell_type": "markdown",
   "id": "be379c61",
   "metadata": {
    "slideshow": {
     "slide_type": "slide"
    }
   },
   "source": [
    "Some Builtin Operators\n",
    "\n",
    "- Arithmetic: +, -, *, /, //, **, %, - (unary), + (unary)\n",
    "- Relational: <, <=, >=, >, ==, !=\n",
    "- Assignment: +=, -=, *=, /=, //=, **=, %=, <<=, >>=\n",
    "- Logical: and, or, not\n",
    "\n",
    "Note: for now at least, we are not covering the bitwise operators (<<, >>, &, |, ^, ~, &=, |=, ^=)."
   ]
  },
  {
   "cell_type": "markdown",
   "id": "31fe070e",
   "metadata": {
    "slideshow": {
     "slide_type": "slide"
    }
   },
   "source": [
    "Integer Division (//)\n",
    "\n",
    "Note: This operator is very useful on the homework, so spend some time experimenting with how it works!"
   ]
  },
  {
   "cell_type": "code",
   "execution_count": 3,
   "id": "69cb4b9d",
   "metadata": {
    "ExecuteTime": {
     "end_time": "2022-10-11T11:24:22.106804Z",
     "start_time": "2022-10-11T11:24:22.088804Z"
    },
    "slideshow": {
     "slide_type": "slide"
    }
   },
   "outputs": [
    {
     "name": "stdout",
     "output_type": "stream",
     "text": [
      "The / operator does 'normal' float division:\n",
      " 5/3  = 1.6666666666666667\n",
      "\n",
      "The // operator does integer division:\n",
      " 5//3 = 1\n",
      " 2//3 = 0\n",
      "-1//3 = -1\n",
      "-4//3 = -2\n"
     ]
    }
   ],
   "source": [
    "print(\"The / operator does 'normal' float division:\")\n",
    "print(\" 5/3  =\", ( 5/3))\n",
    "print()\n",
    "print(\"The // operator does integer division:\")\n",
    "print(\" 5//3 =\", ( 5//3))\n",
    "print(\" 2//3 =\", ( 2//3))\n",
    "print(\"-1//3 =\", (-1//3))\n",
    "print(\"-4//3 =\", (-4//3))"
   ]
  },
  {
   "cell_type": "markdown",
   "id": "523c1606",
   "metadata": {
    "slideshow": {
     "slide_type": "slide"
    }
   },
   "source": [
    "The Modulus or Remainder Operator (%)\n",
    "\n",
    "Note: This is another very useful operator. It's worth taking the time to try it out."
   ]
  },
  {
   "cell_type": "code",
   "execution_count": 4,
   "id": "d991607a",
   "metadata": {
    "ExecuteTime": {
     "end_time": "2022-10-11T11:24:44.121545Z",
     "start_time": "2022-10-11T11:24:43.777776Z"
    },
    "slideshow": {
     "slide_type": "slide"
    }
   },
   "outputs": [
    {
     "name": "stdout",
     "output_type": "stream",
     "text": [
      " 6%3 = 0\n",
      " 5%3 = 2\n",
      " 2%3 = 2\n",
      " 0%3 = 0\n",
      "-4%3 = 2\n"
     ]
    },
    {
     "ename": "ZeroDivisionError",
     "evalue": "integer division or modulo by zero",
     "output_type": "error",
     "traceback": [
      "\u001b[1;31m---------------------------------------------------------------------------\u001b[0m",
      "\u001b[1;31mZeroDivisionError\u001b[0m                         Traceback (most recent call last)",
      "Input \u001b[1;32mIn [4]\u001b[0m, in \u001b[0;36m<cell line: 6>\u001b[1;34m()\u001b[0m\n\u001b[0;32m      4\u001b[0m \u001b[38;5;28mprint\u001b[39m(\u001b[38;5;124m\"\u001b[39m\u001b[38;5;124m 0\u001b[39m\u001b[38;5;124m%\u001b[39m\u001b[38;5;124m3 =\u001b[39m\u001b[38;5;124m\"\u001b[39m, ( \u001b[38;5;241m0\u001b[39m\u001b[38;5;241m%\u001b[39m\u001b[38;5;241m3\u001b[39m))\n\u001b[0;32m      5\u001b[0m \u001b[38;5;28mprint\u001b[39m(\u001b[38;5;124m\"\u001b[39m\u001b[38;5;124m-4\u001b[39m\u001b[38;5;124m%\u001b[39m\u001b[38;5;124m3 =\u001b[39m\u001b[38;5;124m\"\u001b[39m, (\u001b[38;5;241m-\u001b[39m\u001b[38;5;241m4\u001b[39m\u001b[38;5;241m%\u001b[39m\u001b[38;5;241m3\u001b[39m))\n\u001b[1;32m----> 6\u001b[0m \u001b[38;5;28mprint\u001b[39m(\u001b[38;5;124m\"\u001b[39m\u001b[38;5;124m 3\u001b[39m\u001b[38;5;124m%\u001b[39m\u001b[38;5;124m0 =\u001b[39m\u001b[38;5;124m\"\u001b[39m, ( \u001b[38;5;241;43m3\u001b[39;49m\u001b[38;5;241;43m%\u001b[39;49m\u001b[38;5;241;43m0\u001b[39;49m))\n",
      "\u001b[1;31mZeroDivisionError\u001b[0m: integer division or modulo by zero"
     ]
    }
   ],
   "source": [
    "print(\" 6%3 =\", ( 6%3))\n",
    "print(\" 5%3 =\", ( 5%3))\n",
    "print(\" 2%3 =\", ( 2%3))\n",
    "print(\" 0%3 =\", ( 0%3))\n",
    "print(\"-4%3 =\", (-4%3))\n",
    "print(\" 3%0 =\", ( 3%0))"
   ]
  },
  {
   "cell_type": "markdown",
   "id": "5e48ce77",
   "metadata": {
    "slideshow": {
     "slide_type": "slide"
    }
   },
   "source": [
    "More of the Modulus or Remainder Operator (%)\n",
    "\n",
    "Verify that (a%b) is equivalent to (a - (a//b)*b):\n"
   ]
  },
  {
   "cell_type": "code",
   "execution_count": 5,
   "id": "6bf27f7c",
   "metadata": {
    "ExecuteTime": {
     "end_time": "2022-10-11T11:25:07.928845Z",
     "start_time": "2022-10-11T11:25:07.913365Z"
    },
    "slideshow": {
     "slide_type": "slide"
    }
   },
   "outputs": [
    {
     "name": "stdout",
     "output_type": "stream",
     "text": [
      "13 13\n",
      "14 14\n",
      "4 4\n",
      "-4 -4\n"
     ]
    }
   ],
   "source": [
    "def mod(a, b):\n",
    "  return a - (a//b)*b\n",
    "\n",
    "print(41%14, mod(41,14))\n",
    "print(14%41, mod(14,41))\n",
    "print(-32%9, mod(-32,9))\n",
    "print(32%-9, mod(32,-9))"
   ]
  },
  {
   "cell_type": "markdown",
   "id": "71702db7",
   "metadata": {
    "slideshow": {
     "slide_type": "slide"
    }
   },
   "source": [
    "Types Affect Semantics\n",
    "\n",
    "Operators behave differently depending on the data types they interact with"
   ]
  },
  {
   "cell_type": "code",
   "execution_count": 6,
   "id": "a2ec28b2",
   "metadata": {
    "ExecuteTime": {
     "end_time": "2022-10-11T11:25:33.290630Z",
     "start_time": "2022-10-11T11:25:33.267932Z"
    },
    "slideshow": {
     "slide_type": "slide"
    }
   },
   "outputs": [
    {
     "name": "stdout",
     "output_type": "stream",
     "text": [
      "6\n",
      "abcabcabc\n",
      "5\n",
      "abcdef\n"
     ]
    },
    {
     "ename": "TypeError",
     "evalue": "unsupported operand type(s) for +: 'int' and 'str'",
     "output_type": "error",
     "traceback": [
      "\u001b[1;31m---------------------------------------------------------------------------\u001b[0m",
      "\u001b[1;31mTypeError\u001b[0m                                 Traceback (most recent call last)",
      "Input \u001b[1;32mIn [6]\u001b[0m, in \u001b[0;36m<cell line: 5>\u001b[1;34m()\u001b[0m\n\u001b[0;32m      3\u001b[0m \u001b[38;5;28mprint\u001b[39m(\u001b[38;5;241m3\u001b[39m \u001b[38;5;241m+\u001b[39m \u001b[38;5;241m2\u001b[39m)\n\u001b[0;32m      4\u001b[0m \u001b[38;5;28mprint\u001b[39m(\u001b[38;5;124m\"\u001b[39m\u001b[38;5;124mabc\u001b[39m\u001b[38;5;124m\"\u001b[39m \u001b[38;5;241m+\u001b[39m \u001b[38;5;124m\"\u001b[39m\u001b[38;5;124mdef\u001b[39m\u001b[38;5;124m\"\u001b[39m)\n\u001b[1;32m----> 5\u001b[0m \u001b[38;5;28mprint\u001b[39m(\u001b[38;5;241;43m3\u001b[39;49m\u001b[43m \u001b[49m\u001b[38;5;241;43m+\u001b[39;49m\u001b[43m \u001b[49m\u001b[38;5;124;43m\"\u001b[39;49m\u001b[38;5;124;43mdef\u001b[39;49m\u001b[38;5;124;43m\"\u001b[39;49m)\n",
      "\u001b[1;31mTypeError\u001b[0m: unsupported operand type(s) for +: 'int' and 'str'"
     ]
    }
   ],
   "source": [
    "print(3 * 2)\n",
    "print(3 * \"abc\")\n",
    "print(3 + 2)\n",
    "print(\"abc\" + \"def\")\n",
    "print(3 + \"def\")"
   ]
  },
  {
   "cell_type": "markdown",
   "id": "7e14a29d",
   "metadata": {
    "slideshow": {
     "slide_type": "slide"
    }
   },
   "source": [
    "Operator Order (Precedence and Associativity)"
   ]
  },
  {
   "cell_type": "code",
   "execution_count": 7,
   "id": "d3d5896f",
   "metadata": {
    "ExecuteTime": {
     "end_time": "2022-10-11T11:26:04.325424Z",
     "start_time": "2022-10-11T11:26:04.309424Z"
    },
    "scrolled": true,
    "slideshow": {
     "slide_type": "slide"
    }
   },
   "outputs": [
    {
     "name": "stdout",
     "output_type": "stream",
     "text": [
      "Precedence:\n",
      "14\n",
      "6\n",
      "32\n",
      "\n",
      "Associativity:\n",
      "-2\n",
      "262144\n"
     ]
    }
   ],
   "source": [
    "print(\"Precedence:\")\n",
    "print(2+3*4)  # prints 14, not 20\n",
    "print(5+4%3)  # prints  6, not 0 (% has same precedence as *, /, and //)\n",
    "print(2**3*4) # prints 32, not 4096 (** has higher precedence than *, /, //, and %)\n",
    "\n",
    "print()\n",
    "\n",
    "print(\"Associativity:\")\n",
    "print(5-4-3)   # prints -2, not 4 (- associates left-to-right)\n",
    "print(4**3**2) # prints 262144, not 4096 (** associates right-to-left)"
   ]
  },
  {
   "cell_type": "markdown",
   "id": "5dd0be24",
   "metadata": {
    "ExecuteTime": {
     "end_time": "2022-10-11T11:31:13.029948Z",
     "start_time": "2022-10-11T11:31:13.023949Z"
    },
    "slideshow": {
     "slide_type": "slide"
    }
   },
   "source": [
    "Approximate Values of Floating-Point Numbers  "
   ]
  },
  {
   "cell_type": "code",
   "execution_count": 9,
   "id": "e4d16936",
   "metadata": {
    "ExecuteTime": {
     "end_time": "2022-10-11T11:31:21.661801Z",
     "start_time": "2022-10-11T11:31:21.651880Z"
    },
    "slideshow": {
     "slide_type": "slide"
    }
   },
   "outputs": [
    {
     "name": "stdout",
     "output_type": "stream",
     "text": [
      "True\n",
      "False\n",
      "0.30000000000000004\n",
      "5.551115123125783e-17\n"
     ]
    }
   ],
   "source": [
    "print(0.1 + 0.1 == 0.2)        # True, but...\n",
    "print(0.1 + 0.1 + 0.1 == 0.3)  # False!\n",
    "print(0.1 + 0.1 + 0.1)         # prints 0.30000000000000004 (uh oh)\n",
    "print((0.1 + 0.1 + 0.1) - 0.3) # prints 5.55111512313e-17 (tiny, but non-zero!)"
   ]
  },
  {
   "cell_type": "markdown",
   "id": "9168540a",
   "metadata": {
    "slideshow": {
     "slide_type": "slide"
    }
   },
   "source": [
    "Equality Testing with almostEqual:\n"
   ]
  },
  {
   "cell_type": "code",
   "execution_count": 10,
   "id": "50a05a36",
   "metadata": {
    "ExecuteTime": {
     "end_time": "2022-10-11T11:31:36.693268Z",
     "start_time": "2022-10-11T11:31:36.682906Z"
    },
    "slideshow": {
     "slide_type": "slide"
    }
   },
   "outputs": [
    {
     "name": "stdout",
     "output_type": "stream",
     "text": [
      "The problem....\n",
      "False\n",
      "\n",
      "The solution...\n",
      "True\n",
      "\n",
      "Once again, using a useful helper function, almostEqual:\n",
      "False\n",
      "True\n"
     ]
    }
   ],
   "source": [
    "print(\"The problem....\")\n",
    "d1 = 0.1 + 0.1 + 0.1\n",
    "d2 = 0.3\n",
    "print(d1 == d2)                # False (never use == with floats!)\n",
    "\n",
    "print()\n",
    "print(\"The solution...\")\n",
    "epsilon = 10**-10\n",
    "print(abs(d2 - d1) < epsilon)  # True!\n",
    "\n",
    "print()\n",
    "print(\"Once again, using a useful helper function, almostEqual:\")\n",
    "\n",
    "def almostEqual(d1, d2):\n",
    "    epsilon = 10**-10\n",
    "    return (abs(d2 - d1) < epsilon)\n",
    "\n",
    "d1 = 0.1 + 0.1 + 0.1\n",
    "d2 = 0.3\n",
    "print(d1 == d2)            # still False, of course\n",
    "print(almostEqual(d1, d2)) # True, and now packaged in a handy reusable function!"
   ]
  },
  {
   "cell_type": "markdown",
   "id": "ac3f81f0",
   "metadata": {
    "ExecuteTime": {
     "end_time": "2022-10-11T11:31:45.597776Z",
     "start_time": "2022-10-11T11:31:45.592776Z"
    },
    "slideshow": {
     "slide_type": "slide"
    }
   },
   "source": [
    "Short-Circuit Evaluation"
   ]
  },
  {
   "cell_type": "code",
   "execution_count": 12,
   "id": "4c58c158",
   "metadata": {
    "ExecuteTime": {
     "end_time": "2022-10-11T11:31:53.262990Z",
     "start_time": "2022-10-11T11:31:53.236764Z"
    },
    "slideshow": {
     "slide_type": "slide"
    }
   },
   "outputs": [
    {
     "name": "stdout",
     "output_type": "stream",
     "text": [
      "False\n"
     ]
    },
    {
     "ename": "ZeroDivisionError",
     "evalue": "division by zero",
     "output_type": "error",
     "traceback": [
      "\u001b[1;31m---------------------------------------------------------------------------\u001b[0m",
      "\u001b[1;31mZeroDivisionError\u001b[0m                         Traceback (most recent call last)",
      "Input \u001b[1;32mIn [12]\u001b[0m, in \u001b[0;36m<cell line: 11>\u001b[1;34m()\u001b[0m\n\u001b[0;32m      8\u001b[0m     \u001b[38;5;28;01mreturn\u001b[39;00m \u001b[38;5;241m1\u001b[39m\u001b[38;5;241m/\u001b[39m\u001b[38;5;241m0\u001b[39m \u001b[38;5;66;03m# crashes!\u001b[39;00m\n\u001b[0;32m     10\u001b[0m \u001b[38;5;28mprint\u001b[39m(no() \u001b[38;5;129;01mand\u001b[39;00m crash()) \u001b[38;5;66;03m# Works!\u001b[39;00m\n\u001b[1;32m---> 11\u001b[0m \u001b[38;5;28mprint\u001b[39m(\u001b[43mcrash\u001b[49m\u001b[43m(\u001b[49m\u001b[43m)\u001b[49m \u001b[38;5;129;01mand\u001b[39;00m no()) \u001b[38;5;66;03m# Crashes!\u001b[39;00m\n\u001b[0;32m     12\u001b[0m \u001b[38;5;28mprint\u001b[39m (yes() \u001b[38;5;129;01mand\u001b[39;00m crash())\n",
      "Input \u001b[1;32mIn [12]\u001b[0m, in \u001b[0;36mcrash\u001b[1;34m()\u001b[0m\n\u001b[0;32m      7\u001b[0m \u001b[38;5;28;01mdef\u001b[39;00m \u001b[38;5;21mcrash\u001b[39m():\n\u001b[1;32m----> 8\u001b[0m     \u001b[38;5;28;01mreturn\u001b[39;00m \u001b[38;5;241;43m1\u001b[39;49m\u001b[38;5;241;43m/\u001b[39;49m\u001b[38;5;241;43m0\u001b[39;49m\n",
      "\u001b[1;31mZeroDivisionError\u001b[0m: division by zero"
     ]
    }
   ],
   "source": [
    "def yes():\n",
    "    return True\n",
    "\n",
    "def no():\n",
    "    return False\n",
    "\n",
    "def crash():\n",
    "    return 1/0 # crashes!\n",
    "\n",
    "print(no() and crash()) # Works!\n",
    "print(crash() and no()) # Crashes!\n",
    "print (yes() and crash()) # Never runs (due to crash), but would also crash (without short-circuiting)"
   ]
  },
  {
   "cell_type": "markdown",
   "id": "e1f47344",
   "metadata": {
    "slideshow": {
     "slide_type": "slide"
    }
   },
   "source": [
    "Once again, using the \"or\" operator:\n"
   ]
  },
  {
   "cell_type": "code",
   "execution_count": 13,
   "id": "5a18c4bc",
   "metadata": {
    "ExecuteTime": {
     "end_time": "2022-10-11T11:32:11.189466Z",
     "start_time": "2022-10-11T11:32:11.164742Z"
    },
    "slideshow": {
     "slide_type": "slide"
    }
   },
   "outputs": [
    {
     "name": "stdout",
     "output_type": "stream",
     "text": [
      "True\n"
     ]
    },
    {
     "ename": "ZeroDivisionError",
     "evalue": "division by zero",
     "output_type": "error",
     "traceback": [
      "\u001b[1;31m---------------------------------------------------------------------------\u001b[0m",
      "\u001b[1;31mZeroDivisionError\u001b[0m                         Traceback (most recent call last)",
      "Input \u001b[1;32mIn [13]\u001b[0m, in \u001b[0;36m<cell line: 11>\u001b[1;34m()\u001b[0m\n\u001b[0;32m      8\u001b[0m     \u001b[38;5;28;01mreturn\u001b[39;00m \u001b[38;5;241m1\u001b[39m\u001b[38;5;241m/\u001b[39m\u001b[38;5;241m0\u001b[39m \u001b[38;5;66;03m# crashes!\u001b[39;00m\n\u001b[0;32m     10\u001b[0m \u001b[38;5;28mprint\u001b[39m(yes() \u001b[38;5;129;01mor\u001b[39;00m crash()) \u001b[38;5;66;03m# Works!\u001b[39;00m\n\u001b[1;32m---> 11\u001b[0m \u001b[38;5;28mprint\u001b[39m(\u001b[43mcrash\u001b[49m\u001b[43m(\u001b[49m\u001b[43m)\u001b[49m \u001b[38;5;129;01mor\u001b[39;00m yes()) \u001b[38;5;66;03m# Crashes!\u001b[39;00m\n\u001b[0;32m     12\u001b[0m \u001b[38;5;28mprint\u001b[39m(no() \u001b[38;5;129;01mor\u001b[39;00m crash())\n",
      "Input \u001b[1;32mIn [13]\u001b[0m, in \u001b[0;36mcrash\u001b[1;34m()\u001b[0m\n\u001b[0;32m      7\u001b[0m \u001b[38;5;28;01mdef\u001b[39;00m \u001b[38;5;21mcrash\u001b[39m():\n\u001b[1;32m----> 8\u001b[0m     \u001b[38;5;28;01mreturn\u001b[39;00m \u001b[38;5;241;43m1\u001b[39;49m\u001b[38;5;241;43m/\u001b[39;49m\u001b[38;5;241;43m0\u001b[39;49m\n",
      "\u001b[1;31mZeroDivisionError\u001b[0m: division by zero"
     ]
    }
   ],
   "source": [
    "def yes():\n",
    "    return True\n",
    "\n",
    "def no():\n",
    "    return False\n",
    "\n",
    "def crash():\n",
    "    return 1/0 # crashes!\n",
    "\n",
    "print(yes() or crash()) # Works!\n",
    "print(crash() or yes()) # Crashes!\n",
    "print(no() or crash())  # Never runs (due to crash), but would also crash (without short-circuiting)"
   ]
  },
  {
   "cell_type": "markdown",
   "id": "baed9c84",
   "metadata": {
    "slideshow": {
     "slide_type": "slide"
    }
   },
   "source": [
    "Yet another example:\n"
   ]
  },
  {
   "cell_type": "code",
   "execution_count": 14,
   "id": "daaf159f",
   "metadata": {
    "ExecuteTime": {
     "end_time": "2022-10-11T11:32:29.065390Z",
     "start_time": "2022-10-11T11:32:29.059808Z"
    },
    "scrolled": true,
    "slideshow": {
     "slide_type": "slide"
    }
   },
   "outputs": [
    {
     "name": "stdout",
     "output_type": "stream",
     "text": [
      "Test 1: isEven(-4) and isPositive(-4))\n",
      "isEven( -4 ) = True\n",
      "isPositive( -4 ) = False\n",
      "False\n",
      "----------\n",
      "Test 2: isEven(-3) and isPositive(-3)\n",
      "isEven( -3 ) = False\n",
      "False\n"
     ]
    }
   ],
   "source": [
    "def isPositive(n):\n",
    "    result = (n > 0)\n",
    "    print(\"isPositive(\",n,\") =\", result)\n",
    "    return result\n",
    "\n",
    "def isEven(n):\n",
    "    result = (n % 2 == 0)\n",
    "    print(\"isEven(\",n,\") =\", result)\n",
    "    return result\n",
    "\n",
    "print(\"Test 1: isEven(-4) and isPositive(-4))\")\n",
    "print(isEven(-4) and isPositive(-4)) # Calls both functions\n",
    "print(\"----------\")\n",
    "print(\"Test 2: isEven(-3) and isPositive(-3)\")\n",
    "print(isEven(-3) and isPositive(-3)) # Calls only one function!"
   ]
  },
  {
   "cell_type": "markdown",
   "id": "d20265e6",
   "metadata": {
    "slideshow": {
     "slide_type": "slide"
    }
   },
   "source": [
    "type vs isinstance\n"
   ]
  },
  {
   "cell_type": "code",
   "execution_count": 15,
   "id": "15a5a05d",
   "metadata": {
    "ExecuteTime": {
     "end_time": "2022-10-11T11:32:49.564628Z",
     "start_time": "2022-10-11T11:32:49.551629Z"
    },
    "slideshow": {
     "slide_type": "slide"
    }
   },
   "outputs": [
    {
     "name": "stdout",
     "output_type": "stream",
     "text": [
      "True\n",
      "True\n",
      "True True False False\n",
      "True True True False\n"
     ]
    }
   ],
   "source": [
    "# Both type and isinstance can be used to type-check\n",
    "# In general, (isinstance(x, T)) will be more robust than (type(x) == T)\n",
    "\n",
    "print(type(\"abc\") == str)\n",
    "print(isinstance(\"abc\", str))\n",
    "\n",
    "# We'll see better reasons for this when we cover OOP + inheritance later\n",
    "# in the course.  For now, here is one reason:  say you wanted to check\n",
    "# if a value is any kind of number (int, float, complex, etc). \n",
    "# You could do:\n",
    "\n",
    "def isNumber(x):\n",
    "    return ((type(x) == int) or\n",
    "            (type(x) == float)) # are we sure this is ALL kinds of numbers?\n",
    "\n",
    "print(isNumber(1), isNumber(1.1), isNumber(1+2j), isNumber(\"wow\"))\n",
    "\n",
    "# But this is cleaner, and works for all kinds of numbers, including\n",
    "# complex numbers for example:\n",
    "\n",
    "import numbers\n",
    "def isNumber(x):\n",
    "    return isinstance(x, numbers.Number) # works for any kind of number\n",
    "\n",
    "print(isNumber(1), isNumber(1.1), isNumber(1+2j), isNumber(\"wow\"))"
   ]
  },
  {
   "cell_type": "markdown",
   "id": "da42457b",
   "metadata": {
    "slideshow": {
     "slide_type": "slide"
    }
   },
   "source": [
    "# Thank You ;-)\n",
    "Datawhale 聪明办法学 Python 教学团队出品\n",
    "\n",
    "## 关注我们\n",
    "Datawhale 是一个专注 AI 领域的开源组织，以“for the learner，和学习者一起成长”为愿景，构建对学习者最有价值的开源学习社区。关注我们，一起学习成长。\n",
    "<div align=center><img src=\"../resources/datawhale_wechat_qrcode.jpeg\" width = \"250\" height = \"270\"></div>"
   ]
  }
 ],
 "metadata": {
  "celltoolbar": "幻灯片",
  "kernelspec": {
   "display_name": "Python 3 (ipykernel)",
   "language": "python",
   "name": "python3"
  },
  "language_info": {
   "codemirror_mode": {
    "name": "ipython",
    "version": 3
   },
   "file_extension": ".py",
   "mimetype": "text/x-python",
   "name": "python",
   "nbconvert_exporter": "python",
   "pygments_lexer": "ipython3",
   "version": "3.9.13"
  },
  "latex_envs": {
   "LaTeX_envs_menu_present": true,
   "autoclose": false,
   "autocomplete": true,
   "bibliofile": "biblio.bib",
   "cite_by": "apalike",
   "current_citInitial": 1,
   "eqLabelWithNumbers": true,
   "eqNumInitial": 1,
   "hotkeys": {
    "equation": "Ctrl-E",
    "itemize": "Ctrl-I"
   },
   "labels_anchors": false,
   "latex_user_defs": false,
   "report_style_numbering": false,
   "user_envs_cfg": false
  },
  "toc": {
   "base_numbering": 1,
   "nav_menu": {},
   "number_sections": false,
   "sideBar": true,
   "skip_h1_title": false,
   "title_cell": "Table of Contents",
   "title_sidebar": "Contents",
   "toc_cell": false,
   "toc_position": {},
   "toc_section_display": true,
   "toc_window_display": false
  },
  "varInspector": {
   "cols": {
    "lenName": 16,
    "lenType": 16,
    "lenVar": 40
   },
   "kernels_config": {
    "python": {
     "delete_cmd_postfix": "",
     "delete_cmd_prefix": "del ",
     "library": "var_list.py",
     "varRefreshCmd": "print(var_dic_list())"
    },
    "r": {
     "delete_cmd_postfix": ") ",
     "delete_cmd_prefix": "rm(",
     "library": "var_list.r",
     "varRefreshCmd": "cat(var_dic_list()) "
    }
   },
   "types_to_exclude": [
    "module",
    "function",
    "builtin_function_or_method",
    "instance",
    "_Feature"
   ],
   "window_display": false
  }
 },
 "nbformat": 4,
 "nbformat_minor": 5
}
