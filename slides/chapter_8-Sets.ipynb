{
 "cells": [
  {
   "cell_type": "markdown",
   "metadata": {},
   "source": [
    "# Quick Example [Pre-reading]\n"
   ]
  },
  {
   "cell_type": "code",
   "execution_count": null,
   "metadata": {},
   "outputs": [],
   "source": [
    "# A set is a data structure that can hold multiple elements in no particular order\n",
    "# We cannot index into it, but we can iterate over it.\n",
    "s = set([2,3,5])\n",
    "print(3 in s)          # prints True\n",
    "print(4 in s)          # prints False\n",
    "for x in range(7):\n",
    "    if (x not in s):\n",
    "        print(x)       # prints 0 1 4 6"
   ]
  },
  {
   "cell_type": "markdown",
   "metadata": {},
   "source": [
    "# Creating Sets [Pre-reading]\n"
   ]
  },
  {
   "cell_type": "markdown",
   "metadata": {},
   "source": [
    "Create an empty set\n"
   ]
  },
  {
   "cell_type": "code",
   "execution_count": null,
   "metadata": {},
   "outputs": [],
   "source": [
    "s = set()\n",
    "print(s)     # prints set(), the empty set"
   ]
  },
  {
   "cell_type": "markdown",
   "metadata": {},
   "source": [
    "Create a set from a list\n"
   ]
  },
  {
   "cell_type": "code",
   "execution_count": null,
   "metadata": {},
   "outputs": [],
   "source": [
    "s = set([\"cat\", \"cow\", \"dog\"])\n",
    "print(s)     # prints {'cow', 'dog', 'cat'}"
   ]
  },
  {
   "cell_type": "markdown",
   "metadata": {},
   "source": [
    "Create a statically-allocated set\n"
   ]
  },
  {
   "cell_type": "code",
   "execution_count": null,
   "metadata": {},
   "outputs": [],
   "source": [
    "s = { 2, 3, 5 }\n",
    "print(s)    # prints { 2, 3, 5 }"
   ]
  },
  {
   "cell_type": "markdown",
   "metadata": {},
   "source": [
    "Caution: { } is not an empty set!\n"
   ]
  },
  {
   "cell_type": "code",
   "execution_count": null,
   "metadata": {},
   "outputs": [],
   "source": [
    "s = { }\n",
    "print(type(s) == set)  # False!\n",
    "print(type(s))         # This is a dict (we'll learn about those soon)"
   ]
  },
  {
   "cell_type": "markdown",
   "metadata": {},
   "source": [
    "# Using Sets [Pre-reading]\n"
   ]
  },
  {
   "cell_type": "code",
   "execution_count": null,
   "metadata": {},
   "outputs": [],
   "source": [
    "# Sets can do many of the same things as lists and tuples...\n",
    "s = set([1, 2, 3])\n",
    "\n",
    "print(len(s)) # prints 3\n",
    "\n",
    "print(2 in s) # prints True\n",
    "print(4 in s) # prints False\n",
    "print(4 not in s) # prints True\n",
    "print(2 not in s) # prints False\n",
    "\n",
    "s.add(7)      # use add instead of append to add an element to a set\n",
    "s.remove(3)   # removes 3 from the set; raises an error if 3 is not in s\n",
    "\n",
    "for item in s:\n",
    "    print(item) # we can loop over the items in s"
   ]
  },
  {
   "cell_type": "markdown",
   "metadata": {},
   "source": [
    "# Properties of Sets [Pre-reading]\n"
   ]
  },
  {
   "cell_type": "markdown",
   "metadata": {},
   "source": [
    "Though sets are very similar to lists and tuples, they have a few important differences...\n"
   ]
  },
  {
   "cell_type": "markdown",
   "metadata": {},
   "source": [
    "## Sets are Unordered [Pre-reading]\n"
   ]
  },
  {
   "cell_type": "code",
   "execution_count": null,
   "metadata": {},
   "outputs": [],
   "source": [
    "# Elements may be arranged in a different order than they are provided,\n",
    "# and we cannot index into the set.\n",
    "s = set([2,4,8])\n",
    "print(s)          # prints {8, 2, 4} in standard Python (though not in brython)\n",
    "for element in s: # prints 8, 2, 4\n",
    "    print(element)"
   ]
  },
  {
   "cell_type": "markdown",
   "metadata": {},
   "source": [
    "## Elements are Unique [Pre-reading]\n"
   ]
  },
  {
   "cell_type": "code",
   "execution_count": null,
   "metadata": {},
   "outputs": [],
   "source": [
    "# Sets can also only hold one of each unique element. Duplicates are removed.\n",
    "s = set([2,2,2])\n",
    "print(s)          # prints {2}\n",
    "print(len(s))     # prints 1"
   ]
  },
  {
   "cell_type": "markdown",
   "metadata": {},
   "source": [
    "## Elements Must Be Immutable [Pre-reading]\n"
   ]
  },
  {
   "cell_type": "code",
   "execution_count": null,
   "metadata": {},
   "outputs": [],
   "source": [
    "# Sets can only hold elements that are immutable (cannot be changed),\n",
    "# such as numbers, booleans, strings, and tuples\n",
    "a = [\"lists\", \"are\", \"mutable\"]\n",
    "s = set([a])       # TypeError: unhashable type: 'list'\n",
    "print(s)"
   ]
  },
  {
   "cell_type": "markdown",
   "metadata": {},
   "source": [
    "Another example:\n"
   ]
  },
  {
   "cell_type": "code",
   "execution_count": null,
   "metadata": {},
   "outputs": [],
   "source": [
    "s1 = set([\"sets\", \"are\", \"mutable\", \"too\"])\n",
    "s2 = set([s1])     # TypeError: unhashable type: 'set'\n",
    "print(s)"
   ]
  },
  {
   "cell_type": "markdown",
   "metadata": {},
   "source": [
    "## Sets are Very Efficient\n"
   ]
  },
  {
   "cell_type": "markdown",
   "metadata": {},
   "source": [
    "The whole point of having sets is because they are very efficient, in fact O(1), for most common operations including adding elements, removing elements, and checking for membership.\n"
   ]
  },
  {
   "cell_type": "markdown",
   "metadata": {},
   "source": [
    "# How Sets Work: Hashing\n"
   ]
  },
  {
   "cell_type": "markdown",
   "metadata": {},
   "source": [
    "Sets achieve their blazing speed using an algorithmic approach called hashing.\n",
    "\n",
    "A hash function takes any value as input and returns an integer. The function returns the same integer each time it is called on a given value, and should generally return different integers for different values, though that does not always need to be the case. We actually don't need to build the hash function ourselves, as Python has one already, a built-in function called hash.\n",
    "\n",
    "Python stores items in a set by creating a hash table, which is a list of N lists (called 'buckets'). Python chooses the bucket for an element based on its hash value, using hash(element) % n. Values in each bucket are not sorted, but the size of each bucket is limited to some constant K.\n",
    "\n",
    "We get O(1) (constant-time) adding like so:\n",
    "Compute the bucket index hash(element) % n -- takes O(1).\n",
    "Retrieve the bucket hashTable[bucketIndex] -- takes O(1).\n",
    "Append the element to the bucket -- takes O(1).\n",
    "\n",
    "We get O(1) (constant-time) membership testing ('in') like so:\n",
    "Compute the bucket index hash(element) % n -- takes O(1).\n",
    "Retrieve the bucket hashTable[bucketIndex] -- takes O(1).\n",
    "Check each value in the bucket if it equals the element -- takes O(1) because there are at most K values in the bucket, and K is a constant.\n",
    "\n",
    "Q: How do we guarantee that each bucket is no larger than size K? A: Good question! If we need to add a (K+1)th value to a bucket, instead we resize our hashtable, making it say twice as big, and then we rehash every value, basically adding it to the new hashtable. This takes O(N) time, but we do it very rarely, so the amortized worst case remains O(1).\n",
    "\n",
    "A practical example of how sets are faster than lists is shown below:"
   ]
  },
  {
   "cell_type": "code",
   "execution_count": null,
   "metadata": {},
   "outputs": [],
   "source": [
    "# 0. Preliminaries\n",
    "import time\n",
    "n = 1000\n",
    "\n",
    "# 1. Create a list [2,4,6,...,n] then check for membership\n",
    "# among [1,2,3,...,n] in that list.\n",
    "\n",
    "# don't count the list creation in the timing\n",
    "a = list(range(2,n+1,2))\n",
    "\n",
    "print(\"Using a list... \", end=\"\")\n",
    "start = time.time()\n",
    "count = 0\n",
    "for x in range(n+1):\n",
    "    if x in a:\n",
    "        count += 1\n",
    "end = time.time()\n",
    "elapsed1 = end - start\n",
    "print(f'count={count} and time = {elapsed1:0.5f} seconds')\n",
    "\n",
    "# 2. Repeat, using a set\n",
    "print(\"Using a set.... \", end=\"\")\n",
    "start = time.time()\n",
    "s = set(a)\n",
    "count = 0\n",
    "for x in range(n+1):\n",
    "    if x in s:\n",
    "        count += 1\n",
    "end = time.time()\n",
    "elapsed2 = end - start\n",
    "print(f'count={count} and time = {elapsed2:0.5f} seconds')\n",
    "print(f'At n={n}, sets ran ~{elapsed1/elapsed2:0.1f} times faster than lists!')\n",
    "print(\"Try a larger n to see an even greater savings!\")"
   ]
  },
  {
   "cell_type": "markdown",
   "metadata": {},
   "source": [
    "# Some Worked Examples Using Sets\n"
   ]
  },
  {
   "cell_type": "markdown",
   "metadata": {},
   "source": [
    "isPermutation(L)  \n"
   ]
  },
  {
   "cell_type": "code",
   "execution_count": null,
   "metadata": {},
   "outputs": [],
   "source": [
    "def isPermutation(L):\n",
    "    # return True if L is a permutation of [0,...,n-1]\n",
    "    # and False otherwise\n",
    "    return (set(L) == set(range(len(L))))\n",
    "\n",
    "def testIsPermutation():\n",
    "    print(\"Testing isPermutation()...\", end=\"\")\n",
    "    assert(isPermutation([0,2,1,4,3]) == True)\n",
    "    assert(isPermutation([1,3,0,4,2]) == True)\n",
    "    assert(isPermutation([1,3,5,4,2]) == False)\n",
    "    assert(isPermutation([1,4,0,4,2]) == False)\n",
    "    print(\"Passed!\")\n",
    "\n",
    "testIsPermutation()"
   ]
  },
  {
   "cell_type": "markdown",
   "metadata": {},
   "source": [
    "repeats(L)  \n"
   ]
  },
  {
   "cell_type": "code",
   "execution_count": null,
   "metadata": {},
   "outputs": [],
   "source": [
    "def repeats(L):\n",
    "    # return a sorted list of the repeat elements in the list L\n",
    "    seen = set()\n",
    "    seenAgain = set()\n",
    "    for element in L:\n",
    "        if (element in seen):\n",
    "            seenAgain.add(element)\n",
    "        seen.add(element)\n",
    "    return sorted(seenAgain)\n",
    "\n",
    "def testRepeats():\n",
    "    print(\"Testing repeats()...\", end=\"\")\n",
    "    assert(repeats([1,2,3,2,1]) == [1,2])\n",
    "    assert(repeats([1,2,3,2,2,4]) == [2])\n",
    "    assert(repeats(list(range(100))) == [ ])\n",
    "    assert(repeats(list(range(100))*5) == list(range(100)))\n",
    "    print(\"Passed!\")\n",
    "\n",
    "testRepeats()"
   ]
  }
 ],
 "metadata": {
  "kernelspec": {
   "display_name": "p2s",
   "language": "python",
   "name": "python3"
  },
  "language_info": {
   "name": "python",
   "version": "3.9.15"
  },
  "orig_nbformat": 4
 },
 "nbformat": 4,
 "nbformat_minor": 2
}
