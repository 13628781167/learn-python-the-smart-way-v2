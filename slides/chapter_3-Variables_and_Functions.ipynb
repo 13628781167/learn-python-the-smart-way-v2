{
 "cells": [
  {
   "cell_type": "markdown",
   "id": "cf04d555",
   "metadata": {},
   "source": [
    "# 聪明办法学 Python 2nd Edition (Beta)\n",
    "## Chapter 3 变量与函数 Variables and Functions\n",
    "\n",
    "骆秀韬\n",
    "\n",
    "<p>epsilon_luoo@outlook.com</p>"
   ]
  },
  {
   "cell_type": "markdown",
   "id": "52eb108d",
   "metadata": {},
   "source": [
    "# Variables\n",
    "A variable is a named value that references or stores a piece of data.`"
   ]
  },
  {
   "cell_type": "code",
   "execution_count": null,
   "id": "43094e5b",
   "metadata": {},
   "outputs": [],
   "source": [
    "# we put a value in a variable using an = sign\n",
    "x = 5\n",
    "print(x) # x evaluates to 5\n",
    "print(x*2) # evaluates to 10"
   ]
  },
  {
   "cell_type": "markdown",
   "id": "50cb960e",
   "metadata": {},
   "source": [
    "Unlike in math, variables can have new values assigned to them, even values of different types."
   ]
  },
  {
   "cell_type": "code",
   "execution_count": null,
   "id": "8259c68b",
   "metadata": {},
   "outputs": [],
   "source": [
    "y = 10\n",
    "print(y - 2)\n",
    "\n",
    "y = True\n",
    "print(y)"
   ]
  },
  {
   "cell_type": "markdown",
   "id": "6ef1a41e",
   "metadata": {},
   "source": [
    "Variables can be given any name, as long as it starts with a letter and contains no special characters."
   ]
  },
  {
   "cell_type": "code",
   "execution_count": null,
   "id": "455ea687",
   "metadata": {},
   "outputs": [],
   "source": [
    "numberOfRabbits = 40\n",
    "courseIs15112 = True\n",
    "99problems = 0 # will crash because it starts with a number"
   ]
  },
  {
   "cell_type": "markdown",
   "id": "5b2a4a68",
   "metadata": {},
   "source": [
    "Variables can be updated with assignment operations."
   ]
  },
  {
   "cell_type": "code",
   "execution_count": null,
   "id": "f731b4e4",
   "metadata": {},
   "outputs": [],
   "source": [
    "x = 5\n",
    "x += 2 # same as x = x + 2\n",
    "print(x) # should be 7\n",
    "\n",
    "# This can be done with any of the arithmetic operations.\n",
    "y = 350\n",
    "y //= 10\n",
    "print(y) # should be 35"
   ]
  },
  {
   "cell_type": "markdown",
   "id": "e4e14cb5",
   "metadata": {},
   "source": [
    "# Functions\n",
    "A function is a procedure (a sequence of statements) stored under a name that can be used repeatedly by calling the name."
   ]
  },
  {
   "cell_type": "code",
   "execution_count": null,
   "id": "61d0b8a0",
   "metadata": {},
   "outputs": [],
   "source": [
    "# A function is composed of two parts: the header and the body.\n",
    "\n",
    "# The header defines the name and parameters.\n",
    "# A function header is written as follows: def functionName(parameters):\n",
    "# The parameters are variables that will be provided when the function is called.\n",
    "# The header ends with a colon to indicate that a body will follow.\n",
    "\n",
    "# The body contains the actions (statements) that the function performs.\n",
    "# The body is written under the function with an indent.\n",
    "# When the lines are no longer indented, the function body ends.\n",
    "# Functions usually contain a return statement. This will provide the result when the function is called.\n",
    "\n",
    "# Example:\n",
    "\n",
    "def double(x):\n",
    "    print(\"I'm in the double function!\")\n",
    "    return 2 * x\n",
    "\n",
    "# To call the function, we use the function's name,\n",
    "# followed by parentheses which contain the data values we want to use, called function arguments.\n",
    "# This function call will evaluate to an expression.\n",
    "\n",
    "print(double(2)) # will print 4\n",
    "print(double(5)) # will print 10\n",
    "print(double(1) + 3) # will print 5"
   ]
  },
  {
   "cell_type": "markdown",
   "id": "7e18a170",
   "metadata": {},
   "source": [
    "Functions can have as many parameters as they need, or none at all.\n"
   ]
  },
  {
   "cell_type": "code",
   "execution_count": null,
   "id": "53f6e955",
   "metadata": {},
   "outputs": [],
   "source": [
    "def f(x, y, z):\n",
    "    return x + y + z\n",
    "\n",
    "print(f(1, 3, 2)) # returns 6\n",
    "\n",
    "def g():\n",
    "    return 42\n",
    "\n",
    "print(g()) # returns 42\n",
    "\n",
    "# Note - the number of arguments provided must match the number of parameters!\n",
    "print(g(2)) # will crash\n",
    "print(f(1, 2)) # would also crash if it ran"
   ]
  },
  {
   "cell_type": "code",
   "execution_count": null,
   "id": "2ef36b6a",
   "metadata": {},
   "outputs": [],
   "source": [
    "# Statements and Expressions\n",
    "An expression is a data value or an operation that evaluates to a value.\n"
   ]
  },
  {
   "cell_type": "code",
   "execution_count": null,
   "id": "62aa19ae",
   "metadata": {},
   "outputs": [],
   "source": [
    "# Examples of expressions.\n",
    "# Note that when this is run in the editor, none of these values are displayed.\n",
    "4\n",
    "\"Hello World\"\n",
    "\n",
    "# If you could replace some code with a single data value without changing the \n",
    "# behavior of your program (like any of the lines below), that code is an expression.\n",
    "7 + 2\n",
    "True or False\n",
    "(2 < 3) and (9 > 0)\n",
    "\n",
    "# Python can only print values and expressions, so if you can print it, it's an expression\n",
    "print((2 < 3) and (9 > 0))"
   ]
  },
  {
   "cell_type": "markdown",
   "id": "70f51fd9",
   "metadata": {},
   "source": [
    "Statements, by contrast, do not evaluate to a value, and we can't print them. Usually they perform some action, though.\n"
   ]
  },
  {
   "cell_type": "code",
   "execution_count": null,
   "id": "59ed7d68",
   "metadata": {},
   "outputs": [],
   "source": [
    "# Defining a function is an example of a statement:\n",
    "def f(x):\n",
    "    return 5*x\n",
    "\n",
    "# Assigning a value to a variable is a statement\n",
    "# Statements may contain expressions, as shown below\n",
    "# to the right of the equals sign\n",
    "x = 5 + 4        # The whole line is a statement. 5 + 4 is an expression.\n",
    "\n",
    "# Conditionals (which we will learn about soon) are also statements \n",
    "if 10 > 5:\n",
    "    y = 5 + 3"
   ]
  },
  {
   "cell_type": "code",
   "execution_count": null,
   "id": "5431e461",
   "metadata": {},
   "outputs": [],
   "source": [
    "# Builtin Functions\n"
   ]
  },
  {
   "cell_type": "code",
   "execution_count": null,
   "id": "b8b17a46",
   "metadata": {},
   "outputs": [],
   "source": [
    "# Some functions are already provided by Python\n",
    "\n",
    "print(\"Type conversion functions:\")\n",
    "print(bool(0))   # convert to boolean (True or False)\n",
    "print(float(42)) # convert to a floating point number\n",
    "print(int(2.8))  # convert to an integer (int)\n",
    "\n",
    "print(\"And some basic math functions:\")\n",
    "print(abs(-5))   # absolute value\n",
    "print(max(2,3))  # return the max value\n",
    "print(min(2,3))  # return the min value\n",
    "print(pow(2,3))  # raise to the given power (pow(x,y) == x**y)\n",
    "print(round(2.354, 1)) # round with the given number of digits"
   ]
  },
  {
   "cell_type": "markdown",
   "id": "76250104",
   "metadata": {},
   "source": [
    "# Variable Scope\n",
    "Variables exist in a specific scope based on when they are defined. This means they are not visible and cannot be used outside that scope, in other parts of the code.\n"
   ]
  },
  {
   "cell_type": "code",
   "execution_count": null,
   "id": "ddcc02e5",
   "metadata": {},
   "outputs": [],
   "source": [
    "def f(x):\n",
    "    print(\"x:\", x)\n",
    "    y = 5\n",
    "    print(\"y:\", y)\n",
    "    return x + y\n",
    "print(f(4))\n",
    "print(x) # will crash!\n",
    "print(y) # would also crash if we reached it!"
   ]
  },
  {
   "cell_type": "markdown",
   "id": "649135bb",
   "metadata": {},
   "source": [
    "Variables in functions have a local scope. They exist only inside the immediate function, and have no relation to variables of the same name in different functions.\n"
   ]
  },
  {
   "cell_type": "code",
   "execution_count": null,
   "id": "e823d1e0",
   "metadata": {},
   "outputs": [],
   "source": [
    "def f(x):\n",
    "    print(\"In f, x =\", x)\n",
    "    x += 5\n",
    "    return x\n",
    "\n",
    "def g(x):\n",
    "    y = f(x*2)\n",
    "    print(\"In g, x =\", x)\n",
    "    z = f(x*3)\n",
    "    print(\"In g, x =\", x)\n",
    "    return y + z\n",
    "\n",
    "print(g(2))\n",
    "\n",
    "# Another example\n",
    "\n",
    "def f(x):\n",
    "    print(\"In f, x =\", x)\n",
    "    x += 7\n",
    "    return round(x / 3)\n",
    "\n",
    "def g(x):\n",
    "    x *= 10\n",
    "    return 2 * f(x)\n",
    "\n",
    "def h(x):\n",
    "    x += 3\n",
    "    return f(x+4) + g(x)\n",
    "\n",
    "print(h(f(1)))"
   ]
  },
  {
   "cell_type": "markdown",
   "id": "8fe6bf91",
   "metadata": {},
   "source": [
    "When defined outside of functions, variables have a global scope and can be used anywhere.\n"
   ]
  },
  {
   "cell_type": "code",
   "execution_count": null,
   "id": "aa728846",
   "metadata": {},
   "outputs": [],
   "source": [
    "# In general, you should avoid using global variables.\n",
    "# You will even lose style points if you use them!\n",
    "# Still, you need to understand how they work, since others\n",
    "# will use them, and there may also be some very few occasions\n",
    "# where you should use them, too!\n",
    "\n",
    "g = 100\n",
    "\n",
    "def f(x):\n",
    "    return x + g\n",
    "\n",
    "print(f(5)) # 105\n",
    "print(f(6)) # 106\n",
    "print(g)    # 100\n",
    "\n",
    "# Another example\n",
    "\n",
    "def f(x):\n",
    "    # If we modify a global variable, we must declare it as global.\n",
    "    # Otherwise, Python will assume it is a local variable.\n",
    "    global g\n",
    "    g += 1\n",
    "    return x + g\n",
    "\n",
    "print(f(5)) # 106\n",
    "print(f(6)) # 108\n",
    "print(g)    # 102"
   ]
  },
  {
   "cell_type": "markdown",
   "id": "8c59c047",
   "metadata": {},
   "source": [
    "# Return Statements\n",
    "Basic Example"
   ]
  },
  {
   "cell_type": "code",
   "execution_count": null,
   "id": "919a8d8b",
   "metadata": {},
   "outputs": [],
   "source": [
    "def isPositive(x):\n",
    "    return (x > 0)\n",
    "\n",
    "print(isPositive(5))  # True\n",
    "print(isPositive(-5)) # False\n",
    "print(isPositive(0))  # False"
   ]
  },
  {
   "cell_type": "markdown",
   "id": "78a01452",
   "metadata": {},
   "source": [
    "Return ends the function immediately:\n"
   ]
  },
  {
   "cell_type": "code",
   "execution_count": null,
   "id": "d6ac5524",
   "metadata": {},
   "outputs": [],
   "source": [
    "def isPositive(x):\n",
    "    print(\"Hello!\")   # runs\n",
    "    return (x > 0)\n",
    "    print(\"Goodbye!\") # does not run (\"dead code\")\n",
    "\n",
    "print(isPositive(5))  # prints Hello, then True"
   ]
  },
  {
   "cell_type": "markdown",
   "id": "d5d8fdc1",
   "metadata": {},
   "source": [
    "No return statement --> return None:\n"
   ]
  },
  {
   "cell_type": "code",
   "execution_count": null,
   "id": "01638b54",
   "metadata": {},
   "outputs": [],
   "source": [
    "def f(x):\n",
    "    x + 42\n",
    "\n",
    "print(f(5)) # None"
   ]
  },
  {
   "cell_type": "markdown",
   "id": "85af87e3",
   "metadata": {},
   "source": [
    "Another example:\n"
   ]
  },
  {
   "cell_type": "code",
   "execution_count": null,
   "id": "2fc25047",
   "metadata": {},
   "outputs": [],
   "source": [
    "def f(x):\n",
    "    result = x + 42\n",
    "\n",
    "print(f(5)) # None"
   ]
  },
  {
   "cell_type": "markdown",
   "id": "5c91f461",
   "metadata": {},
   "source": [
    "# Print versus Return\n",
    "Confusing print and return is a common early mistake.\n"
   ]
  },
  {
   "cell_type": "code",
   "execution_count": null,
   "id": "7b91b102",
   "metadata": {},
   "outputs": [],
   "source": [
    "def cubed(x):\n",
    "    print(x**3) # Here is the error!\n",
    "\n",
    "cubed(2)          # seems to work!\n",
    "print(cubed(3))   # sort of works (but prints None, which is weird)\n",
    "print(2*cubed(4)) # Error!"
   ]
  },
  {
   "cell_type": "markdown",
   "id": "062fbe98",
   "metadata": {},
   "source": [
    "Once again (correctly):\n"
   ]
  },
  {
   "cell_type": "code",
   "execution_count": null,
   "id": "6f242cac",
   "metadata": {},
   "outputs": [],
   "source": [
    "def cubed(x):\n",
    "    return (x**3) # That's better!\n",
    "\n",
    "cubed(2)          # seems to be ignored (why?)\n",
    "print(cubed(3))   # works!\n",
    "print(2*cubed(4)) # works!"
   ]
  },
  {
   "cell_type": "markdown",
   "id": "23385d7f",
   "metadata": {},
   "source": [
    "# Function Composition\n",
    "For nested function calls, we have to evaluate the innermost functions first\n"
   ]
  },
  {
   "cell_type": "code",
   "execution_count": null,
   "id": "d5c18e93",
   "metadata": {},
   "outputs": [],
   "source": [
    "def f(w):\n",
    "    return 10*w\n",
    "\n",
    "def g(x, y):\n",
    "    return f(3*x) + y   # f(3*x) must be evaluated before we can return \n",
    "\n",
    "def h(z):\n",
    "    return f(g(z, f(z+1)))  # The innermost f(z+1) must be evaluated first\n",
    "\n",
    "print(h(1)) # hint: try the \"visualize\" feature"
   ]
  },
  {
   "cell_type": "markdown",
   "id": "7dbb9282",
   "metadata": {},
   "source": [
    "# Helper Functions\n"
   ]
  },
  {
   "cell_type": "code",
   "execution_count": null,
   "id": "006e0632",
   "metadata": {},
   "outputs": [],
   "source": [
    "# We commonly write functions to solve problems.\n",
    "# We can also write functions to store an action that is used multiple times!\n",
    "# These are called helper functions.\n",
    "\n",
    "def onesDigit(n):\n",
    "    return n%10\n",
    "\n",
    "def largerOnesDigit(x, y):\n",
    "    return max(onesDigit(x), onesDigit(y))\n",
    "\n",
    "print(largerOnesDigit(134, 672)) # 4\n",
    "print(largerOnesDigit(132, 674)) # Still 4"
   ]
  }
 ],
 "metadata": {
  "kernelspec": {
   "display_name": "Python 3 (ipykernel)",
   "language": "python",
   "name": "python3"
  },
  "language_info": {
   "codemirror_mode": {
    "name": "ipython",
    "version": 3
   },
   "file_extension": ".py",
   "mimetype": "text/x-python",
   "name": "python",
   "nbconvert_exporter": "python",
   "pygments_lexer": "ipython3",
   "version": "3.9.13"
  },
  "toc": {
   "base_numbering": 1,
   "nav_menu": {},
   "number_sections": false,
   "sideBar": true,
   "skip_h1_title": false,
   "title_cell": "Table of Contents",
   "title_sidebar": "Contents",
   "toc_cell": false,
   "toc_position": {},
   "toc_section_display": true,
   "toc_window_display": false
  },
  "varInspector": {
   "cols": {
    "lenName": 16,
    "lenType": 16,
    "lenVar": 40
   },
   "kernels_config": {
    "python": {
     "delete_cmd_postfix": "",
     "delete_cmd_prefix": "del ",
     "library": "var_list.py",
     "varRefreshCmd": "print(var_dic_list())"
    },
    "r": {
     "delete_cmd_postfix": ") ",
     "delete_cmd_prefix": "rm(",
     "library": "var_list.r",
     "varRefreshCmd": "cat(var_dic_list()) "
    }
   },
   "types_to_exclude": [
    "module",
    "function",
    "builtin_function_or_method",
    "instance",
    "_Feature"
   ],
   "window_display": false
  }
 },
 "nbformat": 4,
 "nbformat_minor": 5
}
