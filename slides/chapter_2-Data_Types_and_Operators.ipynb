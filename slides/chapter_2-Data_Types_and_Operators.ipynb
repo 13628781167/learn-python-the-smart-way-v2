{
 "cells": [
  {
   "cell_type": "markdown",
   "id": "b2ecc3af",
   "metadata": {},
   "source": [
    "Some Builtin Types"
   ]
  },
  {
   "cell_type": "code",
   "execution_count": 1,
   "id": "1474a64f",
   "metadata": {
    "ExecuteTime": {
     "end_time": "2022-10-11T11:23:02.637359Z",
     "start_time": "2022-10-11T11:23:02.630360Z"
    },
    "run_control": {
     "marked": false
    }
   },
   "outputs": [
    {
     "name": "stdout",
     "output_type": "stream",
     "text": [
      "Some basic types in Python:\n",
      "<class 'int'>\n",
      "<class 'float'>\n",
      "<class 'bool'>\n",
      "<class 'type'>\n",
      "#####################################################\n",
      "And some other types we may see later in the course...\n",
      "<class 'str'>\n",
      "<class 'list'>\n",
      "<class 'tuple'>\n",
      "<class 'set'>\n",
      "<class 'dict'>\n",
      "<class 'complex'>\n",
      "<class 'function'>\n"
     ]
    }
   ],
   "source": [
    "import math\n",
    "def f():\n",
    "    print(\"This is a user-defined function\")\n",
    "    return 42\n",
    "\n",
    "print(\"Some basic types in Python:\")\n",
    "print(type(2))           # int\n",
    "print(type(2.2))         # float\n",
    "print(type(2 < 2.2))     # bool (boolean)\n",
    "print(type(type(42)))    # type\n",
    "\n",
    "print(\"#####################################################\")\n",
    "\n",
    "print(\"And some other types we may see later in the course...\")\n",
    "print(type(\"2.2\"))       # str (string or text)\n",
    "print(type([1,2,3]))     # list\n",
    "print(type((1,2,3)))     # tuple\n",
    "print(type({1,2}))       # set\n",
    "print(type({1:42}))      # dict (dictionary or map)\n",
    "print(type(2+3j))        # complex  (complex number)\n",
    "print(type(f))           # A function is also a value!"
   ]
  },
  {
   "cell_type": "markdown",
   "id": "1bb6ed1c",
   "metadata": {},
   "source": [
    "Some Builtin Constants"
   ]
  },
  {
   "cell_type": "code",
   "execution_count": 2,
   "id": "08eb2ca5",
   "metadata": {
    "ExecuteTime": {
     "end_time": "2022-10-11T11:23:22.031165Z",
     "start_time": "2022-10-11T11:23:22.020605Z"
    }
   },
   "outputs": [
    {
     "name": "stdout",
     "output_type": "stream",
     "text": [
      "Some builtin constants:\n",
      "True\n",
      "False\n",
      "None\n",
      "And some more constants in the math module:\n",
      "3.141592653589793\n",
      "2.718281828459045\n"
     ]
    }
   ],
   "source": [
    "print(\"Some builtin constants:\")\n",
    "print(True)\n",
    "print(False)\n",
    "print(None)\n",
    "\n",
    "print(\"And some more constants in the math module:\")\n",
    "import math\n",
    "print(math.pi)\n",
    "print(math.e)"
   ]
  },
  {
   "cell_type": "markdown",
   "id": "be379c61",
   "metadata": {},
   "source": [
    "Some Builtin Operators\n",
    "\n",
    "- Arithmetic: +, -, *, /, //, **, %, - (unary), + (unary)\n",
    "- Relational: <, <=, >=, >, ==, !=\n",
    "- Assignment: +=, -=, *=, /=, //=, **=, %=, <<=, >>=\n",
    "- Logical: and, or, not\n",
    "\n",
    "Note: for now at least, we are not covering the bitwise operators (<<, >>, &, |, ^, ~, &=, |=, ^=)."
   ]
  },
  {
   "cell_type": "markdown",
   "id": "31fe070e",
   "metadata": {},
   "source": [
    "Integer Division (//)\n",
    "\n",
    "Note: This operator is very useful on the homework, so spend some time experimenting with how it works!"
   ]
  },
  {
   "cell_type": "code",
   "execution_count": 3,
   "id": "69cb4b9d",
   "metadata": {
    "ExecuteTime": {
     "end_time": "2022-10-11T11:24:22.106804Z",
     "start_time": "2022-10-11T11:24:22.088804Z"
    }
   },
   "outputs": [
    {
     "name": "stdout",
     "output_type": "stream",
     "text": [
      "The / operator does 'normal' float division:\n",
      " 5/3  = 1.6666666666666667\n",
      "\n",
      "The // operator does integer division:\n",
      " 5//3 = 1\n",
      " 2//3 = 0\n",
      "-1//3 = -1\n",
      "-4//3 = -2\n"
     ]
    }
   ],
   "source": [
    "print(\"The / operator does 'normal' float division:\")\n",
    "print(\" 5/3  =\", ( 5/3))\n",
    "print()\n",
    "print(\"The // operator does integer division:\")\n",
    "print(\" 5//3 =\", ( 5//3))\n",
    "print(\" 2//3 =\", ( 2//3))\n",
    "print(\"-1//3 =\", (-1//3))\n",
    "print(\"-4//3 =\", (-4//3))"
   ]
  },
  {
   "cell_type": "markdown",
   "id": "523c1606",
   "metadata": {},
   "source": [
    "The Modulus or Remainder Operator (%)\n",
    "\n",
    "Note: This is another very useful operator. It's worth taking the time to try it out."
   ]
  },
  {
   "cell_type": "code",
   "execution_count": 4,
   "id": "d991607a",
   "metadata": {
    "ExecuteTime": {
     "end_time": "2022-10-11T11:24:44.121545Z",
     "start_time": "2022-10-11T11:24:43.777776Z"
    }
   },
   "outputs": [
    {
     "name": "stdout",
     "output_type": "stream",
     "text": [
      " 6%3 = 0\n",
      " 5%3 = 2\n",
      " 2%3 = 2\n",
      " 0%3 = 0\n",
      "-4%3 = 2\n"
     ]
    },
    {
     "ename": "ZeroDivisionError",
     "evalue": "integer division or modulo by zero",
     "output_type": "error",
     "traceback": [
      "\u001b[1;31m---------------------------------------------------------------------------\u001b[0m",
      "\u001b[1;31mZeroDivisionError\u001b[0m                         Traceback (most recent call last)",
      "Input \u001b[1;32mIn [4]\u001b[0m, in \u001b[0;36m<cell line: 6>\u001b[1;34m()\u001b[0m\n\u001b[0;32m      4\u001b[0m \u001b[38;5;28mprint\u001b[39m(\u001b[38;5;124m\"\u001b[39m\u001b[38;5;124m 0\u001b[39m\u001b[38;5;124m%\u001b[39m\u001b[38;5;124m3 =\u001b[39m\u001b[38;5;124m\"\u001b[39m, ( \u001b[38;5;241m0\u001b[39m\u001b[38;5;241m%\u001b[39m\u001b[38;5;241m3\u001b[39m))\n\u001b[0;32m      5\u001b[0m \u001b[38;5;28mprint\u001b[39m(\u001b[38;5;124m\"\u001b[39m\u001b[38;5;124m-4\u001b[39m\u001b[38;5;124m%\u001b[39m\u001b[38;5;124m3 =\u001b[39m\u001b[38;5;124m\"\u001b[39m, (\u001b[38;5;241m-\u001b[39m\u001b[38;5;241m4\u001b[39m\u001b[38;5;241m%\u001b[39m\u001b[38;5;241m3\u001b[39m))\n\u001b[1;32m----> 6\u001b[0m \u001b[38;5;28mprint\u001b[39m(\u001b[38;5;124m\"\u001b[39m\u001b[38;5;124m 3\u001b[39m\u001b[38;5;124m%\u001b[39m\u001b[38;5;124m0 =\u001b[39m\u001b[38;5;124m\"\u001b[39m, ( \u001b[38;5;241;43m3\u001b[39;49m\u001b[38;5;241;43m%\u001b[39;49m\u001b[38;5;241;43m0\u001b[39;49m))\n",
      "\u001b[1;31mZeroDivisionError\u001b[0m: integer division or modulo by zero"
     ]
    }
   ],
   "source": [
    "print(\" 6%3 =\", ( 6%3))\n",
    "print(\" 5%3 =\", ( 5%3))\n",
    "print(\" 2%3 =\", ( 2%3))\n",
    "print(\" 0%3 =\", ( 0%3))\n",
    "print(\"-4%3 =\", (-4%3))\n",
    "print(\" 3%0 =\", ( 3%0))"
   ]
  },
  {
   "cell_type": "markdown",
   "id": "5e48ce77",
   "metadata": {},
   "source": [
    "More of the Modulus or Remainder Operator (%)\n",
    "\n",
    "Verify that (a%b) is equivalent to (a - (a//b)*b):\n"
   ]
  },
  {
   "cell_type": "code",
   "execution_count": 5,
   "id": "6bf27f7c",
   "metadata": {
    "ExecuteTime": {
     "end_time": "2022-10-11T11:25:07.928845Z",
     "start_time": "2022-10-11T11:25:07.913365Z"
    }
   },
   "outputs": [
    {
     "name": "stdout",
     "output_type": "stream",
     "text": [
      "13 13\n",
      "14 14\n",
      "4 4\n",
      "-4 -4\n"
     ]
    }
   ],
   "source": [
    "def mod(a, b):\n",
    "  return a - (a//b)*b\n",
    "\n",
    "print(41%14, mod(41,14))\n",
    "print(14%41, mod(14,41))\n",
    "print(-32%9, mod(-32,9))\n",
    "print(32%-9, mod(32,-9))"
   ]
  },
  {
   "cell_type": "markdown",
   "id": "71702db7",
   "metadata": {},
   "source": [
    "Types Affect Semantics\n",
    "\n",
    "Operators behave differently depending on the data types they interact with"
   ]
  },
  {
   "cell_type": "code",
   "execution_count": 6,
   "id": "a2ec28b2",
   "metadata": {
    "ExecuteTime": {
     "end_time": "2022-10-11T11:25:33.290630Z",
     "start_time": "2022-10-11T11:25:33.267932Z"
    }
   },
   "outputs": [
    {
     "name": "stdout",
     "output_type": "stream",
     "text": [
      "6\n",
      "abcabcabc\n",
      "5\n",
      "abcdef\n"
     ]
    },
    {
     "ename": "TypeError",
     "evalue": "unsupported operand type(s) for +: 'int' and 'str'",
     "output_type": "error",
     "traceback": [
      "\u001b[1;31m---------------------------------------------------------------------------\u001b[0m",
      "\u001b[1;31mTypeError\u001b[0m                                 Traceback (most recent call last)",
      "Input \u001b[1;32mIn [6]\u001b[0m, in \u001b[0;36m<cell line: 5>\u001b[1;34m()\u001b[0m\n\u001b[0;32m      3\u001b[0m \u001b[38;5;28mprint\u001b[39m(\u001b[38;5;241m3\u001b[39m \u001b[38;5;241m+\u001b[39m \u001b[38;5;241m2\u001b[39m)\n\u001b[0;32m      4\u001b[0m \u001b[38;5;28mprint\u001b[39m(\u001b[38;5;124m\"\u001b[39m\u001b[38;5;124mabc\u001b[39m\u001b[38;5;124m\"\u001b[39m \u001b[38;5;241m+\u001b[39m \u001b[38;5;124m\"\u001b[39m\u001b[38;5;124mdef\u001b[39m\u001b[38;5;124m\"\u001b[39m)\n\u001b[1;32m----> 5\u001b[0m \u001b[38;5;28mprint\u001b[39m(\u001b[38;5;241;43m3\u001b[39;49m\u001b[43m \u001b[49m\u001b[38;5;241;43m+\u001b[39;49m\u001b[43m \u001b[49m\u001b[38;5;124;43m\"\u001b[39;49m\u001b[38;5;124;43mdef\u001b[39;49m\u001b[38;5;124;43m\"\u001b[39;49m)\n",
      "\u001b[1;31mTypeError\u001b[0m: unsupported operand type(s) for +: 'int' and 'str'"
     ]
    }
   ],
   "source": [
    "print(3 * 2)\n",
    "print(3 * \"abc\")\n",
    "print(3 + 2)\n",
    "print(\"abc\" + \"def\")\n",
    "print(3 + \"def\")"
   ]
  },
  {
   "cell_type": "markdown",
   "id": "7e14a29d",
   "metadata": {},
   "source": [
    "Operator Order (Precedence and Associativity)"
   ]
  },
  {
   "cell_type": "code",
   "execution_count": 7,
   "id": "d3d5896f",
   "metadata": {
    "ExecuteTime": {
     "end_time": "2022-10-11T11:26:04.325424Z",
     "start_time": "2022-10-11T11:26:04.309424Z"
    },
    "scrolled": true
   },
   "outputs": [
    {
     "name": "stdout",
     "output_type": "stream",
     "text": [
      "Precedence:\n",
      "14\n",
      "6\n",
      "32\n",
      "\n",
      "Associativity:\n",
      "-2\n",
      "262144\n"
     ]
    }
   ],
   "source": [
    "print(\"Precedence:\")\n",
    "print(2+3*4)  # prints 14, not 20\n",
    "print(5+4%3)  # prints  6, not 0 (% has same precedence as *, /, and //)\n",
    "print(2**3*4) # prints 32, not 4096 (** has higher precedence than *, /, //, and %)\n",
    "\n",
    "print()\n",
    "\n",
    "print(\"Associativity:\")\n",
    "print(5-4-3)   # prints -2, not 4 (- associates left-to-right)\n",
    "print(4**3**2) # prints 262144, not 4096 (** associates right-to-left)"
   ]
  },
  {
   "cell_type": "markdown",
   "id": "5dd0be24",
   "metadata": {
    "ExecuteTime": {
     "end_time": "2022-10-11T11:31:13.029948Z",
     "start_time": "2022-10-11T11:31:13.023949Z"
    }
   },
   "source": [
    "Approximate Values of Floating-Point Numbers  "
   ]
  },
  {
   "cell_type": "code",
   "execution_count": 9,
   "id": "e4d16936",
   "metadata": {
    "ExecuteTime": {
     "end_time": "2022-10-11T11:31:21.661801Z",
     "start_time": "2022-10-11T11:31:21.651880Z"
    }
   },
   "outputs": [
    {
     "name": "stdout",
     "output_type": "stream",
     "text": [
      "True\n",
      "False\n",
      "0.30000000000000004\n",
      "5.551115123125783e-17\n"
     ]
    }
   ],
   "source": [
    "print(0.1 + 0.1 == 0.2)        # True, but...\n",
    "print(0.1 + 0.1 + 0.1 == 0.3)  # False!\n",
    "print(0.1 + 0.1 + 0.1)         # prints 0.30000000000000004 (uh oh)\n",
    "print((0.1 + 0.1 + 0.1) - 0.3) # prints 5.55111512313e-17 (tiny, but non-zero!)"
   ]
  },
  {
   "cell_type": "markdown",
   "id": "9168540a",
   "metadata": {},
   "source": [
    "Equality Testing with almostEqual:\n"
   ]
  },
  {
   "cell_type": "code",
   "execution_count": 10,
   "id": "50a05a36",
   "metadata": {
    "ExecuteTime": {
     "end_time": "2022-10-11T11:31:36.693268Z",
     "start_time": "2022-10-11T11:31:36.682906Z"
    }
   },
   "outputs": [
    {
     "name": "stdout",
     "output_type": "stream",
     "text": [
      "The problem....\n",
      "False\n",
      "\n",
      "The solution...\n",
      "True\n",
      "\n",
      "Once again, using a useful helper function, almostEqual:\n",
      "False\n",
      "True\n"
     ]
    }
   ],
   "source": [
    "print(\"The problem....\")\n",
    "d1 = 0.1 + 0.1 + 0.1\n",
    "d2 = 0.3\n",
    "print(d1 == d2)                # False (never use == with floats!)\n",
    "\n",
    "print()\n",
    "print(\"The solution...\")\n",
    "epsilon = 10**-10\n",
    "print(abs(d2 - d1) < epsilon)  # True!\n",
    "\n",
    "print()\n",
    "print(\"Once again, using a useful helper function, almostEqual:\")\n",
    "\n",
    "def almostEqual(d1, d2):\n",
    "    epsilon = 10**-10\n",
    "    return (abs(d2 - d1) < epsilon)\n",
    "\n",
    "d1 = 0.1 + 0.1 + 0.1\n",
    "d2 = 0.3\n",
    "print(d1 == d2)            # still False, of course\n",
    "print(almostEqual(d1, d2)) # True, and now packaged in a handy reusable function!"
   ]
  },
  {
   "cell_type": "markdown",
   "id": "ac3f81f0",
   "metadata": {
    "ExecuteTime": {
     "end_time": "2022-10-11T11:31:45.597776Z",
     "start_time": "2022-10-11T11:31:45.592776Z"
    }
   },
   "source": [
    "Short-Circuit Evaluation"
   ]
  },
  {
   "cell_type": "code",
   "execution_count": 12,
   "id": "4c58c158",
   "metadata": {
    "ExecuteTime": {
     "end_time": "2022-10-11T11:31:53.262990Z",
     "start_time": "2022-10-11T11:31:53.236764Z"
    }
   },
   "outputs": [
    {
     "name": "stdout",
     "output_type": "stream",
     "text": [
      "False\n"
     ]
    },
    {
     "ename": "ZeroDivisionError",
     "evalue": "division by zero",
     "output_type": "error",
     "traceback": [
      "\u001b[1;31m---------------------------------------------------------------------------\u001b[0m",
      "\u001b[1;31mZeroDivisionError\u001b[0m                         Traceback (most recent call last)",
      "Input \u001b[1;32mIn [12]\u001b[0m, in \u001b[0;36m<cell line: 11>\u001b[1;34m()\u001b[0m\n\u001b[0;32m      8\u001b[0m     \u001b[38;5;28;01mreturn\u001b[39;00m \u001b[38;5;241m1\u001b[39m\u001b[38;5;241m/\u001b[39m\u001b[38;5;241m0\u001b[39m \u001b[38;5;66;03m# crashes!\u001b[39;00m\n\u001b[0;32m     10\u001b[0m \u001b[38;5;28mprint\u001b[39m(no() \u001b[38;5;129;01mand\u001b[39;00m crash()) \u001b[38;5;66;03m# Works!\u001b[39;00m\n\u001b[1;32m---> 11\u001b[0m \u001b[38;5;28mprint\u001b[39m(\u001b[43mcrash\u001b[49m\u001b[43m(\u001b[49m\u001b[43m)\u001b[49m \u001b[38;5;129;01mand\u001b[39;00m no()) \u001b[38;5;66;03m# Crashes!\u001b[39;00m\n\u001b[0;32m     12\u001b[0m \u001b[38;5;28mprint\u001b[39m (yes() \u001b[38;5;129;01mand\u001b[39;00m crash())\n",
      "Input \u001b[1;32mIn [12]\u001b[0m, in \u001b[0;36mcrash\u001b[1;34m()\u001b[0m\n\u001b[0;32m      7\u001b[0m \u001b[38;5;28;01mdef\u001b[39;00m \u001b[38;5;21mcrash\u001b[39m():\n\u001b[1;32m----> 8\u001b[0m     \u001b[38;5;28;01mreturn\u001b[39;00m \u001b[38;5;241;43m1\u001b[39;49m\u001b[38;5;241;43m/\u001b[39;49m\u001b[38;5;241;43m0\u001b[39;49m\n",
      "\u001b[1;31mZeroDivisionError\u001b[0m: division by zero"
     ]
    }
   ],
   "source": [
    "def yes():\n",
    "    return True\n",
    "\n",
    "def no():\n",
    "    return False\n",
    "\n",
    "def crash():\n",
    "    return 1/0 # crashes!\n",
    "\n",
    "print(no() and crash()) # Works!\n",
    "print(crash() and no()) # Crashes!\n",
    "print (yes() and crash()) # Never runs (due to crash), but would also crash (without short-circuiting)"
   ]
  },
  {
   "cell_type": "markdown",
   "id": "e1f47344",
   "metadata": {},
   "source": [
    "Once again, using the \"or\" operator:\n"
   ]
  },
  {
   "cell_type": "code",
   "execution_count": 13,
   "id": "5a18c4bc",
   "metadata": {
    "ExecuteTime": {
     "end_time": "2022-10-11T11:32:11.189466Z",
     "start_time": "2022-10-11T11:32:11.164742Z"
    }
   },
   "outputs": [
    {
     "name": "stdout",
     "output_type": "stream",
     "text": [
      "True\n"
     ]
    },
    {
     "ename": "ZeroDivisionError",
     "evalue": "division by zero",
     "output_type": "error",
     "traceback": [
      "\u001b[1;31m---------------------------------------------------------------------------\u001b[0m",
      "\u001b[1;31mZeroDivisionError\u001b[0m                         Traceback (most recent call last)",
      "Input \u001b[1;32mIn [13]\u001b[0m, in \u001b[0;36m<cell line: 11>\u001b[1;34m()\u001b[0m\n\u001b[0;32m      8\u001b[0m     \u001b[38;5;28;01mreturn\u001b[39;00m \u001b[38;5;241m1\u001b[39m\u001b[38;5;241m/\u001b[39m\u001b[38;5;241m0\u001b[39m \u001b[38;5;66;03m# crashes!\u001b[39;00m\n\u001b[0;32m     10\u001b[0m \u001b[38;5;28mprint\u001b[39m(yes() \u001b[38;5;129;01mor\u001b[39;00m crash()) \u001b[38;5;66;03m# Works!\u001b[39;00m\n\u001b[1;32m---> 11\u001b[0m \u001b[38;5;28mprint\u001b[39m(\u001b[43mcrash\u001b[49m\u001b[43m(\u001b[49m\u001b[43m)\u001b[49m \u001b[38;5;129;01mor\u001b[39;00m yes()) \u001b[38;5;66;03m# Crashes!\u001b[39;00m\n\u001b[0;32m     12\u001b[0m \u001b[38;5;28mprint\u001b[39m(no() \u001b[38;5;129;01mor\u001b[39;00m crash())\n",
      "Input \u001b[1;32mIn [13]\u001b[0m, in \u001b[0;36mcrash\u001b[1;34m()\u001b[0m\n\u001b[0;32m      7\u001b[0m \u001b[38;5;28;01mdef\u001b[39;00m \u001b[38;5;21mcrash\u001b[39m():\n\u001b[1;32m----> 8\u001b[0m     \u001b[38;5;28;01mreturn\u001b[39;00m \u001b[38;5;241;43m1\u001b[39;49m\u001b[38;5;241;43m/\u001b[39;49m\u001b[38;5;241;43m0\u001b[39;49m\n",
      "\u001b[1;31mZeroDivisionError\u001b[0m: division by zero"
     ]
    }
   ],
   "source": [
    "def yes():\n",
    "    return True\n",
    "\n",
    "def no():\n",
    "    return False\n",
    "\n",
    "def crash():\n",
    "    return 1/0 # crashes!\n",
    "\n",
    "print(yes() or crash()) # Works!\n",
    "print(crash() or yes()) # Crashes!\n",
    "print(no() or crash())  # Never runs (due to crash), but would also crash (without short-circuiting)"
   ]
  },
  {
   "cell_type": "markdown",
   "id": "baed9c84",
   "metadata": {},
   "source": [
    "Yet another example:\n"
   ]
  },
  {
   "cell_type": "code",
   "execution_count": 14,
   "id": "daaf159f",
   "metadata": {
    "ExecuteTime": {
     "end_time": "2022-10-11T11:32:29.065390Z",
     "start_time": "2022-10-11T11:32:29.059808Z"
    },
    "scrolled": true
   },
   "outputs": [
    {
     "name": "stdout",
     "output_type": "stream",
     "text": [
      "Test 1: isEven(-4) and isPositive(-4))\n",
      "isEven( -4 ) = True\n",
      "isPositive( -4 ) = False\n",
      "False\n",
      "----------\n",
      "Test 2: isEven(-3) and isPositive(-3)\n",
      "isEven( -3 ) = False\n",
      "False\n"
     ]
    }
   ],
   "source": [
    "def isPositive(n):\n",
    "    result = (n > 0)\n",
    "    print(\"isPositive(\",n,\") =\", result)\n",
    "    return result\n",
    "\n",
    "def isEven(n):\n",
    "    result = (n % 2 == 0)\n",
    "    print(\"isEven(\",n,\") =\", result)\n",
    "    return result\n",
    "\n",
    "print(\"Test 1: isEven(-4) and isPositive(-4))\")\n",
    "print(isEven(-4) and isPositive(-4)) # Calls both functions\n",
    "print(\"----------\")\n",
    "print(\"Test 2: isEven(-3) and isPositive(-3)\")\n",
    "print(isEven(-3) and isPositive(-3)) # Calls only one function!"
   ]
  },
  {
   "cell_type": "markdown",
   "id": "d20265e6",
   "metadata": {},
   "source": [
    "type vs isinstance\n"
   ]
  },
  {
   "cell_type": "code",
   "execution_count": 15,
   "id": "15a5a05d",
   "metadata": {
    "ExecuteTime": {
     "end_time": "2022-10-11T11:32:49.564628Z",
     "start_time": "2022-10-11T11:32:49.551629Z"
    }
   },
   "outputs": [
    {
     "name": "stdout",
     "output_type": "stream",
     "text": [
      "True\n",
      "True\n",
      "True True False False\n",
      "True True True False\n"
     ]
    }
   ],
   "source": [
    "# Both type and isinstance can be used to type-check\n",
    "# In general, (isinstance(x, T)) will be more robust than (type(x) == T)\n",
    "\n",
    "print(type(\"abc\") == str)\n",
    "print(isinstance(\"abc\", str))\n",
    "\n",
    "# We'll see better reasons for this when we cover OOP + inheritance later\n",
    "# in the course.  For now, here is one reason:  say you wanted to check\n",
    "# if a value is any kind of number (int, float, complex, etc). \n",
    "# You could do:\n",
    "\n",
    "def isNumber(x):\n",
    "    return ((type(x) == int) or\n",
    "            (type(x) == float)) # are we sure this is ALL kinds of numbers?\n",
    "\n",
    "print(isNumber(1), isNumber(1.1), isNumber(1+2j), isNumber(\"wow\"))\n",
    "\n",
    "# But this is cleaner, and works for all kinds of numbers, including\n",
    "# complex numbers for example:\n",
    "\n",
    "import numbers\n",
    "def isNumber(x):\n",
    "    return isinstance(x, numbers.Number) # works for any kind of number\n",
    "\n",
    "print(isNumber(1), isNumber(1.1), isNumber(1+2j), isNumber(\"wow\"))"
   ]
  }
 ],
 "metadata": {
  "kernelspec": {
   "display_name": "Python 3 (ipykernel)",
   "language": "python",
   "name": "python3"
  },
  "language_info": {
   "codemirror_mode": {
    "name": "ipython",
    "version": 3
   },
   "file_extension": ".py",
   "mimetype": "text/x-python",
   "name": "python",
   "nbconvert_exporter": "python",
   "pygments_lexer": "ipython3",
   "version": "3.9.13"
  },
  "latex_envs": {
   "LaTeX_envs_menu_present": true,
   "autoclose": false,
   "autocomplete": true,
   "bibliofile": "biblio.bib",
   "cite_by": "apalike",
   "current_citInitial": 1,
   "eqLabelWithNumbers": true,
   "eqNumInitial": 1,
   "hotkeys": {
    "equation": "Ctrl-E",
    "itemize": "Ctrl-I"
   },
   "labels_anchors": false,
   "latex_user_defs": false,
   "report_style_numbering": false,
   "user_envs_cfg": false
  },
  "varInspector": {
   "cols": {
    "lenName": 16,
    "lenType": 16,
    "lenVar": 40
   },
   "kernels_config": {
    "python": {
     "delete_cmd_postfix": "",
     "delete_cmd_prefix": "del ",
     "library": "var_list.py",
     "varRefreshCmd": "print(var_dic_list())"
    },
    "r": {
     "delete_cmd_postfix": ") ",
     "delete_cmd_prefix": "rm(",
     "library": "var_list.r",
     "varRefreshCmd": "cat(var_dic_list()) "
    }
   },
   "types_to_exclude": [
    "module",
    "function",
    "builtin_function_or_method",
    "instance",
    "_Feature"
   ],
   "window_display": false
  }
 },
 "nbformat": 4,
 "nbformat_minor": 5
}
