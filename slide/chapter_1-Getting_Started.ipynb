{
 "cells": [
  {
   "cell_type": "markdown",
   "id": "2a9bbd2c",
   "metadata": {
    "slideshow": {
     "slide_type": "slide"
    }
   },
   "source": [
    "# 聪明办法学 Python 2nd Edition (Beta)\n",
    "## Chapter 1 启航 Getting Started\n",
    "\n",
    "骆秀韬\n",
    "\n",
    "<p>epsilon_luoo@outlook.com</p>"
   ]
  },
  {
   "cell_type": "markdown",
   "id": "5c127a52",
   "metadata": {
    "slideshow": {
     "slide_type": "slide"
    }
   },
   "source": [
    "# 欢迎大家来到 P2S！"
   ]
  },
  {
   "cell_type": "markdown",
   "id": "29684035",
   "metadata": {
    "slideshow": {
     "slide_type": "slide"
    }
   },
   "source": [
    "# 第一行代码"
   ]
  },
  {
   "cell_type": "code",
   "execution_count": 1,
   "id": "9b187328",
   "metadata": {
    "ExecuteTime": {
     "end_time": "2022-10-07T15:24:07.023445Z",
     "start_time": "2022-10-07T15:24:07.009456Z"
    }
   },
   "outputs": [
    {
     "name": "stdout",
     "output_type": "stream",
     "text": [
      "hello,world\n"
     ]
    }
   ],
   "source": [
    "print(\"hello,world\")"
   ]
  },
  {
   "cell_type": "markdown",
   "id": "dd326c5d",
   "metadata": {
    "slideshow": {
     "slide_type": "slide"
    }
   },
   "source": [
    "# Hello World 的由来"
   ]
  },
  {
   "cell_type": "markdown",
   "id": "98ab00f4",
   "metadata": {
    "ExecuteTime": {
     "end_time": "2022-10-07T15:24:26.944438Z",
     "start_time": "2022-10-07T15:24:26.925296Z"
    },
    "slideshow": {
     "slide_type": "slide"
    }
   },
   "source": [
    "# 注释 Comment"
   ]
  },
  {
   "cell_type": "code",
   "execution_count": 6,
   "id": "b2e587f6",
   "metadata": {
    "ExecuteTime": {
     "end_time": "2022-10-07T15:31:09.017322Z",
     "start_time": "2022-10-07T15:31:09.011784Z"
    },
    "slideshow": {
     "slide_type": "subslide"
    }
   },
   "outputs": [
    {
     "name": "stdout",
     "output_type": "stream",
     "text": [
      "Datawhale\n"
     ]
    }
   ],
   "source": [
    "print(\"Datawhale\") # for the learner，和学习者一起成长"
   ]
  },
  {
   "cell_type": "code",
   "execution_count": 9,
   "id": "57fe02d3",
   "metadata": {
    "ExecuteTime": {
     "end_time": "2022-10-07T15:35:13.650512Z",
     "start_time": "2022-10-07T15:35:13.638790Z"
    },
    "slideshow": {
     "slide_type": "subslide"
    }
   },
   "outputs": [
    {
     "name": "stdout",
     "output_type": "stream",
     "text": [
      "p2s\n"
     ]
    }
   ],
   "source": [
    "# learn python the smart way v2\n",
    "print(\"p2s\")\n",
    "# print(\"prepare to be smart\")"
   ]
  },
  {
   "cell_type": "code",
   "execution_count": 10,
   "id": "b3b799e6",
   "metadata": {
    "ExecuteTime": {
     "end_time": "2022-10-07T15:36:19.472526Z",
     "start_time": "2022-10-07T15:36:19.460526Z"
    },
    "slideshow": {
     "slide_type": "subslide"
    }
   },
   "outputs": [
    {
     "name": "stdout",
     "output_type": "stream",
     "text": [
      "Data\n",
      "whale\n"
     ]
    }
   ],
   "source": [
    "print(\"Data\")\n",
    "print(\"whale\")"
   ]
  },
  {
   "cell_type": "code",
   "execution_count": 19,
   "id": "4b9f9952",
   "metadata": {
    "ExecuteTime": {
     "end_time": "2022-10-07T15:38:25.080703Z",
     "start_time": "2022-10-07T15:38:25.065168Z"
    },
    "slideshow": {
     "slide_type": "subslide"
    }
   },
   "outputs": [
    {
     "name": "stdout",
     "output_type": "stream",
     "text": [
      "Data whale\n"
     ]
    }
   ],
   "source": [
    "print(\"Data\", \"whale\")"
   ]
  },
  {
   "cell_type": "code",
   "execution_count": 23,
   "id": "ebcf08a0",
   "metadata": {
    "ExecuteTime": {
     "end_time": "2022-10-07T15:39:39.670513Z",
     "start_time": "2022-10-07T15:39:39.655514Z"
    },
    "cell_style": "split",
    "slideshow": {
     "slide_type": "subslide"
    }
   },
   "outputs": [
    {
     "name": "stdout",
     "output_type": "stream",
     "text": [
      "Datawhale\n"
     ]
    }
   ],
   "source": [
    "print(\"Data\", end=\"\")\n",
    "print(\"whale\")"
   ]
  },
  {
   "cell_type": "code",
   "execution_count": 24,
   "id": "2d733e71",
   "metadata": {
    "ExecuteTime": {
     "end_time": "2022-10-07T15:39:56.767474Z",
     "start_time": "2022-10-07T15:39:56.753475Z"
    },
    "cell_style": "split",
    "scrolled": false,
    "slideshow": {
     "slide_type": "-"
    }
   },
   "outputs": [
    {
     "name": "stdout",
     "output_type": "stream",
     "text": [
      "Datawhale\n"
     ]
    }
   ],
   "source": [
    "print(\"Data\"+\"whale\")"
   ]
  },
  {
   "cell_type": "code",
   "execution_count": 25,
   "id": "e8c41160",
   "metadata": {
    "ExecuteTime": {
     "end_time": "2022-10-07T15:43:38.272466Z",
     "start_time": "2022-10-07T15:43:38.262468Z"
    },
    "slideshow": {
     "slide_type": "subslide"
    }
   },
   "outputs": [],
   "source": [
    "x = 1\n",
    "y = 2"
   ]
  },
  {
   "cell_type": "code",
   "execution_count": 28,
   "id": "e778f892",
   "metadata": {
    "ExecuteTime": {
     "end_time": "2022-10-07T15:50:16.697632Z",
     "start_time": "2022-10-07T15:50:16.678972Z"
    },
    "slideshow": {
     "slide_type": "fragment"
    }
   },
   "outputs": [
    {
     "name": "stdout",
     "output_type": "stream",
     "text": [
      "A simple math question: \"1 + 2 = ?\", the answer is 3!\n"
     ]
    }
   ],
   "source": [
    "print(f\"A simple math question: \\\"{x} + {y} = ?\\\", the answer is {x+y}!\")"
   ]
  },
  {
   "cell_type": "markdown",
   "id": "433baaef",
   "metadata": {},
   "source": [
    "# 错误 Error"
   ]
  },
  {
   "cell_type": "code",
   "execution_count": 1,
   "id": "d720927c",
   "metadata": {
    "ExecuteTime": {
     "end_time": "2022-10-08T12:43:18.860314Z",
     "start_time": "2022-10-08T12:43:18.837337Z"
    }
   },
   "outputs": [
    {
     "ename": "SyntaxError",
     "evalue": "EOL while scanning string literal (1166504655.py, line 1)",
     "output_type": "error",
     "traceback": [
      "\u001b[1;36m  Input \u001b[1;32mIn [1]\u001b[1;36m\u001b[0m\n\u001b[1;33m    print(\"Uh oh!) # ERROR!  missing close-quote\u001b[0m\n\u001b[1;37m                                                ^\u001b[0m\n\u001b[1;31mSyntaxError\u001b[0m\u001b[1;31m:\u001b[0m EOL while scanning string literal\n"
     ]
    }
   ],
   "source": [
    "print(\"Uh oh!) # ERROR!  missing close-quote"
   ]
  },
  {
   "cell_type": "code",
   "execution_count": 2,
   "id": "96603874",
   "metadata": {
    "ExecuteTime": {
     "end_time": "2022-10-08T12:44:00.472425Z",
     "start_time": "2022-10-08T12:44:00.054198Z"
    }
   },
   "outputs": [
    {
     "ename": "ZeroDivisionError",
     "evalue": "division by zero",
     "output_type": "error",
     "traceback": [
      "\u001b[1;31m---------------------------------------------------------------------------\u001b[0m",
      "\u001b[1;31mZeroDivisionError\u001b[0m                         Traceback (most recent call last)",
      "Input \u001b[1;32mIn [2]\u001b[0m, in \u001b[0;36m<cell line: 1>\u001b[1;34m()\u001b[0m\n\u001b[1;32m----> 1\u001b[0m \u001b[38;5;28mprint\u001b[39m(\u001b[38;5;241;43m1\u001b[39;49m\u001b[38;5;241;43m/\u001b[39;49m\u001b[38;5;241;43m0\u001b[39;49m)\n",
      "\u001b[1;31mZeroDivisionError\u001b[0m: division by zero"
     ]
    }
   ],
   "source": [
    "print(1/0) # ERROR!  Division by zero!"
   ]
  },
  {
   "cell_type": "code",
   "execution_count": 3,
   "id": "b1656e37",
   "metadata": {
    "ExecuteTime": {
     "end_time": "2022-10-08T12:44:13.259056Z",
     "start_time": "2022-10-08T12:44:13.253056Z"
    }
   },
   "outputs": [
    {
     "name": "stdout",
     "output_type": "stream",
     "text": [
      "2+2=5\n"
     ]
    }
   ],
   "source": [
    "print(\"2+2=5\") # ERROR!  Untrue!!!"
   ]
  },
  {
   "cell_type": "markdown",
   "id": "7fc64d18",
   "metadata": {},
   "source": [
    "# 基础的控制台输入 Basic Console Output"
   ]
  },
  {
   "cell_type": "code",
   "execution_count": 4,
   "id": "e722cc6e",
   "metadata": {
    "ExecuteTime": {
     "end_time": "2022-10-08T12:54:02.229529Z",
     "start_time": "2022-10-08T12:53:52.018605Z"
    }
   },
   "outputs": [
    {
     "name": "stdout",
     "output_type": "stream",
     "text": [
      "Enter your name: epsilon\n",
      "Your name is: epsilon\n"
     ]
    }
   ],
   "source": [
    "name = input(\"Enter your name: \")\n",
    "print(\"Your name is:\", name)"
   ]
  },
  {
   "cell_type": "code",
   "execution_count": 5,
   "id": "5c1c08e3",
   "metadata": {
    "ExecuteTime": {
     "end_time": "2022-10-08T12:54:17.472503Z",
     "start_time": "2022-10-08T12:54:14.996463Z"
    }
   },
   "outputs": [
    {
     "name": "stdout",
     "output_type": "stream",
     "text": [
      "Enter a number: 10\n"
     ]
    },
    {
     "ename": "TypeError",
     "evalue": "unsupported operand type(s) for /: 'str' and 'int'",
     "output_type": "error",
     "traceback": [
      "\u001b[1;31m---------------------------------------------------------------------------\u001b[0m",
      "\u001b[1;31mTypeError\u001b[0m                                 Traceback (most recent call last)",
      "Input \u001b[1;32mIn [5]\u001b[0m, in \u001b[0;36m<cell line: 2>\u001b[1;34m()\u001b[0m\n\u001b[0;32m      1\u001b[0m x \u001b[38;5;241m=\u001b[39m \u001b[38;5;28minput\u001b[39m(\u001b[38;5;124m\"\u001b[39m\u001b[38;5;124mEnter a number: \u001b[39m\u001b[38;5;124m\"\u001b[39m)\n\u001b[1;32m----> 2\u001b[0m \u001b[38;5;28mprint\u001b[39m(\u001b[38;5;124m\"\u001b[39m\u001b[38;5;124mOne half of\u001b[39m\u001b[38;5;124m\"\u001b[39m, x, \u001b[38;5;124m\"\u001b[39m\u001b[38;5;124m=\u001b[39m\u001b[38;5;124m\"\u001b[39m, \u001b[43mx\u001b[49m\u001b[38;5;241;43m/\u001b[39;49m\u001b[38;5;241;43m2\u001b[39;49m)\n",
      "\u001b[1;31mTypeError\u001b[0m: unsupported operand type(s) for /: 'str' and 'int'"
     ]
    }
   ],
   "source": [
    "x = input(\"Enter a number: \")\n",
    "print(\"One half of\", x, \"=\", x/2) # Error!"
   ]
  },
  {
   "cell_type": "code",
   "execution_count": 6,
   "id": "ad2a8e2b",
   "metadata": {
    "ExecuteTime": {
     "end_time": "2022-10-08T12:54:27.098297Z",
     "start_time": "2022-10-08T12:54:25.432322Z"
    }
   },
   "outputs": [
    {
     "name": "stdout",
     "output_type": "stream",
     "text": [
      "Enter a number: 10\n",
      "One half of 10 = 5.0\n"
     ]
    }
   ],
   "source": [
    "x = int(input(\"Enter a number: \"))\n",
    "print(\"One half of\", x, \"=\", x/2)"
   ]
  },
  {
   "cell_type": "markdown",
   "id": "01111c07",
   "metadata": {},
   "source": [
    "# 导入模块"
   ]
  },
  {
   "cell_type": "code",
   "execution_count": 7,
   "id": "4aeaa8b1",
   "metadata": {
    "ExecuteTime": {
     "end_time": "2022-10-08T12:56:31.556417Z",
     "start_time": "2022-10-08T12:56:31.529417Z"
    }
   },
   "outputs": [
    {
     "ename": "NameError",
     "evalue": "name 'math' is not defined",
     "output_type": "error",
     "traceback": [
      "\u001b[1;31m---------------------------------------------------------------------------\u001b[0m",
      "\u001b[1;31mNameError\u001b[0m                                 Traceback (most recent call last)",
      "Input \u001b[1;32mIn [7]\u001b[0m, in \u001b[0;36m<cell line: 1>\u001b[1;34m()\u001b[0m\n\u001b[1;32m----> 1\u001b[0m \u001b[38;5;28mprint\u001b[39m(\u001b[43mmath\u001b[49m\u001b[38;5;241m.\u001b[39mfactorial(\u001b[38;5;241m20\u001b[39m))\n",
      "\u001b[1;31mNameError\u001b[0m: name 'math' is not defined"
     ]
    }
   ],
   "source": [
    "print(math.factorial(20))  # we did not first import the math module\n",
    "# Python output:\n",
    "#   NameError: name 'math' is not defined"
   ]
  },
  {
   "cell_type": "code",
   "execution_count": 8,
   "id": "e0e0c01a",
   "metadata": {
    "ExecuteTime": {
     "end_time": "2022-10-08T12:56:48.629268Z",
     "start_time": "2022-10-08T12:56:48.625267Z"
    }
   },
   "outputs": [
    {
     "name": "stdout",
     "output_type": "stream",
     "text": [
      "2432902008176640000\n"
     ]
    }
   ],
   "source": [
    "import math\n",
    "print(math.factorial(20))  # much better...\n",
    "\n",
    "# Note that the module name is included before the function name, separated by a .\n",
    "# A function called from a module like this is more precisely known as a \"method.\"\n",
    "# We'll explain functions this week, and more about methods in a future week!"
   ]
  }
 ],
 "metadata": {
  "celltoolbar": "幻灯片",
  "gist": {
   "data": {
    "description": "slide/chapter_1-Getting_Started.ipynb",
    "public": false
   },
   "id": ""
  },
  "kernelspec": {
   "display_name": "Python 3 (ipykernel)",
   "language": "python",
   "name": "python3"
  },
  "language_info": {
   "codemirror_mode": {
    "name": "ipython",
    "version": 3
   },
   "file_extension": ".py",
   "mimetype": "text/x-python",
   "name": "python",
   "nbconvert_exporter": "python",
   "pygments_lexer": "ipython3",
   "version": "3.9.13"
  },
  "rise": {
   "overlay": "<div class='my-top-right'><img height=80px src='https://avatars.githubusercontent.com/u/46047812?s=200&v=4'/></div><div class='my-top-left'></div>"
  },
  "varInspector": {
   "cols": {
    "lenName": 16,
    "lenType": 16,
    "lenVar": 40
   },
   "kernels_config": {
    "python": {
     "delete_cmd_postfix": "",
     "delete_cmd_prefix": "del ",
     "library": "var_list.py",
     "varRefreshCmd": "print(var_dic_list())"
    },
    "r": {
     "delete_cmd_postfix": ") ",
     "delete_cmd_prefix": "rm(",
     "library": "var_list.r",
     "varRefreshCmd": "cat(var_dic_list()) "
    }
   },
   "types_to_exclude": [
    "module",
    "function",
    "builtin_function_or_method",
    "instance",
    "_Feature"
   ],
   "window_display": false
  }
 },
 "nbformat": 4,
 "nbformat_minor": 5
}
